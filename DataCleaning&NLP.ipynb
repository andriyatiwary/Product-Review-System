{
 "cells": [
  {
   "cell_type": "code",
   "execution_count": 4,
   "metadata": {},
   "outputs": [],
   "source": [
    "import numpy as np\n",
    "import pandas as pd\n",
    "import matplotlib.pyplot as plt\n",
    "import seaborn as sns\n",
    "import string\n",
    "import nltk\n",
    "from nltk.corpus import stopwords\n",
    "from wordcloud import WordCloud\n",
    "import string   \n",
    "import re"
   ]
  },
  {
   "cell_type": "code",
   "execution_count": 15,
   "metadata": {},
   "outputs": [
    {
     "name": "stdout",
     "output_type": "stream",
     "text": [
      "Requirement already satisfied: nltk in c:\\users\\andriya tiwary\\anaconda3\\lib\\site-packages (3.4.5)\n",
      "Requirement already satisfied: six in c:\\users\\andriya tiwary\\anaconda3\\lib\\site-packages (from nltk) (1.14.0)\n"
     ]
    }
   ],
   "source": [
    "!pip install nltk"
   ]
  },
  {
   "cell_type": "code",
   "execution_count": 16,
   "metadata": {},
   "outputs": [
    {
     "name": "stderr",
     "output_type": "stream",
     "text": [
      "[nltk_data] Downloading package stopwords to C:\\Users\\Andriya\n",
      "[nltk_data]     Tiwary\\AppData\\Roaming\\nltk_data...\n",
      "[nltk_data]   Package stopwords is already up-to-date!\n"
     ]
    },
    {
     "data": {
      "text/plain": [
       "True"
      ]
     },
     "execution_count": 16,
     "metadata": {},
     "output_type": "execute_result"
    }
   ],
   "source": [
    "nltk.download('stopwords')"
   ]
  },
  {
   "cell_type": "code",
   "execution_count": 5,
   "metadata": {},
   "outputs": [],
   "source": [
    "pd.set_option('display.max_columns', None)"
   ]
  },
  {
   "cell_type": "code",
   "execution_count": 6,
   "metadata": {},
   "outputs": [
    {
     "data": {
      "text/html": [
       "<div>\n",
       "<style scoped>\n",
       "    .dataframe tbody tr th:only-of-type {\n",
       "        vertical-align: middle;\n",
       "    }\n",
       "\n",
       "    .dataframe tbody tr th {\n",
       "        vertical-align: top;\n",
       "    }\n",
       "\n",
       "    .dataframe thead th {\n",
       "        text-align: right;\n",
       "    }\n",
       "</style>\n",
       "<table border=\"1\" class=\"dataframe\">\n",
       "  <thead>\n",
       "    <tr style=\"text-align: right;\">\n",
       "      <th></th>\n",
       "      <th>mobile_names</th>\n",
       "      <th>asin</th>\n",
       "      <th>title</th>\n",
       "      <th>body</th>\n",
       "      <th>star</th>\n",
       "    </tr>\n",
       "  </thead>\n",
       "  <tbody>\n",
       "    <tr>\n",
       "      <th>0</th>\n",
       "      <td>\\n\\n\\n\\n\\n\\n\\n\\nRedmi 9 (Sky Blue, 4GB RAM, 64...</td>\n",
       "      <td>B08697N43N</td>\n",
       "      <td>\\nDONT BUY THIS MOBILE .\\n</td>\n",
       "      <td>\\n\\n  Don’t buy this product .Image quality is...</td>\n",
       "      <td>1</td>\n",
       "    </tr>\n",
       "    <tr>\n",
       "      <th>1</th>\n",
       "      <td>\\n\\n\\n\\n\\n\\n\\n\\nRedmi 9 (Sky Blue, 4GB RAM, 64...</td>\n",
       "      <td>B08697N43N</td>\n",
       "      <td>\\nRedmi 9 hhoo, 9, 9🤩, 9, changed mind\\n</td>\n",
       "      <td>\\n\\n  Let’s make one thing clear immediately: ...</td>\n",
       "      <td>4</td>\n",
       "    </tr>\n",
       "    <tr>\n",
       "      <th>2</th>\n",
       "      <td>\\n\\n\\n\\n\\n\\n\\n\\nRedmi 9 (Sky Blue, 4GB RAM, 64...</td>\n",
       "      <td>B08697N43N</td>\n",
       "      <td>\\nAwesome\\n</td>\n",
       "      <td>\\n\\n  Awesome\\n\\n</td>\n",
       "      <td>5</td>\n",
       "    </tr>\n",
       "    <tr>\n",
       "      <th>3</th>\n",
       "      <td>\\n\\n\\n\\n\\n\\n\\n\\nRedmi 9 (Sky Blue, 4GB RAM, 64...</td>\n",
       "      <td>B08697N43N</td>\n",
       "      <td>\\nBest in budget\\n</td>\n",
       "      <td>\\n\\n  Best buy at this price! The display qual...</td>\n",
       "      <td>5</td>\n",
       "    </tr>\n",
       "    <tr>\n",
       "      <th>4</th>\n",
       "      <td>\\n\\n\\n\\n\\n\\n\\n\\nRedmi 9 (Sky Blue, 4GB RAM, 64...</td>\n",
       "      <td>B08697N43N</td>\n",
       "      <td>\\nWorst experience\\n</td>\n",
       "      <td>\\n\\n  Very bad experience from Amazon. Very ba...</td>\n",
       "      <td>1</td>\n",
       "    </tr>\n",
       "  </tbody>\n",
       "</table>\n",
       "</div>"
      ],
      "text/plain": [
       "                                        mobile_names        asin  \\\n",
       "0  \\n\\n\\n\\n\\n\\n\\n\\nRedmi 9 (Sky Blue, 4GB RAM, 64...  B08697N43N   \n",
       "1  \\n\\n\\n\\n\\n\\n\\n\\nRedmi 9 (Sky Blue, 4GB RAM, 64...  B08697N43N   \n",
       "2  \\n\\n\\n\\n\\n\\n\\n\\nRedmi 9 (Sky Blue, 4GB RAM, 64...  B08697N43N   \n",
       "3  \\n\\n\\n\\n\\n\\n\\n\\nRedmi 9 (Sky Blue, 4GB RAM, 64...  B08697N43N   \n",
       "4  \\n\\n\\n\\n\\n\\n\\n\\nRedmi 9 (Sky Blue, 4GB RAM, 64...  B08697N43N   \n",
       "\n",
       "                                      title  \\\n",
       "0                \\nDONT BUY THIS MOBILE .\\n   \n",
       "1  \\nRedmi 9 hhoo, 9, 9🤩, 9, changed mind\\n   \n",
       "2                               \\nAwesome\\n   \n",
       "3                        \\nBest in budget\\n   \n",
       "4                      \\nWorst experience\\n   \n",
       "\n",
       "                                                body  star  \n",
       "0  \\n\\n  Don’t buy this product .Image quality is...     1  \n",
       "1  \\n\\n  Let’s make one thing clear immediately: ...     4  \n",
       "2                                  \\n\\n  Awesome\\n\\n     5  \n",
       "3  \\n\\n  Best buy at this price! The display qual...     5  \n",
       "4  \\n\\n  Very bad experience from Amazon. Very ba...     1  "
      ]
     },
     "execution_count": 6,
     "metadata": {},
     "output_type": "execute_result"
    }
   ],
   "source": [
    "df=pd.read_csv('raw_mobile_reviews.csv')\n",
    "df.head()"
   ]
  },
  {
   "cell_type": "code",
   "execution_count": 7,
   "metadata": {},
   "outputs": [],
   "source": [
    "def deEmojify(inputString):               # to remove emojis in the text.\n",
    "    try:\n",
    "        return inputString.encode('ascii', 'ignore').decode('ascii') \n",
    "    except:\n",
    "        return inputString\n",
    "\n",
    "STOPWORDS=stopwords.words(\"english\")    # most common unnecessary words. eg is, he, that, etc\n",
    "\n",
    "def filter_text(text):\n",
    "    text=text.strip('\\n')\n",
    "    text=deEmojify(str(text))\n",
    "    text_cleaned=\"\".join([x for x in text if x not in string.punctuation]) # remove punctuation\n",
    "    \n",
    "    text_cleaned=re.sub(' +', ' ', text_cleaned)    # remove extra white spaces\n",
    " \n",
    "    text_cleaned=text_cleaned.lower()              # converting to lowercase\n",
    "    tokens=text_cleaned.split(\" \")\n",
    "   \n",
    "    tokens=[token for token in tokens if token not in STOPWORDS]       # Taking only those words which are not stopwords\n",
    "    text_cleaned = ' '.join([str(token) for token in tokens]) \n",
    "    \n",
    "    return text_cleaned"
   ]
  },
  {
   "cell_type": "code",
   "execution_count": 8,
   "metadata": {},
   "outputs": [
    {
     "name": "stdout",
     "output_type": "stream",
     "text": [
      "phone awesome display quality battery backup good \n"
     ]
    }
   ],
   "source": [
    "print(filter_text('This phone is awesome!. But the display quality and battery backup is not good. '))"
   ]
  },
  {
   "cell_type": "code",
   "execution_count": 9,
   "metadata": {},
   "outputs": [],
   "source": [
    "df['body']=df['body'].apply(lambda x:filter_text(x))\n",
    "df['mobile_names']=df['mobile_names'].apply(lambda x:filter_text(x))"
   ]
  },
  {
   "cell_type": "code",
   "execution_count": 10,
   "metadata": {},
   "outputs": [],
   "source": [
    "df.drop(['title'], axis = 1, inplace=True)"
   ]
  },
  {
   "cell_type": "code",
   "execution_count": 11,
   "metadata": {},
   "outputs": [
    {
     "data": {
      "text/html": [
       "<div>\n",
       "<style scoped>\n",
       "    .dataframe tbody tr th:only-of-type {\n",
       "        vertical-align: middle;\n",
       "    }\n",
       "\n",
       "    .dataframe tbody tr th {\n",
       "        vertical-align: top;\n",
       "    }\n",
       "\n",
       "    .dataframe thead th {\n",
       "        text-align: right;\n",
       "    }\n",
       "</style>\n",
       "<table border=\"1\" class=\"dataframe\">\n",
       "  <thead>\n",
       "    <tr style=\"text-align: right;\">\n",
       "      <th></th>\n",
       "      <th>mobile_names</th>\n",
       "      <th>asin</th>\n",
       "      <th>body</th>\n",
       "      <th>star</th>\n",
       "    </tr>\n",
       "  </thead>\n",
       "  <tbody>\n",
       "    <tr>\n",
       "      <th>0</th>\n",
       "      <td>redmi 9 sky blue 4gb ram 64gb storage 5000 mah...</td>\n",
       "      <td>B08697N43N</td>\n",
       "      <td>dont buy product image quality average compar...</td>\n",
       "      <td>1</td>\n",
       "    </tr>\n",
       "    <tr>\n",
       "      <th>1</th>\n",
       "      <td>redmi 9 sky blue 4gb ram 64gb storage 5000 mah...</td>\n",
       "      <td>B08697N43N</td>\n",
       "      <td>lets make one thing clear immediately xiaomi ...</td>\n",
       "      <td>4</td>\n",
       "    </tr>\n",
       "    <tr>\n",
       "      <th>2</th>\n",
       "      <td>redmi 9 sky blue 4gb ram 64gb storage 5000 mah...</td>\n",
       "      <td>B08697N43N</td>\n",
       "      <td>awesome</td>\n",
       "      <td>5</td>\n",
       "    </tr>\n",
       "    <tr>\n",
       "      <th>3</th>\n",
       "      <td>redmi 9 sky blue 4gb ram 64gb storage 5000 mah...</td>\n",
       "      <td>B08697N43N</td>\n",
       "      <td>best buy price display quality amazing compla...</td>\n",
       "      <td>5</td>\n",
       "    </tr>\n",
       "    <tr>\n",
       "      <th>4</th>\n",
       "      <td>redmi 9 sky blue 4gb ram 64gb storage 5000 mah...</td>\n",
       "      <td>B08697N43N</td>\n",
       "      <td>bad experience amazon bad camera quality phon...</td>\n",
       "      <td>1</td>\n",
       "    </tr>\n",
       "  </tbody>\n",
       "</table>\n",
       "</div>"
      ],
      "text/plain": [
       "                                        mobile_names        asin  \\\n",
       "0  redmi 9 sky blue 4gb ram 64gb storage 5000 mah...  B08697N43N   \n",
       "1  redmi 9 sky blue 4gb ram 64gb storage 5000 mah...  B08697N43N   \n",
       "2  redmi 9 sky blue 4gb ram 64gb storage 5000 mah...  B08697N43N   \n",
       "3  redmi 9 sky blue 4gb ram 64gb storage 5000 mah...  B08697N43N   \n",
       "4  redmi 9 sky blue 4gb ram 64gb storage 5000 mah...  B08697N43N   \n",
       "\n",
       "                                                body  star  \n",
       "0   dont buy product image quality average compar...     1  \n",
       "1   lets make one thing clear immediately xiaomi ...     4  \n",
       "2                                            awesome     5  \n",
       "3   best buy price display quality amazing compla...     5  \n",
       "4   bad experience amazon bad camera quality phon...     1  "
      ]
     },
     "execution_count": 11,
     "metadata": {},
     "output_type": "execute_result"
    }
   ],
   "source": [
    "df.head()"
   ]
  },
  {
   "cell_type": "code",
   "execution_count": 24,
   "metadata": {},
   "outputs": [
    {
     "data": {
      "image/png": "[encoded data removed]",
      "text/plain": [
       "<Figure size 432x288 with 1 Axes>"
      ]
     },
     "metadata": {
      "needs_background": "light"
     },
     "output_type": "display_data"
    }
   ],
   "source": [
    "wordcloud = WordCloud(height=12000, width=12000, background_color='white')\n",
    "wordcloud = wordcloud.generate(' '.join(df['body'].tolist()))\n",
    "plt.imshow(wordcloud)\n",
    "plt.title(\"Most common words in the reviews\")\n",
    "plt.axis('off')\n",
    "plt.savefig('word_cloud.png')"
   ]
  },
  {
   "cell_type": "code",
   "execution_count": 25,
   "metadata": {},
   "outputs": [
    {
     "data": {
      "text/plain": [
       "Text(0.5, 1.0, 'Distribution of Reviews Category')"
      ]
     },
     "execution_count": 25,
     "metadata": {},
     "output_type": "execute_result"
    },
    {
     "data": {
      "image/png": "[encoded data removed]",
      "text/plain": [
       "<Figure size 432x288 with 1 Axes>"
      ]
     },
     "metadata": {
      "needs_background": "light"
     },
     "output_type": "display_data"
    }
   ],
   "source": [
    "sns.countplot(df['star']).set_title(\"Distribution of Reviews Category\")"
   ]
  },
  {
   "cell_type": "code",
   "execution_count": 26,
   "metadata": {},
   "outputs": [
    {
     "name": "stderr",
     "output_type": "stream",
     "text": [
      "[nltk_data] Downloading package wordnet to C:\\Users\\Andriya\n",
      "[nltk_data]     Tiwary\\AppData\\Roaming\\nltk_data...\n",
      "[nltk_data]   Package wordnet is already up-to-date!\n"
     ]
    },
    {
     "data": {
      "text/plain": [
       "True"
      ]
     },
     "execution_count": 26,
     "metadata": {},
     "output_type": "execute_result"
    }
   ],
   "source": [
    "nltk.download('wordnet')"
   ]
  },
  {
   "cell_type": "code",
   "execution_count": 27,
   "metadata": {},
   "outputs": [],
   "source": [
    "# Saving the cleaned Data\n",
    "df.to_csv('phone_reviews.csv')\n",
    "df.to_excel(\"phone_reviews.xlsx\")"
   ]
  },
  {
   "cell_type": "code",
   "execution_count": 65,
   "metadata": {},
   "outputs": [
    {
     "data": {
      "text/html": [
       "<div>\n",
       "<style scoped>\n",
       "    .dataframe tbody tr th:only-of-type {\n",
       "        vertical-align: middle;\n",
       "    }\n",
       "\n",
       "    .dataframe tbody tr th {\n",
       "        vertical-align: top;\n",
       "    }\n",
       "\n",
       "    .dataframe thead th {\n",
       "        text-align: right;\n",
       "    }\n",
       "</style>\n",
       "<table border=\"1\" class=\"dataframe\">\n",
       "  <thead>\n",
       "    <tr style=\"text-align: right;\">\n",
       "      <th></th>\n",
       "      <th>mobile_names</th>\n",
       "      <th>asin</th>\n",
       "      <th>body</th>\n",
       "      <th>star</th>\n",
       "    </tr>\n",
       "  </thead>\n",
       "  <tbody>\n",
       "    <tr>\n",
       "      <th>0</th>\n",
       "      <td>redmi 9 sky blue 4gb ram 64gb storage 5000 mah...</td>\n",
       "      <td>B08697N43N</td>\n",
       "      <td>dont buy product image quality average compar...</td>\n",
       "      <td>1</td>\n",
       "    </tr>\n",
       "    <tr>\n",
       "      <th>1</th>\n",
       "      <td>redmi 9 sky blue 4gb ram 64gb storage 5000 mah...</td>\n",
       "      <td>B08697N43N</td>\n",
       "      <td>lets make one thing clear immediately xiaomi ...</td>\n",
       "      <td>4</td>\n",
       "    </tr>\n",
       "    <tr>\n",
       "      <th>2</th>\n",
       "      <td>redmi 9 sky blue 4gb ram 64gb storage 5000 mah...</td>\n",
       "      <td>B08697N43N</td>\n",
       "      <td>awesome</td>\n",
       "      <td>5</td>\n",
       "    </tr>\n",
       "    <tr>\n",
       "      <th>3</th>\n",
       "      <td>redmi 9 sky blue 4gb ram 64gb storage 5000 mah...</td>\n",
       "      <td>B08697N43N</td>\n",
       "      <td>best buy price display quality amazing compla...</td>\n",
       "      <td>5</td>\n",
       "    </tr>\n",
       "    <tr>\n",
       "      <th>4</th>\n",
       "      <td>redmi 9 sky blue 4gb ram 64gb storage 5000 mah...</td>\n",
       "      <td>B08697N43N</td>\n",
       "      <td>bad experience amazon bad camera quality phon...</td>\n",
       "      <td>1</td>\n",
       "    </tr>\n",
       "  </tbody>\n",
       "</table>\n",
       "</div>"
      ],
      "text/plain": [
       "                                        mobile_names        asin  \\\n",
       "0  redmi 9 sky blue 4gb ram 64gb storage 5000 mah...  B08697N43N   \n",
       "1  redmi 9 sky blue 4gb ram 64gb storage 5000 mah...  B08697N43N   \n",
       "2  redmi 9 sky blue 4gb ram 64gb storage 5000 mah...  B08697N43N   \n",
       "3  redmi 9 sky blue 4gb ram 64gb storage 5000 mah...  B08697N43N   \n",
       "4  redmi 9 sky blue 4gb ram 64gb storage 5000 mah...  B08697N43N   \n",
       "\n",
       "                                                body  star  \n",
       "0   dont buy product image quality average compar...     1  \n",
       "1   lets make one thing clear immediately xiaomi ...     4  \n",
       "2                                            awesome     5  \n",
       "3   best buy price display quality amazing compla...     5  \n",
       "4   bad experience amazon bad camera quality phon...     1  "
      ]
     },
     "execution_count": 65,
     "metadata": {},
     "output_type": "execute_result"
    }
   ],
   "source": [
    "data=pd.read_csv('phone_reviews.csv',index_col=0)\n",
    "data.head()"
   ]
  },
  {
   "cell_type": "code",
   "execution_count": 77,
   "metadata": {},
   "outputs": [
    {
     "data": {
      "text/plain": [
       "5    1004\n",
       "1     998\n",
       "4     608\n",
       "3     364\n",
       "2     226\n",
       "Name: star, dtype: int64"
      ]
     },
     "execution_count": 77,
     "metadata": {},
     "output_type": "execute_result"
    }
   ],
   "source": [
    "data['star'].value_counts()"
   ]
  },
  {
   "cell_type": "code",
   "execution_count": null,
   "metadata": {},
   "outputs": [],
   "source": []
  }
 ],
 "metadata": {
  "kernelspec": {
   "display_name": "Python 3",
   "language": "python",
   "name": "python3"
  },
  "language_info": {
   "codemirror_mode": {
    "name": "ipython",
    "version": 3
   },
   "file_extension": ".py",
   "mimetype": "text/x-python",
   "name": "python",
   "nbconvert_exporter": "python",
   "pygments_lexer": "ipython3",
   "version": "3.7.6"
  }
 },
 "nbformat": 4,
 "nbformat_minor": 4
}
