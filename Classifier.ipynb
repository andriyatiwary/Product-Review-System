{
 "cells": [
  {
   "cell_type": "code",
   "execution_count": 1,
   "metadata": {},
   "outputs": [],
   "source": [
    "import numpy as np\n",
    "import pandas as pd\n",
    "import matplotlib.pyplot as plt\n",
    "import seaborn as sns\n",
    "import string\n",
    "import nltk\n",
    "from wordcloud import WordCloud\n",
    "from sklearn.feature_extraction.text import TfidfVectorizer\n",
    "import string   \n",
    "import re"
   ]
  },
  {
   "cell_type": "code",
   "execution_count": 2,
   "metadata": {},
   "outputs": [
    {
     "data": {
      "text/html": [
       "<div>\n",
       "<style scoped>\n",
       "    .dataframe tbody tr th:only-of-type {\n",
       "        vertical-align: middle;\n",
       "    }\n",
       "\n",
       "    .dataframe tbody tr th {\n",
       "        vertical-align: top;\n",
       "    }\n",
       "\n",
       "    .dataframe thead th {\n",
       "        text-align: right;\n",
       "    }\n",
       "</style>\n",
       "<table border=\"1\" class=\"dataframe\">\n",
       "  <thead>\n",
       "    <tr style=\"text-align: right;\">\n",
       "      <th></th>\n",
       "      <th>mobile_names</th>\n",
       "      <th>asin</th>\n",
       "      <th>body</th>\n",
       "      <th>star</th>\n",
       "    </tr>\n",
       "  </thead>\n",
       "  <tbody>\n",
       "    <tr>\n",
       "      <th>0</th>\n",
       "      <td>redmi 9 sky blue 4gb ram 64gb storage 5000 mah...</td>\n",
       "      <td>B08697N43N</td>\n",
       "      <td>dont buy product image quality average compar...</td>\n",
       "      <td>1</td>\n",
       "    </tr>\n",
       "    <tr>\n",
       "      <th>1</th>\n",
       "      <td>redmi 9 sky blue 4gb ram 64gb storage 5000 mah...</td>\n",
       "      <td>B08697N43N</td>\n",
       "      <td>lets make one thing clear immediately xiaomi ...</td>\n",
       "      <td>4</td>\n",
       "    </tr>\n",
       "    <tr>\n",
       "      <th>2</th>\n",
       "      <td>redmi 9 sky blue 4gb ram 64gb storage 5000 mah...</td>\n",
       "      <td>B08697N43N</td>\n",
       "      <td>awesome</td>\n",
       "      <td>5</td>\n",
       "    </tr>\n",
       "    <tr>\n",
       "      <th>3</th>\n",
       "      <td>redmi 9 sky blue 4gb ram 64gb storage 5000 mah...</td>\n",
       "      <td>B08697N43N</td>\n",
       "      <td>best buy price display quality amazing compla...</td>\n",
       "      <td>5</td>\n",
       "    </tr>\n",
       "    <tr>\n",
       "      <th>4</th>\n",
       "      <td>redmi 9 sky blue 4gb ram 64gb storage 5000 mah...</td>\n",
       "      <td>B08697N43N</td>\n",
       "      <td>bad experience amazon bad camera quality phon...</td>\n",
       "      <td>1</td>\n",
       "    </tr>\n",
       "  </tbody>\n",
       "</table>\n",
       "</div>"
      ],
      "text/plain": [
       "                                        mobile_names        asin  \\\n",
       "0  redmi 9 sky blue 4gb ram 64gb storage 5000 mah...  B08697N43N   \n",
       "1  redmi 9 sky blue 4gb ram 64gb storage 5000 mah...  B08697N43N   \n",
       "2  redmi 9 sky blue 4gb ram 64gb storage 5000 mah...  B08697N43N   \n",
       "3  redmi 9 sky blue 4gb ram 64gb storage 5000 mah...  B08697N43N   \n",
       "4  redmi 9 sky blue 4gb ram 64gb storage 5000 mah...  B08697N43N   \n",
       "\n",
       "                                                body  star  \n",
       "0   dont buy product image quality average compar...     1  \n",
       "1   lets make one thing clear immediately xiaomi ...     4  \n",
       "2                                            awesome     5  \n",
       "3   best buy price display quality amazing compla...     5  \n",
       "4   bad experience amazon bad camera quality phon...     1  "
      ]
     },
     "execution_count": 2,
     "metadata": {},
     "output_type": "execute_result"
    }
   ],
   "source": [
    "data=pd.read_csv('phone_reviews.csv',index_col=0)\n",
    "data.head()"
   ]
  },
  {
   "cell_type": "code",
   "execution_count": 3,
   "metadata": {},
   "outputs": [
    {
     "data": {
      "text/plain": [
       "5    1004\n",
       "1     998\n",
       "4     608\n",
       "3     364\n",
       "2     226\n",
       "Name: star, dtype: int64"
      ]
     },
     "execution_count": 3,
     "metadata": {},
     "output_type": "execute_result"
    }
   ],
   "source": [
    "data['star'].value_counts()"
   ]
  },
  {
   "cell_type": "code",
   "execution_count": 4,
   "metadata": {},
   "outputs": [],
   "source": [
    "# Splitting into train test set\n",
    "\n",
    "from sklearn.model_selection import train_test_split\n",
    "\n",
    "x=data['body']\n",
    "y=data['star']\n",
    "\n",
    "x_train, x_test, y_train, y_test = train_test_split(x,y, test_size=0.2, random_state=0)"
   ]
  },
  {
   "cell_type": "code",
   "execution_count": 5,
   "metadata": {},
   "outputs": [
    {
     "data": {
      "text/plain": [
       "count    2560.000000\n",
       "mean       39.319922\n",
       "std        43.744386\n",
       "min         0.000000\n",
       "25%        11.000000\n",
       "50%        27.000000\n",
       "75%        51.000000\n",
       "max       481.000000\n",
       "Name: body, dtype: float64"
      ]
     },
     "execution_count": 5,
     "metadata": {},
     "output_type": "execute_result"
    }
   ],
   "source": [
    "sentence_lengths=x_train.apply(lambda x:len(x.split()))\n",
    "sentence_lengths.describe()"
   ]
  },
  {
   "cell_type": "code",
   "execution_count": 6,
   "metadata": {},
   "outputs": [],
   "source": [
    "\n",
    "    tfidf_vec = TfidfVectorizer()\n",
    "    x_train_tfidf = tfidf_vec.fit_transform(x_train)\n",
    "    x_test_tfidf = tfidf_vec.transform(x_test)\n",
    "     "
   ]
  },
  {
   "cell_type": "code",
   "execution_count": 7,
   "metadata": {},
   "outputs": [
    {
     "data": {
      "text/plain": [
       "<2560x7954 sparse matrix of type '<class 'numpy.float64'>'\n",
       "\twith 83415 stored elements in Compressed Sparse Row format>"
      ]
     },
     "execution_count": 7,
     "metadata": {},
     "output_type": "execute_result"
    }
   ],
   "source": [
    "x_train_tfidf "
   ]
  },
  {
   "cell_type": "code",
   "execution_count": 8,
   "metadata": {},
   "outputs": [
    {
     "data": {
      "text/plain": [
       "<640x7954 sparse matrix of type '<class 'numpy.float64'>'\n",
       "\twith 20357 stored elements in Compressed Sparse Row format>"
      ]
     },
     "execution_count": 8,
     "metadata": {},
     "output_type": "execute_result"
    }
   ],
   "source": [
    "x_test_tfidf"
   ]
  },
  {
   "cell_type": "code",
   "execution_count": 9,
   "metadata": {},
   "outputs": [],
   "source": [
    "from sklearn.ensemble import RandomForestClassifier, GradientBoostingClassifier\n",
    "from sklearn.linear_model import LogisticRegression\n",
    "from sklearn.naive_bayes import GaussianNB\n",
    "from sklearn.svm import SVC\n",
    "from sklearn.metrics import precision_recall_fscore_support as score\n",
    "from sklearn.metrics import accuracy_score, confusion_matrix, classification_report\n",
    "from sklearn import metrics\n",
    "from numpy import mean\n",
    "from numpy import std\n",
    "from sklearn.datasets import make_classification\n",
    "from sklearn.model_selection import cross_val_score\n",
    "from sklearn.model_selection import RepeatedStratifiedKFold"
   ]
  },
  {
   "cell_type": "code",
   "execution_count": 10,
   "metadata": {},
   "outputs": [],
   "source": [
    "# Choosing best parameters for random forest\n",
    "# hyperparameter tuning of random forest classifier using randomized search cross validation"
   ]
  },
  {
   "cell_type": "code",
   "execution_count": 11,
   "metadata": {},
   "outputs": [],
   "source": [
    "from sklearn.model_selection import RandomizedSearchCV\n",
    "\n",
    "# Number of trees in random forest\n",
    "n_estimators=[int(x) for x in np.linspace(start=100,stop=1200,num=6)]\n",
    "\n",
    "# Number of features to consider at every split\n",
    "max_features=['auto','sqrt']\n",
    "\n",
    "# Maximum number of levels in tree\n",
    "max_depth=[int(x) for x in np.linspace(5,30,num=4)]\n",
    "\n",
    "# Minimum number of samples required to split a node\n",
    "min_samples_split=[5,10,15,100]"
   ]
  },
  {
   "cell_type": "code",
   "execution_count": 12,
   "metadata": {},
   "outputs": [],
   "source": [
    "# Create the random grid\n",
    "\n",
    "random_grid={\n",
    "    'n_estimators':n_estimators,\n",
    "    'max_features':max_features,\n",
    "'max_depth':max_depth,\n",
    "    'min_samples_split':min_samples_split\n",
    "}"
   ]
  },
  {
   "cell_type": "code",
   "execution_count": 13,
   "metadata": {},
   "outputs": [
    {
     "data": {
      "text/plain": [
       "{'n_estimators': [100, 320, 540, 760, 980, 1200],\n",
       " 'max_features': ['auto', 'sqrt'],\n",
       " 'max_depth': [5, 13, 21, 30],\n",
       " 'min_samples_split': [5, 10, 15, 100]}"
      ]
     },
     "execution_count": 13,
     "metadata": {},
     "output_type": "execute_result"
    }
   ],
   "source": [
    "random_grid"
   ]
  },
  {
   "cell_type": "code",
   "execution_count": 14,
   "metadata": {},
   "outputs": [],
   "source": [
    "# initialise your estimator\n",
    "clf_rf=RandomForestClassifier(random_state=0)"
   ]
  },
  {
   "cell_type": "code",
   "execution_count": 15,
   "metadata": {},
   "outputs": [],
   "source": [
    "# Random search of parameters, using 3 fold cross validation\n",
    "\n",
    "rf_random=RandomizedSearchCV(estimator=clf_rf,param_distributions=random_grid,cv=3,verbose=2,n_jobs=-1,random_state=0)"
   ]
  },
  {
   "cell_type": "code",
   "execution_count": 16,
   "metadata": {},
   "outputs": [
    {
     "name": "stdout",
     "output_type": "stream",
     "text": [
      "Fitting 3 folds for each of 10 candidates, totalling 30 fits\n"
     ]
    },
    {
     "name": "stderr",
     "output_type": "stream",
     "text": [
      "[Parallel(n_jobs=-1)]: Using backend LokyBackend with 8 concurrent workers.\n",
      "[Parallel(n_jobs=-1)]: Done  30 out of  30 | elapsed:   24.9s finished\n"
     ]
    },
    {
     "data": {
      "text/plain": [
       "RandomizedSearchCV(cv=3, error_score=nan,\n",
       "                   estimator=RandomForestClassifier(bootstrap=True,\n",
       "                                                    ccp_alpha=0.0,\n",
       "                                                    class_weight=None,\n",
       "                                                    criterion='gini',\n",
       "                                                    max_depth=None,\n",
       "                                                    max_features='auto',\n",
       "                                                    max_leaf_nodes=None,\n",
       "                                                    max_samples=None,\n",
       "                                                    min_impurity_decrease=0.0,\n",
       "                                                    min_impurity_split=None,\n",
       "                                                    min_samples_leaf=1,\n",
       "                                                    min_samples_split=2,\n",
       "                                                    min_weight_fraction_leaf=0.0,\n",
       "                                                    n_estimators=100,\n",
       "                                                    n_jobs...e,\n",
       "                                                    oob_score=False,\n",
       "                                                    random_state=0, verbose=0,\n",
       "                                                    warm_start=False),\n",
       "                   iid='deprecated', n_iter=10, n_jobs=-1,\n",
       "                   param_distributions={'max_depth': [5, 13, 21, 30],\n",
       "                                        'max_features': ['auto', 'sqrt'],\n",
       "                                        'min_samples_split': [5, 10, 15, 100],\n",
       "                                        'n_estimators': [100, 320, 540, 760,\n",
       "                                                         980, 1200]},\n",
       "                   pre_dispatch='2*n_jobs', random_state=0, refit=True,\n",
       "                   return_train_score=False, scoring=None, verbose=2)"
      ]
     },
     "execution_count": 16,
     "metadata": {},
     "output_type": "execute_result"
    }
   ],
   "source": [
    "rf_random.fit(x_train_tfidf,y_train)"
   ]
  },
  {
   "cell_type": "code",
   "execution_count": 17,
   "metadata": {},
   "outputs": [
    {
     "data": {
      "text/plain": [
       "{'n_estimators': 320,\n",
       " 'min_samples_split': 5,\n",
       " 'max_features': 'auto',\n",
       " 'max_depth': 30}"
      ]
     },
     "execution_count": 17,
     "metadata": {},
     "output_type": "execute_result"
    }
   ],
   "source": [
    "rf_random.best_params_"
   ]
  },
  {
   "cell_type": "code",
   "execution_count": 18,
   "metadata": {},
   "outputs": [],
   "source": [
    "prediction_rf=rf_random.predict(x_test_tfidf)"
   ]
  },
  {
   "cell_type": "code",
   "execution_count": 19,
   "metadata": {},
   "outputs": [
    {
     "data": {
      "text/plain": [
       "0.7984375"
      ]
     },
     "execution_count": 19,
     "metadata": {},
     "output_type": "execute_result"
    }
   ],
   "source": [
    "# View accuracy score\n",
    "\n",
    "accuracy_score(y_test, prediction_rf)"
   ]
  },
  {
   "cell_type": "code",
   "execution_count": 20,
   "metadata": {},
   "outputs": [
    {
     "data": {
      "text/plain": [
       "array([[180,   0,   0,   0,  12],\n",
       "       [ 10,  19,   0,   0,  12],\n",
       "       [ 10,   0,  49,   0,  23],\n",
       "       [  2,   0,   0,  61,  54],\n",
       "       [  6,   0,   0,   0, 202]], dtype=int64)"
      ]
     },
     "execution_count": 20,
     "metadata": {},
     "output_type": "execute_result"
    }
   ],
   "source": [
    "# View confusion matrix for test data and predictions\n",
    "\n",
    "confusion_matrix(y_test,prediction_rf)"
   ]
  },
  {
   "cell_type": "code",
   "execution_count": 21,
   "metadata": {},
   "outputs": [
    {
     "name": "stdout",
     "output_type": "stream",
     "text": [
      "              precision    recall  f1-score   support\n",
      "\n",
      "           1       0.87      0.94      0.90       192\n",
      "           2       1.00      0.46      0.63        41\n",
      "           3       1.00      0.60      0.75        82\n",
      "           4       1.00      0.52      0.69       117\n",
      "           5       0.67      0.97      0.79       208\n",
      "\n",
      "    accuracy                           0.80       640\n",
      "   macro avg       0.91      0.70      0.75       640\n",
      "weighted avg       0.85      0.80      0.79       640\n",
      "\n"
     ]
    }
   ],
   "source": [
    "# View the classification report for test data and predictions\n",
    "\n",
    "print(classification_report(y_test, prediction_rf))"
   ]
  },
  {
   "cell_type": "code",
   "execution_count": 22,
   "metadata": {},
   "outputs": [
    {
     "data": {
      "text/plain": [
       "array([5, 1, 5, 3, 1, 3, 1, 5, 1, 4, 5, 5, 4, 4, 1, 5, 2, 5, 5, 1, 5, 5,\n",
       "       5, 5, 1, 1, 5, 5, 5, 5, 1, 5, 5, 5, 3, 5, 1, 4, 1, 5, 5, 5, 4, 5,\n",
       "       5, 5, 5, 4, 3, 1, 1, 5, 4, 3, 1, 3, 5, 5, 2, 3, 1, 1, 5, 5, 5, 1,\n",
       "       1, 1, 1, 5, 1, 5, 2, 5, 5, 5, 5, 5, 5, 5, 5, 1, 5, 1, 2, 1, 5, 3,\n",
       "       1, 1, 1, 1, 5, 1, 3, 5, 1, 5, 4, 2, 1, 4, 1, 5, 5, 1, 5, 1, 1, 5,\n",
       "       1, 5, 1, 1, 1, 3, 1, 4, 5, 5, 5, 3, 5, 1, 5, 1, 1, 5, 5, 5, 5, 1,\n",
       "       5, 5, 5, 3, 3, 3, 1, 5, 5, 5, 3, 1, 5, 1, 2, 1, 1, 5, 5, 5, 5, 4,\n",
       "       5, 1, 5, 5, 1, 5, 5, 5, 5, 1, 1, 4, 5, 5, 1, 3, 1, 3, 5, 5, 5, 1,\n",
       "       5, 5, 1, 2, 1, 1, 1, 5, 5, 5, 1, 5, 4, 1, 5, 4, 1, 1, 5, 5, 5, 1,\n",
       "       5, 1, 5, 4, 5, 5, 5, 3, 5, 1, 5, 1, 5, 1, 1, 5, 4, 2, 5, 5, 5, 5,\n",
       "       1, 1, 5, 1, 5, 5, 1, 4, 5, 5, 5, 1, 1, 5, 1, 5, 5, 3, 5, 4, 1, 5,\n",
       "       3, 5, 5, 5, 5, 3, 1, 1, 5, 4, 1, 5, 5, 1, 2, 1, 1, 1, 1, 1, 1, 5,\n",
       "       5, 1, 5, 1, 5, 5, 5, 5, 3, 1, 5, 1, 5, 4, 4, 4, 5, 1, 5, 5, 5, 1,\n",
       "       5, 5, 4, 3, 1, 5, 3, 5, 1, 5, 3, 4, 1, 5, 5, 5, 1, 4, 1, 5, 5, 4,\n",
       "       1, 1, 1, 5, 5, 5, 1, 1, 5, 1, 1, 5, 1, 5, 5, 5, 1, 5, 1, 5, 1, 1,\n",
       "       3, 5, 1, 5, 5, 1, 2, 5, 1, 5, 5, 5, 1, 5, 4, 5, 1, 5, 5, 1, 1, 3,\n",
       "       1, 4, 5, 2, 1, 1, 1, 5, 1, 4, 1, 1, 4, 4, 5, 5, 2, 5, 5, 5, 3, 4,\n",
       "       1, 5, 5, 1, 5, 5, 3, 5, 5, 1, 1, 4, 1, 5, 5, 5, 1, 4, 1, 1, 5, 5,\n",
       "       4, 3, 5, 5, 5, 5, 5, 1, 5, 1, 5, 1, 5, 2, 5, 1, 3, 5, 3, 5, 5, 5,\n",
       "       1, 3, 5, 4, 4, 1, 1, 1, 1, 1, 5, 5, 4, 5, 5, 2, 5, 4, 1, 5, 1, 3,\n",
       "       5, 1, 5, 1, 5, 5, 5, 1, 5, 1, 4, 5, 3, 5, 1, 5, 5, 5, 4, 4, 1, 5,\n",
       "       4, 5, 5, 4, 3, 5, 5, 4, 2, 4, 5, 2, 1, 1, 5, 5, 5, 4, 3, 5, 1, 5,\n",
       "       5, 4, 3, 1, 2, 5, 5, 1, 5, 1, 5, 1, 5, 1, 1, 5, 2, 5, 1, 5, 1, 5,\n",
       "       5, 4, 1, 5, 3, 5, 5, 4, 5, 3, 1, 5, 1, 5, 1, 1, 5, 5, 1, 5, 5, 3,\n",
       "       3, 5, 1, 1, 1, 1, 1, 5, 5, 5, 5, 4, 5, 1, 5, 4, 5, 4, 5, 5, 1, 5,\n",
       "       1, 1, 1, 1, 5, 1, 5, 5, 3, 2, 5, 1, 1, 1, 1, 1, 5, 1, 1, 5, 4, 4,\n",
       "       1, 1, 5, 3, 1, 5, 1, 4, 1, 1, 5, 1, 1, 5, 3, 5, 3, 5, 1, 5, 5, 5,\n",
       "       5, 5, 5, 5, 3, 5, 5, 5, 4, 5, 4, 5, 5, 1, 5, 5, 1, 3, 4, 1, 1, 5,\n",
       "       5, 5, 5, 1, 1, 5, 4, 5, 5, 1, 1, 1, 5, 1, 5, 4, 5, 5, 1, 1, 5, 3,\n",
       "       5, 5], dtype=int64)"
      ]
     },
     "execution_count": 22,
     "metadata": {},
     "output_type": "execute_result"
    }
   ],
   "source": [
    "prediction_rf"
   ]
  },
  {
   "cell_type": "code",
   "execution_count": 23,
   "metadata": {},
   "outputs": [],
   "source": [
    "# Fitting Naive Bayes\n",
    "\n",
    "from sklearn.naive_bayes import MultinomialNB\n",
    "\n",
    "# instantiate a Multinomial Naive Bayes model\n",
    "nb = MultinomialNB()\n",
    "# train the model \n",
    "nb.fit(x_train_tfidf, y_train)\n",
    "# make class predictions for X_test_tfidf\n",
    "prediction_nb = nb.predict(x_test_tfidf)"
   ]
  },
  {
   "cell_type": "code",
   "execution_count": 24,
   "metadata": {},
   "outputs": [
    {
     "data": {
      "text/plain": [
       "0.7"
      ]
     },
     "execution_count": 24,
     "metadata": {},
     "output_type": "execute_result"
    }
   ],
   "source": [
    "# calculate accuracy of class predictions\n",
    "from sklearn import metrics\n",
    "metrics.accuracy_score(y_test, prediction_nb )"
   ]
  },
  {
   "cell_type": "code",
   "execution_count": 25,
   "metadata": {},
   "outputs": [
    {
     "data": {
      "text/plain": [
       "array([[185,   0,   0,   0,   7],\n",
       "       [ 27,   0,   0,   0,  14],\n",
       "       [ 41,   0,  11,   0,  30],\n",
       "       [  7,   0,   0,  48,  62],\n",
       "       [  4,   0,   0,   0, 204]], dtype=int64)"
      ]
     },
     "execution_count": 25,
     "metadata": {},
     "output_type": "execute_result"
    }
   ],
   "source": [
    "# print the confusion matrix\n",
    "metrics.confusion_matrix(y_test,prediction_nb )"
   ]
  },
  {
   "cell_type": "code",
   "execution_count": 26,
   "metadata": {},
   "outputs": [
    {
     "name": "stdout",
     "output_type": "stream",
     "text": [
      "              precision    recall  f1-score   support\n",
      "\n",
      "           1       0.70      0.96      0.81       192\n",
      "           2       0.00      0.00      0.00        41\n",
      "           3       1.00      0.13      0.24        82\n",
      "           4       1.00      0.41      0.58       117\n",
      "           5       0.64      0.98      0.78       208\n",
      "\n",
      "    accuracy                           0.70       640\n",
      "   macro avg       0.67      0.50      0.48       640\n",
      "weighted avg       0.73      0.70      0.63       640\n",
      "\n"
     ]
    },
    {
     "name": "stderr",
     "output_type": "stream",
     "text": [
      "C:\\Users\\Andriya Tiwary\\anaconda3\\lib\\site-packages\\sklearn\\metrics\\_classification.py:1272: UndefinedMetricWarning: Precision and F-score are ill-defined and being set to 0.0 in labels with no predicted samples. Use `zero_division` parameter to control this behavior.\n",
      "  _warn_prf(average, modifier, msg_start, len(result))\n"
     ]
    }
   ],
   "source": [
    "print(classification_report(y_test, prediction_nb))"
   ]
  },
  {
   "cell_type": "code",
   "execution_count": 27,
   "metadata": {},
   "outputs": [
    {
     "data": {
      "text/plain": [
       "array([5, 1, 5, 5, 1, 5, 1, 5, 5, 4, 5, 5, 4, 5, 1, 5, 1, 5, 5, 1, 5, 5,\n",
       "       5, 5, 1, 1, 5, 5, 5, 5, 1, 5, 5, 5, 5, 5, 1, 4, 1, 4, 5, 5, 1, 5,\n",
       "       5, 5, 5, 5, 5, 1, 1, 5, 5, 3, 1, 1, 3, 5, 1, 3, 1, 1, 5, 5, 1, 1,\n",
       "       1, 1, 1, 5, 1, 5, 5, 5, 5, 5, 5, 5, 5, 5, 5, 1, 5, 1, 1, 1, 5, 1,\n",
       "       1, 1, 1, 1, 5, 1, 1, 5, 1, 5, 5, 1, 5, 5, 1, 5, 5, 1, 4, 1, 1, 5,\n",
       "       5, 5, 1, 1, 1, 5, 1, 4, 5, 5, 5, 1, 5, 1, 5, 1, 1, 1, 5, 5, 5, 1,\n",
       "       5, 5, 5, 5, 5, 1, 1, 5, 5, 5, 1, 1, 5, 1, 1, 1, 1, 5, 4, 5, 5, 5,\n",
       "       5, 1, 5, 1, 1, 5, 1, 5, 5, 1, 1, 4, 5, 5, 5, 1, 1, 5, 5, 5, 5, 1,\n",
       "       5, 5, 1, 5, 1, 1, 1, 5, 5, 5, 1, 5, 5, 5, 5, 4, 5, 1, 1, 5, 5, 1,\n",
       "       5, 1, 5, 5, 5, 5, 1, 1, 5, 1, 5, 1, 5, 5, 1, 5, 1, 1, 1, 5, 5, 5,\n",
       "       1, 1, 5, 1, 5, 5, 1, 4, 5, 5, 5, 1, 1, 5, 1, 1, 5, 1, 5, 4, 1, 5,\n",
       "       5, 4, 5, 5, 5, 5, 1, 1, 5, 4, 1, 1, 5, 1, 1, 1, 1, 1, 1, 1, 1, 5,\n",
       "       1, 1, 5, 1, 5, 5, 5, 5, 1, 1, 5, 1, 5, 5, 4, 5, 5, 1, 5, 1, 4, 1,\n",
       "       1, 5, 4, 1, 1, 3, 1, 5, 1, 5, 5, 5, 1, 5, 5, 5, 1, 5, 1, 5, 5, 5,\n",
       "       1, 1, 1, 5, 4, 5, 1, 1, 5, 1, 1, 5, 1, 4, 5, 5, 1, 1, 1, 5, 1, 1,\n",
       "       5, 5, 5, 5, 5, 1, 1, 1, 1, 5, 5, 5, 1, 5, 4, 5, 1, 5, 5, 1, 1, 5,\n",
       "       1, 4, 5, 1, 1, 1, 1, 5, 1, 4, 1, 1, 4, 5, 5, 5, 1, 5, 5, 5, 3, 4,\n",
       "       1, 5, 5, 1, 5, 5, 3, 3, 5, 1, 1, 1, 1, 1, 5, 5, 1, 4, 1, 1, 5, 1,\n",
       "       5, 1, 5, 5, 4, 5, 5, 1, 5, 1, 5, 1, 5, 1, 5, 1, 3, 5, 1, 5, 5, 5,\n",
       "       1, 3, 5, 5, 5, 1, 5, 1, 1, 1, 5, 5, 4, 5, 5, 1, 5, 4, 1, 5, 1, 1,\n",
       "       5, 1, 5, 1, 4, 5, 5, 1, 5, 1, 5, 1, 1, 5, 1, 5, 5, 4, 4, 4, 1, 5,\n",
       "       4, 5, 5, 4, 5, 5, 5, 5, 5, 4, 5, 1, 1, 1, 5, 5, 5, 1, 1, 5, 1, 4,\n",
       "       5, 5, 3, 1, 1, 1, 5, 1, 5, 1, 4, 1, 5, 1, 1, 4, 5, 5, 1, 5, 1, 5,\n",
       "       5, 5, 1, 5, 1, 5, 1, 5, 5, 3, 1, 5, 1, 5, 1, 1, 5, 5, 1, 5, 5, 1,\n",
       "       5, 5, 1, 1, 1, 1, 1, 5, 5, 5, 5, 5, 5, 1, 1, 4, 4, 5, 5, 5, 1, 5,\n",
       "       1, 1, 1, 1, 5, 1, 5, 5, 1, 1, 5, 1, 1, 1, 1, 1, 5, 1, 5, 5, 4, 4,\n",
       "       1, 1, 5, 5, 1, 5, 1, 4, 1, 1, 5, 1, 1, 1, 1, 1, 1, 5, 1, 5, 1, 5,\n",
       "       5, 5, 5, 5, 5, 5, 5, 4, 4, 5, 4, 5, 5, 1, 5, 5, 1, 1, 4, 1, 1, 5,\n",
       "       5, 5, 1, 1, 1, 5, 4, 5, 5, 1, 1, 1, 5, 1, 5, 5, 5, 5, 5, 1, 5, 1,\n",
       "       4, 5], dtype=int64)"
      ]
     },
     "execution_count": 27,
     "metadata": {},
     "output_type": "execute_result"
    }
   ],
   "source": [
    "prediction_nb"
   ]
  },
  {
   "cell_type": "code",
   "execution_count": 28,
   "metadata": {},
   "outputs": [],
   "source": [
    "# instantiate a logistic regression model\n",
    "logreg = LogisticRegression()\n",
    "\n",
    "# train the model using x_train_tfidf\n",
    "logreg.fit(x_train_tfidf, y_train)\n",
    "\n",
    "# make class predictions for x_test_tfidf\n",
    "prediction_lr = logreg.predict(x_test_tfidf)"
   ]
  },
  {
   "cell_type": "code",
   "execution_count": 29,
   "metadata": {},
   "outputs": [
    {
     "data": {
      "text/plain": [
       "0.803125"
      ]
     },
     "execution_count": 29,
     "metadata": {},
     "output_type": "execute_result"
    }
   ],
   "source": [
    "# calculate accuracy\n",
    "metrics.accuracy_score(y_test, prediction_lr)"
   ]
  },
  {
   "cell_type": "code",
   "execution_count": 30,
   "metadata": {},
   "outputs": [
    {
     "data": {
      "text/plain": [
       "array([5, 1, 5, 5, 1, 5, 1, 5, 5, 4, 5, 5, 4, 4, 1, 5, 2, 4, 5, 1, 5, 5,\n",
       "       5, 5, 1, 1, 3, 5, 5, 5, 1, 5, 5, 5, 4, 5, 1, 4, 1, 4, 5, 5, 4, 5,\n",
       "       4, 5, 5, 4, 4, 1, 1, 5, 5, 3, 1, 3, 3, 5, 2, 3, 1, 1, 5, 5, 1, 1,\n",
       "       1, 1, 1, 5, 4, 5, 2, 5, 5, 5, 5, 5, 4, 5, 5, 1, 5, 1, 1, 1, 5, 1,\n",
       "       1, 1, 1, 1, 3, 1, 3, 5, 1, 4, 4, 1, 5, 4, 1, 5, 5, 1, 4, 1, 1, 5,\n",
       "       1, 5, 1, 1, 1, 4, 1, 4, 5, 5, 5, 1, 5, 1, 5, 1, 1, 1, 4, 5, 5, 1,\n",
       "       5, 5, 5, 5, 3, 3, 1, 5, 5, 5, 1, 1, 4, 1, 4, 1, 1, 5, 4, 5, 5, 5,\n",
       "       5, 1, 5, 1, 1, 5, 1, 5, 5, 1, 1, 4, 5, 5, 5, 1, 1, 3, 5, 5, 5, 1,\n",
       "       5, 5, 1, 2, 1, 1, 1, 4, 5, 5, 1, 5, 4, 5, 5, 4, 1, 1, 1, 1, 5, 1,\n",
       "       5, 1, 5, 4, 5, 5, 5, 3, 5, 1, 5, 1, 5, 5, 1, 5, 4, 2, 1, 4, 5, 5,\n",
       "       1, 1, 5, 1, 5, 5, 1, 4, 5, 5, 5, 1, 1, 5, 1, 1, 5, 5, 5, 4, 1, 5,\n",
       "       3, 3, 5, 5, 5, 3, 1, 1, 5, 4, 1, 3, 5, 1, 2, 1, 1, 1, 1, 1, 1, 5,\n",
       "       1, 1, 5, 1, 5, 5, 5, 5, 3, 1, 5, 1, 5, 5, 4, 4, 5, 1, 5, 5, 4, 1,\n",
       "       1, 5, 4, 3, 1, 3, 5, 5, 1, 5, 3, 4, 1, 5, 5, 5, 1, 5, 1, 5, 5, 5,\n",
       "       1, 1, 1, 5, 4, 5, 1, 1, 5, 1, 1, 5, 1, 4, 5, 5, 1, 1, 1, 5, 1, 1,\n",
       "       3, 5, 1, 5, 5, 1, 1, 1, 1, 5, 5, 5, 1, 5, 4, 5, 1, 5, 4, 1, 1, 3,\n",
       "       1, 4, 5, 1, 1, 1, 1, 4, 1, 4, 1, 1, 4, 4, 5, 5, 2, 5, 5, 5, 3, 4,\n",
       "       1, 5, 5, 1, 4, 5, 3, 3, 5, 1, 1, 1, 1, 1, 5, 5, 1, 4, 1, 1, 5, 1,\n",
       "       4, 1, 5, 5, 4, 5, 5, 1, 5, 1, 5, 1, 5, 2, 5, 1, 3, 5, 3, 5, 5, 5,\n",
       "       1, 3, 5, 4, 4, 1, 1, 1, 1, 1, 5, 5, 4, 5, 4, 1, 5, 4, 1, 5, 1, 3,\n",
       "       4, 1, 4, 1, 4, 5, 5, 1, 4, 1, 4, 1, 3, 4, 1, 5, 4, 4, 4, 4, 1, 5,\n",
       "       4, 5, 5, 4, 3, 5, 5, 4, 1, 4, 5, 1, 1, 1, 5, 5, 5, 4, 1, 5, 1, 4,\n",
       "       5, 4, 3, 4, 2, 1, 5, 1, 4, 1, 4, 1, 5, 1, 1, 4, 5, 5, 1, 5, 1, 5,\n",
       "       5, 4, 1, 5, 3, 5, 1, 4, 5, 3, 1, 5, 1, 5, 1, 1, 5, 5, 1, 5, 5, 3,\n",
       "       1, 5, 1, 1, 1, 1, 1, 5, 4, 5, 5, 5, 5, 1, 2, 4, 4, 4, 5, 4, 1, 5,\n",
       "       1, 1, 1, 1, 5, 1, 5, 5, 3, 1, 5, 1, 1, 1, 1, 1, 5, 1, 5, 5, 4, 4,\n",
       "       1, 1, 5, 5, 1, 5, 1, 4, 1, 1, 3, 1, 1, 1, 1, 4, 1, 5, 1, 5, 5, 5,\n",
       "       5, 5, 5, 5, 3, 5, 5, 4, 4, 5, 4, 5, 5, 1, 5, 5, 1, 3, 4, 1, 1, 5,\n",
       "       5, 5, 1, 1, 1, 5, 4, 5, 5, 1, 1, 1, 5, 1, 5, 4, 5, 5, 5, 1, 5, 3,\n",
       "       4, 5], dtype=int64)"
      ]
     },
     "execution_count": 30,
     "metadata": {},
     "output_type": "execute_result"
    }
   ],
   "source": [
    "prediction_lr"
   ]
  },
  {
   "cell_type": "code",
   "execution_count": 31,
   "metadata": {},
   "outputs": [],
   "source": [
    "#Support Vector\n",
    "\n",
    "SVC_classifier = SVC(kernel = 'rbf',random_state=0)\n",
    "SVC_classifier.fit(x_train_tfidf, y_train)\n",
    "prediction_svc = SVC_classifier.predict(x_test_tfidf)"
   ]
  },
  {
   "cell_type": "code",
   "execution_count": 32,
   "metadata": {},
   "outputs": [
    {
     "data": {
      "text/plain": [
       "0.9140625"
      ]
     },
     "execution_count": 32,
     "metadata": {},
     "output_type": "execute_result"
    }
   ],
   "source": [
    "metrics.accuracy_score(y_test, prediction_svc)"
   ]
  },
  {
   "cell_type": "code",
   "execution_count": 33,
   "metadata": {},
   "outputs": [
    {
     "data": {
      "text/plain": [
       "array([4, 1, 5, 3, 1, 3, 1, 5, 5, 4, 5, 5, 4, 4, 1, 5, 2, 4, 5, 1, 5, 2,\n",
       "       5, 5, 1, 1, 3, 5, 5, 5, 1, 5, 5, 5, 3, 5, 1, 4, 1, 4, 5, 5, 4, 5,\n",
       "       4, 5, 5, 4, 3, 1, 1, 5, 4, 3, 1, 3, 3, 5, 2, 3, 1, 1, 5, 5, 1, 1,\n",
       "       1, 1, 1, 5, 1, 5, 2, 5, 5, 5, 3, 5, 4, 5, 5, 1, 5, 1, 2, 1, 5, 3,\n",
       "       1, 1, 2, 1, 3, 1, 3, 5, 2, 4, 4, 2, 5, 4, 1, 2, 5, 1, 4, 1, 1, 5,\n",
       "       1, 5, 2, 1, 1, 3, 1, 4, 5, 5, 5, 3, 5, 1, 5, 1, 1, 3, 4, 5, 5, 1,\n",
       "       5, 5, 5, 3, 3, 3, 1, 4, 5, 4, 3, 1, 4, 1, 2, 1, 1, 5, 4, 3, 5, 4,\n",
       "       5, 1, 5, 1, 1, 5, 1, 4, 5, 1, 1, 4, 5, 5, 5, 3, 1, 3, 5, 4, 5, 1,\n",
       "       5, 5, 1, 2, 1, 1, 1, 4, 5, 5, 1, 5, 4, 5, 3, 4, 1, 1, 3, 5, 5, 1,\n",
       "       5, 1, 5, 4, 5, 5, 5, 3, 5, 1, 5, 1, 5, 5, 1, 5, 4, 2, 1, 4, 5, 5,\n",
       "       1, 1, 5, 1, 5, 5, 1, 4, 5, 5, 5, 1, 1, 4, 1, 1, 5, 3, 5, 4, 1, 5,\n",
       "       3, 4, 5, 5, 5, 3, 1, 1, 5, 4, 1, 3, 5, 1, 2, 1, 1, 1, 1, 1, 1, 5,\n",
       "       1, 2, 5, 1, 5, 5, 3, 5, 3, 1, 5, 1, 5, 4, 4, 4, 5, 1, 5, 5, 4, 1,\n",
       "       5, 5, 4, 3, 1, 3, 3, 5, 1, 5, 3, 4, 1, 5, 5, 5, 1, 4, 1, 5, 5, 4,\n",
       "       1, 1, 1, 4, 4, 5, 1, 1, 5, 1, 1, 5, 1, 4, 5, 5, 1, 1, 1, 5, 1, 1,\n",
       "       3, 5, 1, 5, 5, 1, 2, 1, 1, 5, 5, 5, 1, 5, 4, 5, 1, 5, 3, 3, 1, 3,\n",
       "       1, 4, 5, 2, 1, 1, 2, 4, 1, 4, 1, 1, 4, 4, 5, 3, 2, 5, 5, 5, 3, 4,\n",
       "       1, 5, 5, 1, 5, 5, 3, 3, 5, 1, 1, 4, 1, 2, 5, 5, 1, 4, 1, 1, 5, 1,\n",
       "       4, 3, 5, 5, 4, 5, 1, 1, 5, 1, 5, 1, 5, 2, 5, 1, 3, 5, 3, 5, 5, 5,\n",
       "       1, 3, 5, 4, 4, 1, 1, 1, 1, 1, 5, 5, 4, 5, 4, 2, 5, 4, 1, 5, 1, 3,\n",
       "       4, 1, 4, 1, 4, 4, 5, 1, 4, 1, 4, 1, 3, 4, 1, 5, 5, 4, 4, 4, 1, 5,\n",
       "       4, 5, 5, 4, 3, 5, 5, 4, 2, 4, 5, 2, 1, 1, 5, 5, 5, 4, 3, 5, 1, 4,\n",
       "       5, 4, 3, 1, 2, 1, 5, 1, 4, 1, 4, 1, 5, 1, 1, 4, 2, 5, 1, 5, 1, 5,\n",
       "       5, 4, 1, 5, 3, 5, 3, 4, 5, 3, 1, 5, 1, 5, 1, 1, 5, 5, 1, 5, 5, 3,\n",
       "       3, 5, 1, 1, 1, 1, 1, 5, 4, 5, 4, 4, 4, 3, 2, 4, 4, 4, 5, 4, 1, 5,\n",
       "       1, 1, 1, 1, 5, 1, 5, 5, 3, 2, 5, 1, 1, 1, 1, 1, 5, 1, 5, 5, 4, 4,\n",
       "       1, 1, 5, 3, 1, 5, 1, 4, 1, 1, 3, 1, 1, 3, 3, 4, 3, 5, 1, 5, 5, 5,\n",
       "       5, 5, 5, 2, 3, 5, 5, 4, 4, 3, 4, 5, 5, 1, 5, 5, 1, 3, 4, 1, 1, 5,\n",
       "       5, 3, 1, 1, 1, 5, 4, 5, 5, 1, 3, 1, 5, 1, 5, 4, 5, 5, 1, 1, 5, 3,\n",
       "       4, 2], dtype=int64)"
      ]
     },
     "execution_count": 33,
     "metadata": {},
     "output_type": "execute_result"
    }
   ],
   "source": [
    " prediction_svc"
   ]
  },
  {
   "cell_type": "code",
   "execution_count": 43,
   "metadata": {},
   "outputs": [
    {
     "name": "stdout",
     "output_type": "stream",
     "text": [
      "Fitting 5 folds for each of 25 candidates, totalling 125 fits\n",
      "[CV] C=0.1, gamma=1, kernel=rbf ......................................\n"
     ]
    },
    {
     "name": "stderr",
     "output_type": "stream",
     "text": [
      "[Parallel(n_jobs=1)]: Using backend SequentialBackend with 1 concurrent workers.\n"
     ]
    },
    {
     "name": "stdout",
     "output_type": "stream",
     "text": [
      "[CV] .......... C=0.1, gamma=1, kernel=rbf, score=0.436, total=   2.0s\n",
      "[CV] C=0.1, gamma=1, kernel=rbf ......................................\n"
     ]
    },
    {
     "name": "stderr",
     "output_type": "stream",
     "text": [
      "[Parallel(n_jobs=1)]: Done   1 out of   1 | elapsed:    1.9s remaining:    0.0s\n"
     ]
    },
    {
     "name": "stdout",
     "output_type": "stream",
     "text": [
      "[CV] .......... C=0.1, gamma=1, kernel=rbf, score=0.475, total=   1.9s\n",
      "[CV] C=0.1, gamma=1, kernel=rbf ......................................\n"
     ]
    },
    {
     "name": "stderr",
     "output_type": "stream",
     "text": [
      "[Parallel(n_jobs=1)]: Done   2 out of   2 | elapsed:    3.8s remaining:    0.0s\n"
     ]
    },
    {
     "name": "stdout",
     "output_type": "stream",
     "text": [
      "[CV] .......... C=0.1, gamma=1, kernel=rbf, score=0.449, total=   1.9s\n",
      "[CV] C=0.1, gamma=1, kernel=rbf ......................................\n",
      "[CV] .......... C=0.1, gamma=1, kernel=rbf, score=0.422, total=   1.8s\n",
      "[CV] C=0.1, gamma=1, kernel=rbf ......................................\n",
      "[CV] .......... C=0.1, gamma=1, kernel=rbf, score=0.416, total=   1.6s\n",
      "[CV] C=0.1, gamma=0.1, kernel=rbf ....................................\n",
      "[CV] ........ C=0.1, gamma=0.1, kernel=rbf, score=0.348, total=   1.6s\n",
      "[CV] C=0.1, gamma=0.1, kernel=rbf ....................................\n",
      "[CV] ........ C=0.1, gamma=0.1, kernel=rbf, score=0.355, total=   1.6s\n",
      "[CV] C=0.1, gamma=0.1, kernel=rbf ....................................\n",
      "[CV] ........ C=0.1, gamma=0.1, kernel=rbf, score=0.350, total=   1.6s\n",
      "[CV] C=0.1, gamma=0.1, kernel=rbf ....................................\n",
      "[CV] ........ C=0.1, gamma=0.1, kernel=rbf, score=0.344, total=   1.6s\n",
      "[CV] C=0.1, gamma=0.1, kernel=rbf ....................................\n",
      "[CV] ........ C=0.1, gamma=0.1, kernel=rbf, score=0.342, total=   1.6s\n",
      "[CV] C=0.1, gamma=0.01, kernel=rbf ...................................\n",
      "[CV] ....... C=0.1, gamma=0.01, kernel=rbf, score=0.314, total=   1.8s\n",
      "[CV] C=0.1, gamma=0.01, kernel=rbf ...................................\n",
      "[CV] ....... C=0.1, gamma=0.01, kernel=rbf, score=0.314, total=   1.7s\n",
      "[CV] C=0.1, gamma=0.01, kernel=rbf ...................................\n",
      "[CV] ....... C=0.1, gamma=0.01, kernel=rbf, score=0.316, total=   1.6s\n",
      "[CV] C=0.1, gamma=0.01, kernel=rbf ...................................\n",
      "[CV] ....... C=0.1, gamma=0.01, kernel=rbf, score=0.314, total=   1.6s\n",
      "[CV] C=0.1, gamma=0.01, kernel=rbf ...................................\n",
      "[CV] ....... C=0.1, gamma=0.01, kernel=rbf, score=0.314, total=   1.6s\n",
      "[CV] C=0.1, gamma=0.001, kernel=rbf ..................................\n",
      "[CV] ...... C=0.1, gamma=0.001, kernel=rbf, score=0.314, total=   1.5s\n",
      "[CV] C=0.1, gamma=0.001, kernel=rbf ..................................\n",
      "[CV] ...... C=0.1, gamma=0.001, kernel=rbf, score=0.314, total=   1.5s\n",
      "[CV] C=0.1, gamma=0.001, kernel=rbf ..................................\n",
      "[CV] ...... C=0.1, gamma=0.001, kernel=rbf, score=0.316, total=   1.5s\n",
      "[CV] C=0.1, gamma=0.001, kernel=rbf ..................................\n",
      "[CV] ...... C=0.1, gamma=0.001, kernel=rbf, score=0.314, total=   1.5s\n",
      "[CV] C=0.1, gamma=0.001, kernel=rbf ..................................\n",
      "[CV] ...... C=0.1, gamma=0.001, kernel=rbf, score=0.314, total=   1.5s\n",
      "[CV] C=0.1, gamma=0.0001, kernel=rbf .................................\n",
      "[CV] ..... C=0.1, gamma=0.0001, kernel=rbf, score=0.314, total=   1.6s\n",
      "[CV] C=0.1, gamma=0.0001, kernel=rbf .................................\n",
      "[CV] ..... C=0.1, gamma=0.0001, kernel=rbf, score=0.314, total=   1.6s\n",
      "[CV] C=0.1, gamma=0.0001, kernel=rbf .................................\n",
      "[CV] ..... C=0.1, gamma=0.0001, kernel=rbf, score=0.316, total=   1.5s\n",
      "[CV] C=0.1, gamma=0.0001, kernel=rbf .................................\n",
      "[CV] ..... C=0.1, gamma=0.0001, kernel=rbf, score=0.314, total=   1.5s\n",
      "[CV] C=0.1, gamma=0.0001, kernel=rbf .................................\n",
      "[CV] ..... C=0.1, gamma=0.0001, kernel=rbf, score=0.314, total=   1.4s\n",
      "[CV] C=1, gamma=1, kernel=rbf ........................................\n",
      "[CV] ............ C=1, gamma=1, kernel=rbf, score=0.863, total=   1.3s\n",
      "[CV] C=1, gamma=1, kernel=rbf ........................................\n",
      "[CV] ............ C=1, gamma=1, kernel=rbf, score=0.879, total=   1.3s\n",
      "[CV] C=1, gamma=1, kernel=rbf ........................................\n",
      "[CV] ............ C=1, gamma=1, kernel=rbf, score=0.875, total=   1.3s\n",
      "[CV] C=1, gamma=1, kernel=rbf ........................................\n",
      "[CV] ............ C=1, gamma=1, kernel=rbf, score=0.889, total=   1.3s\n",
      "[CV] C=1, gamma=1, kernel=rbf ........................................\n",
      "[CV] ............ C=1, gamma=1, kernel=rbf, score=0.896, total=   1.3s\n",
      "[CV] C=1, gamma=0.1, kernel=rbf ......................................\n",
      "[CV] .......... C=1, gamma=0.1, kernel=rbf, score=0.605, total=   1.5s\n",
      "[CV] C=1, gamma=0.1, kernel=rbf ......................................\n",
      "[CV] .......... C=1, gamma=0.1, kernel=rbf, score=0.613, total=   1.5s\n",
      "[CV] C=1, gamma=0.1, kernel=rbf ......................................\n",
      "[CV] .......... C=1, gamma=0.1, kernel=rbf, score=0.596, total=   1.7s\n",
      "[CV] C=1, gamma=0.1, kernel=rbf ......................................\n",
      "[CV] .......... C=1, gamma=0.1, kernel=rbf, score=0.607, total=   1.5s\n",
      "[CV] C=1, gamma=0.1, kernel=rbf ......................................\n",
      "[CV] .......... C=1, gamma=0.1, kernel=rbf, score=0.602, total=   1.5s\n",
      "[CV] C=1, gamma=0.01, kernel=rbf .....................................\n",
      "[CV] ......... C=1, gamma=0.01, kernel=rbf, score=0.361, total=   1.6s\n",
      "[CV] C=1, gamma=0.01, kernel=rbf .....................................\n",
      "[CV] ......... C=1, gamma=0.01, kernel=rbf, score=0.383, total=   1.6s\n",
      "[CV] C=1, gamma=0.01, kernel=rbf .....................................\n",
      "[CV] ......... C=1, gamma=0.01, kernel=rbf, score=0.367, total=   1.6s\n",
      "[CV] C=1, gamma=0.01, kernel=rbf .....................................\n",
      "[CV] ......... C=1, gamma=0.01, kernel=rbf, score=0.355, total=   1.6s\n",
      "[CV] C=1, gamma=0.01, kernel=rbf .....................................\n",
      "[CV] ......... C=1, gamma=0.01, kernel=rbf, score=0.359, total=   1.6s\n",
      "[CV] C=1, gamma=0.001, kernel=rbf ....................................\n",
      "[CV] ........ C=1, gamma=0.001, kernel=rbf, score=0.314, total=   1.6s\n",
      "[CV] C=1, gamma=0.001, kernel=rbf ....................................\n",
      "[CV] ........ C=1, gamma=0.001, kernel=rbf, score=0.314, total=   1.6s\n",
      "[CV] C=1, gamma=0.001, kernel=rbf ....................................\n",
      "[CV] ........ C=1, gamma=0.001, kernel=rbf, score=0.316, total=   1.7s\n",
      "[CV] C=1, gamma=0.001, kernel=rbf ....................................\n",
      "[CV] ........ C=1, gamma=0.001, kernel=rbf, score=0.314, total=   1.6s\n",
      "[CV] C=1, gamma=0.001, kernel=rbf ....................................\n",
      "[CV] ........ C=1, gamma=0.001, kernel=rbf, score=0.314, total=   1.6s\n",
      "[CV] C=1, gamma=0.0001, kernel=rbf ...................................\n",
      "[CV] ....... C=1, gamma=0.0001, kernel=rbf, score=0.314, total=   1.5s\n",
      "[CV] C=1, gamma=0.0001, kernel=rbf ...................................\n",
      "[CV] ....... C=1, gamma=0.0001, kernel=rbf, score=0.314, total=   1.5s\n",
      "[CV] C=1, gamma=0.0001, kernel=rbf ...................................\n",
      "[CV] ....... C=1, gamma=0.0001, kernel=rbf, score=0.316, total=   1.5s\n",
      "[CV] C=1, gamma=0.0001, kernel=rbf ...................................\n",
      "[CV] ....... C=1, gamma=0.0001, kernel=rbf, score=0.314, total=   1.5s\n",
      "[CV] C=1, gamma=0.0001, kernel=rbf ...................................\n",
      "[CV] ....... C=1, gamma=0.0001, kernel=rbf, score=0.314, total=   1.5s\n",
      "[CV] C=10, gamma=1, kernel=rbf .......................................\n",
      "[CV] ........... C=10, gamma=1, kernel=rbf, score=0.885, total=   1.1s\n",
      "[CV] C=10, gamma=1, kernel=rbf .......................................\n",
      "[CV] ........... C=10, gamma=1, kernel=rbf, score=0.889, total=   1.1s\n",
      "[CV] C=10, gamma=1, kernel=rbf .......................................\n",
      "[CV] ........... C=10, gamma=1, kernel=rbf, score=0.883, total=   1.1s\n",
      "[CV] C=10, gamma=1, kernel=rbf .......................................\n",
      "[CV] ........... C=10, gamma=1, kernel=rbf, score=0.891, total=   1.3s\n",
      "[CV] C=10, gamma=1, kernel=rbf .......................................\n",
      "[CV] ........... C=10, gamma=1, kernel=rbf, score=0.908, total=   1.2s\n",
      "[CV] C=10, gamma=0.1, kernel=rbf .....................................\n",
      "[CV] ......... C=10, gamma=0.1, kernel=rbf, score=0.861, total=   1.0s\n",
      "[CV] C=10, gamma=0.1, kernel=rbf .....................................\n",
      "[CV] ......... C=10, gamma=0.1, kernel=rbf, score=0.875, total=   1.1s\n",
      "[CV] C=10, gamma=0.1, kernel=rbf .....................................\n",
      "[CV] ......... C=10, gamma=0.1, kernel=rbf, score=0.875, total=   1.0s\n",
      "[CV] C=10, gamma=0.1, kernel=rbf .....................................\n",
      "[CV] ......... C=10, gamma=0.1, kernel=rbf, score=0.873, total=   1.1s\n",
      "[CV] C=10, gamma=0.1, kernel=rbf .....................................\n",
      "[CV] ......... C=10, gamma=0.1, kernel=rbf, score=0.863, total=   1.0s\n",
      "[CV] C=10, gamma=0.01, kernel=rbf ....................................\n"
     ]
    },
    {
     "name": "stdout",
     "output_type": "stream",
     "text": [
      "[CV] ........ C=10, gamma=0.01, kernel=rbf, score=0.607, total=   1.5s\n",
      "[CV] C=10, gamma=0.01, kernel=rbf ....................................\n",
      "[CV] ........ C=10, gamma=0.01, kernel=rbf, score=0.615, total=   1.5s\n",
      "[CV] C=10, gamma=0.01, kernel=rbf ....................................\n",
      "[CV] ........ C=10, gamma=0.01, kernel=rbf, score=0.596, total=   1.5s\n",
      "[CV] C=10, gamma=0.01, kernel=rbf ....................................\n",
      "[CV] ........ C=10, gamma=0.01, kernel=rbf, score=0.609, total=   1.5s\n",
      "[CV] C=10, gamma=0.01, kernel=rbf ....................................\n",
      "[CV] ........ C=10, gamma=0.01, kernel=rbf, score=0.605, total=   1.4s\n",
      "[CV] C=10, gamma=0.001, kernel=rbf ...................................\n",
      "[CV] ....... C=10, gamma=0.001, kernel=rbf, score=0.363, total=   1.7s\n",
      "[CV] C=10, gamma=0.001, kernel=rbf ...................................\n",
      "[CV] ....... C=10, gamma=0.001, kernel=rbf, score=0.385, total=   1.9s\n",
      "[CV] C=10, gamma=0.001, kernel=rbf ...................................\n",
      "[CV] ....... C=10, gamma=0.001, kernel=rbf, score=0.369, total=   1.8s\n",
      "[CV] C=10, gamma=0.001, kernel=rbf ...................................\n",
      "[CV] ....... C=10, gamma=0.001, kernel=rbf, score=0.355, total=   1.9s\n",
      "[CV] C=10, gamma=0.001, kernel=rbf ...................................\n",
      "[CV] ....... C=10, gamma=0.001, kernel=rbf, score=0.361, total=   1.7s\n",
      "[CV] C=10, gamma=0.0001, kernel=rbf ..................................\n",
      "[CV] ...... C=10, gamma=0.0001, kernel=rbf, score=0.314, total=   1.7s\n",
      "[CV] C=10, gamma=0.0001, kernel=rbf ..................................\n",
      "[CV] ...... C=10, gamma=0.0001, kernel=rbf, score=0.314, total=   1.7s\n",
      "[CV] C=10, gamma=0.0001, kernel=rbf ..................................\n",
      "[CV] ...... C=10, gamma=0.0001, kernel=rbf, score=0.316, total=   1.7s\n",
      "[CV] C=10, gamma=0.0001, kernel=rbf ..................................\n",
      "[CV] ...... C=10, gamma=0.0001, kernel=rbf, score=0.314, total=   2.0s\n",
      "[CV] C=10, gamma=0.0001, kernel=rbf ..................................\n",
      "[CV] ...... C=10, gamma=0.0001, kernel=rbf, score=0.314, total=   1.9s\n",
      "[CV] C=100, gamma=1, kernel=rbf ......................................\n",
      "[CV] .......... C=100, gamma=1, kernel=rbf, score=0.885, total=   1.4s\n",
      "[CV] C=100, gamma=1, kernel=rbf ......................................\n",
      "[CV] .......... C=100, gamma=1, kernel=rbf, score=0.889, total=   1.3s\n",
      "[CV] C=100, gamma=1, kernel=rbf ......................................\n",
      "[CV] .......... C=100, gamma=1, kernel=rbf, score=0.883, total=   1.1s\n",
      "[CV] C=100, gamma=1, kernel=rbf ......................................\n",
      "[CV] .......... C=100, gamma=1, kernel=rbf, score=0.891, total=   1.1s\n",
      "[CV] C=100, gamma=1, kernel=rbf ......................................\n",
      "[CV] .......... C=100, gamma=1, kernel=rbf, score=0.908, total=   1.2s\n",
      "[CV] C=100, gamma=0.1, kernel=rbf ....................................\n",
      "[CV] ........ C=100, gamma=0.1, kernel=rbf, score=0.867, total=   1.1s\n",
      "[CV] C=100, gamma=0.1, kernel=rbf ....................................\n",
      "[CV] ........ C=100, gamma=0.1, kernel=rbf, score=0.887, total=   1.1s\n",
      "[CV] C=100, gamma=0.1, kernel=rbf ....................................\n",
      "[CV] ........ C=100, gamma=0.1, kernel=rbf, score=0.881, total=   1.0s\n",
      "[CV] C=100, gamma=0.1, kernel=rbf ....................................\n",
      "[CV] ........ C=100, gamma=0.1, kernel=rbf, score=0.877, total=   1.1s\n",
      "[CV] C=100, gamma=0.1, kernel=rbf ....................................\n",
      "[CV] ........ C=100, gamma=0.1, kernel=rbf, score=0.877, total=   1.1s\n",
      "[CV] C=100, gamma=0.01, kernel=rbf ...................................\n",
      "[CV] ....... C=100, gamma=0.01, kernel=rbf, score=0.854, total=   1.2s\n",
      "[CV] C=100, gamma=0.01, kernel=rbf ...................................\n",
      "[CV] ....... C=100, gamma=0.01, kernel=rbf, score=0.869, total=   1.3s\n",
      "[CV] C=100, gamma=0.01, kernel=rbf ...................................\n",
      "[CV] ....... C=100, gamma=0.01, kernel=rbf, score=0.879, total=   1.2s\n",
      "[CV] C=100, gamma=0.01, kernel=rbf ...................................\n",
      "[CV] ....... C=100, gamma=0.01, kernel=rbf, score=0.871, total=   1.6s\n",
      "[CV] C=100, gamma=0.01, kernel=rbf ...................................\n",
      "[CV] ....... C=100, gamma=0.01, kernel=rbf, score=0.859, total=   1.2s\n",
      "[CV] C=100, gamma=0.001, kernel=rbf ..................................\n",
      "[CV] ...... C=100, gamma=0.001, kernel=rbf, score=0.607, total=   1.6s\n",
      "[CV] C=100, gamma=0.001, kernel=rbf ..................................\n",
      "[CV] ...... C=100, gamma=0.001, kernel=rbf, score=0.619, total=   1.7s\n",
      "[CV] C=100, gamma=0.001, kernel=rbf ..................................\n",
      "[CV] ...... C=100, gamma=0.001, kernel=rbf, score=0.596, total=   1.5s\n",
      "[CV] C=100, gamma=0.001, kernel=rbf ..................................\n",
      "[CV] ...... C=100, gamma=0.001, kernel=rbf, score=0.609, total=   1.5s\n",
      "[CV] C=100, gamma=0.001, kernel=rbf ..................................\n",
      "[CV] ...... C=100, gamma=0.001, kernel=rbf, score=0.605, total=   1.9s\n",
      "[CV] C=100, gamma=0.0001, kernel=rbf .................................\n",
      "[CV] ..... C=100, gamma=0.0001, kernel=rbf, score=0.363, total=   1.9s\n",
      "[CV] C=100, gamma=0.0001, kernel=rbf .................................\n",
      "[CV] ..... C=100, gamma=0.0001, kernel=rbf, score=0.385, total=   1.8s\n",
      "[CV] C=100, gamma=0.0001, kernel=rbf .................................\n",
      "[CV] ..... C=100, gamma=0.0001, kernel=rbf, score=0.369, total=   1.9s\n",
      "[CV] C=100, gamma=0.0001, kernel=rbf .................................\n",
      "[CV] ..... C=100, gamma=0.0001, kernel=rbf, score=0.355, total=   2.4s\n",
      "[CV] C=100, gamma=0.0001, kernel=rbf .................................\n",
      "[CV] ..... C=100, gamma=0.0001, kernel=rbf, score=0.361, total=   2.1s\n",
      "[CV] C=1000, gamma=1, kernel=rbf .....................................\n",
      "[CV] ......... C=1000, gamma=1, kernel=rbf, score=0.885, total=   1.5s\n",
      "[CV] C=1000, gamma=1, kernel=rbf .....................................\n",
      "[CV] ......... C=1000, gamma=1, kernel=rbf, score=0.889, total=   1.5s\n",
      "[CV] C=1000, gamma=1, kernel=rbf .....................................\n",
      "[CV] ......... C=1000, gamma=1, kernel=rbf, score=0.883, total=   1.4s\n",
      "[CV] C=1000, gamma=1, kernel=rbf .....................................\n",
      "[CV] ......... C=1000, gamma=1, kernel=rbf, score=0.891, total=   1.1s\n",
      "[CV] C=1000, gamma=1, kernel=rbf .....................................\n",
      "[CV] ......... C=1000, gamma=1, kernel=rbf, score=0.908, total=   1.1s\n",
      "[CV] C=1000, gamma=0.1, kernel=rbf ...................................\n",
      "[CV] ....... C=1000, gamma=0.1, kernel=rbf, score=0.869, total=   1.2s\n",
      "[CV] C=1000, gamma=0.1, kernel=rbf ...................................\n",
      "[CV] ....... C=1000, gamma=0.1, kernel=rbf, score=0.883, total=   1.1s\n",
      "[CV] C=1000, gamma=0.1, kernel=rbf ...................................\n",
      "[CV] ....... C=1000, gamma=0.1, kernel=rbf, score=0.891, total=   1.1s\n",
      "[CV] C=1000, gamma=0.1, kernel=rbf ...................................\n",
      "[CV] ....... C=1000, gamma=0.1, kernel=rbf, score=0.881, total=   1.2s\n",
      "[CV] C=1000, gamma=0.1, kernel=rbf ...................................\n",
      "[CV] ....... C=1000, gamma=0.1, kernel=rbf, score=0.879, total=   1.5s\n",
      "[CV] C=1000, gamma=0.01, kernel=rbf ..................................\n",
      "[CV] ...... C=1000, gamma=0.01, kernel=rbf, score=0.865, total=   1.2s\n",
      "[CV] C=1000, gamma=0.01, kernel=rbf ..................................\n",
      "[CV] ...... C=1000, gamma=0.01, kernel=rbf, score=0.869, total=   1.2s\n",
      "[CV] C=1000, gamma=0.01, kernel=rbf ..................................\n",
      "[CV] ...... C=1000, gamma=0.01, kernel=rbf, score=0.867, total=   1.2s\n",
      "[CV] C=1000, gamma=0.01, kernel=rbf ..................................\n",
      "[CV] ...... C=1000, gamma=0.01, kernel=rbf, score=0.881, total=   1.3s\n",
      "[CV] C=1000, gamma=0.01, kernel=rbf ..................................\n",
      "[CV] ...... C=1000, gamma=0.01, kernel=rbf, score=0.877, total=   1.3s\n",
      "[CV] C=1000, gamma=0.001, kernel=rbf .................................\n",
      "[CV] ..... C=1000, gamma=0.001, kernel=rbf, score=0.852, total=   1.1s\n",
      "[CV] C=1000, gamma=0.001, kernel=rbf .................................\n",
      "[CV] ..... C=1000, gamma=0.001, kernel=rbf, score=0.869, total=   1.2s\n",
      "[CV] C=1000, gamma=0.001, kernel=rbf .................................\n",
      "[CV] ..... C=1000, gamma=0.001, kernel=rbf, score=0.879, total=   1.1s\n",
      "[CV] C=1000, gamma=0.001, kernel=rbf .................................\n"
     ]
    },
    {
     "name": "stdout",
     "output_type": "stream",
     "text": [
      "[CV] ..... C=1000, gamma=0.001, kernel=rbf, score=0.871, total=   1.1s\n",
      "[CV] C=1000, gamma=0.001, kernel=rbf .................................\n",
      "[CV] ..... C=1000, gamma=0.001, kernel=rbf, score=0.859, total=   1.1s\n",
      "[CV] C=1000, gamma=0.0001, kernel=rbf ................................\n",
      "[CV] .... C=1000, gamma=0.0001, kernel=rbf, score=0.607, total=   1.5s\n",
      "[CV] C=1000, gamma=0.0001, kernel=rbf ................................\n",
      "[CV] .... C=1000, gamma=0.0001, kernel=rbf, score=0.619, total=   1.7s\n",
      "[CV] C=1000, gamma=0.0001, kernel=rbf ................................\n",
      "[CV] .... C=1000, gamma=0.0001, kernel=rbf, score=0.596, total=   1.7s\n",
      "[CV] C=1000, gamma=0.0001, kernel=rbf ................................\n",
      "[CV] .... C=1000, gamma=0.0001, kernel=rbf, score=0.609, total=   1.5s\n",
      "[CV] C=1000, gamma=0.0001, kernel=rbf ................................\n",
      "[CV] .... C=1000, gamma=0.0001, kernel=rbf, score=0.605, total=   1.5s\n"
     ]
    },
    {
     "name": "stderr",
     "output_type": "stream",
     "text": [
      "[Parallel(n_jobs=1)]: Done 125 out of 125 | elapsed:  3.0min finished\n"
     ]
    },
    {
     "data": {
      "text/plain": [
       "GridSearchCV(cv=None, error_score=nan,\n",
       "             estimator=SVC(C=1.0, break_ties=False, cache_size=200,\n",
       "                           class_weight=None, coef0=0.0,\n",
       "                           decision_function_shape='ovr', degree=3,\n",
       "                           gamma='scale', kernel='rbf', max_iter=-1,\n",
       "                           probability=False, random_state=None, shrinking=True,\n",
       "                           tol=0.001, verbose=False),\n",
       "             iid='deprecated', n_jobs=None,\n",
       "             param_grid={'C': [0.1, 1, 10, 100, 1000],\n",
       "                         'gamma': [1, 0.1, 0.01, 0.001, 0.0001],\n",
       "                         'kernel': ['rbf']},\n",
       "             pre_dispatch='2*n_jobs', refit=True, return_train_score=False,\n",
       "             scoring=None, verbose=3)"
      ]
     },
     "execution_count": 43,
     "metadata": {},
     "output_type": "execute_result"
    }
   ],
   "source": [
    "from sklearn.model_selection import GridSearchCV\n",
    "\n",
    "# defining parameter range\n",
    "param_grid = {'C': [0.1, 1, 10, 100, 1000],'gamma': [1, 0.1, 0.01, 0.001, 0.0001],'kernel': ['rbf']}\n",
    "\n",
    "grid = GridSearchCV(SVC(), param_grid, refit = True, verbose = 3)\n",
    "\n",
    "# fitting the model for grid search\n",
    "grid.fit(x_train_tfidf, y_train)\n"
   ]
  },
  {
   "cell_type": "code",
   "execution_count": 44,
   "metadata": {},
   "outputs": [
    {
     "name": "stdout",
     "output_type": "stream",
     "text": [
      "{'C': 10, 'gamma': 1, 'kernel': 'rbf'}\n"
     ]
    }
   ],
   "source": [
    "# print best parameter after tuning\n",
    "\n",
    "print(grid.best_params_)"
   ]
  },
  {
   "cell_type": "code",
   "execution_count": 45,
   "metadata": {},
   "outputs": [
    {
     "name": "stdout",
     "output_type": "stream",
     "text": [
      "SVC(C=10, break_ties=False, cache_size=200, class_weight=None, coef0=0.0,\n",
      "    decision_function_shape='ovr', degree=3, gamma=1, kernel='rbf', max_iter=-1,\n",
      "    probability=False, random_state=None, shrinking=True, tol=0.001,\n",
      "    verbose=False)\n"
     ]
    }
   ],
   "source": [
    "# print how our model looks after hyper-parameter tuning\n",
    "\n",
    "print(grid.best_estimator_)"
   ]
  },
  {
   "cell_type": "code",
   "execution_count": 46,
   "metadata": {},
   "outputs": [
    {
     "name": "stdout",
     "output_type": "stream",
     "text": [
      "              precision    recall  f1-score   support\n",
      "\n",
      "           1       0.95      1.00      0.97       192\n",
      "           2       1.00      0.76      0.86        41\n",
      "           3       0.99      0.89      0.94        82\n",
      "           4       0.89      0.84      0.86       117\n",
      "           5       0.90      0.96      0.93       208\n",
      "\n",
      "    accuracy                           0.93       640\n",
      "   macro avg       0.94      0.89      0.91       640\n",
      "weighted avg       0.93      0.93      0.93       640\n",
      "\n"
     ]
    }
   ],
   "source": [
    "grid_predictions = grid.predict(x_test_tfidf)\n",
    "  \n",
    "# print classification report\n",
    "print(classification_report(y_test, grid_predictions))"
   ]
  },
  {
   "cell_type": "code",
   "execution_count": 47,
   "metadata": {},
   "outputs": [
    {
     "data": {
      "text/plain": [
       "0.928125"
      ]
     },
     "execution_count": 47,
     "metadata": {},
     "output_type": "execute_result"
    }
   ],
   "source": [
    "metrics.accuracy_score(y_test, grid_predictions)"
   ]
  },
  {
   "cell_type": "code",
   "execution_count": 34,
   "metadata": {},
   "outputs": [
    {
     "name": "stdout",
     "output_type": "stream",
     "text": [
      "Mean Accuracy: 0.811 (0.026)\n"
     ]
    }
   ],
   "source": [
    "# evaluate gradient boosting algorithm for classification\n",
    "\n",
    "# define the model\n",
    "gb = GradientBoostingClassifier(random_state=0)\n",
    "\n",
    "# define the evaluation method\n",
    "cv = RepeatedStratifiedKFold(n_splits=10, n_repeats=3, random_state=0)\n",
    "\n",
    "# evaluate the model on the dataset\n",
    "n_scores = cross_val_score(gb, x_train_tfidf, y_train , scoring='accuracy', cv=cv, n_jobs=-1)\n",
    "\n",
    "# report performance\n",
    "print('Mean Accuracy: %.3f (%.3f)' % (mean(n_scores), std(n_scores)))"
   ]
  },
  {
   "cell_type": "code",
   "execution_count": 35,
   "metadata": {},
   "outputs": [],
   "source": [
    "gb.fit(x_train_tfidf, y_train)\n",
    "\n",
    "prediction_gb = gb.predict(x_test_tfidf)"
   ]
  },
  {
   "cell_type": "code",
   "execution_count": 36,
   "metadata": {},
   "outputs": [
    {
     "data": {
      "text/plain": [
       "0.8125"
      ]
     },
     "execution_count": 36,
     "metadata": {},
     "output_type": "execute_result"
    }
   ],
   "source": [
    "metrics.accuracy_score(y_test, prediction_gb)"
   ]
  },
  {
   "cell_type": "code",
   "execution_count": 37,
   "metadata": {},
   "outputs": [
    {
     "data": {
      "text/plain": [
       "array([5, 1, 5, 5, 1, 5, 1, 5, 4, 4, 1, 5, 4, 5, 1, 5, 2, 5, 5, 1, 5, 5,\n",
       "       5, 5, 1, 1, 1, 5, 5, 5, 1, 4, 5, 5, 3, 5, 1, 4, 1, 4, 5, 4, 4, 5,\n",
       "       5, 5, 5, 4, 3, 1, 1, 5, 4, 3, 1, 3, 1, 5, 2, 3, 1, 1, 5, 5, 1, 1,\n",
       "       1, 2, 1, 5, 5, 5, 2, 5, 3, 5, 5, 5, 4, 3, 5, 1, 5, 1, 2, 1, 5, 3,\n",
       "       1, 1, 4, 1, 3, 1, 3, 5, 2, 5, 4, 2, 5, 4, 1, 5, 5, 1, 4, 1, 1, 5,\n",
       "       1, 5, 1, 1, 1, 3, 1, 4, 5, 5, 5, 3, 5, 1, 5, 1, 1, 1, 4, 5, 5, 1,\n",
       "       4, 5, 5, 3, 3, 3, 1, 4, 5, 5, 3, 1, 4, 1, 2, 1, 1, 5, 4, 5, 5, 4,\n",
       "       5, 1, 5, 1, 1, 5, 1, 5, 5, 1, 1, 4, 5, 5, 4, 3, 1, 3, 5, 4, 5, 1,\n",
       "       5, 5, 1, 2, 1, 1, 1, 4, 5, 5, 1, 5, 4, 5, 5, 4, 1, 1, 1, 5, 5, 1,\n",
       "       4, 1, 5, 4, 5, 5, 5, 3, 5, 1, 5, 1, 5, 5, 1, 5, 5, 2, 1, 5, 5, 5,\n",
       "       1, 1, 5, 1, 5, 5, 1, 4, 5, 5, 5, 1, 1, 5, 1, 1, 5, 3, 5, 4, 1, 5,\n",
       "       3, 1, 1, 5, 5, 3, 1, 1, 5, 4, 1, 5, 5, 1, 2, 1, 1, 1, 1, 1, 1, 5,\n",
       "       1, 2, 5, 1, 5, 5, 5, 5, 3, 1, 5, 1, 5, 5, 4, 4, 5, 1, 5, 5, 5, 1,\n",
       "       5, 5, 5, 3, 1, 3, 5, 5, 1, 5, 3, 4, 1, 5, 5, 5, 1, 4, 1, 5, 5, 4,\n",
       "       1, 1, 1, 5, 4, 5, 1, 1, 5, 1, 1, 5, 1, 4, 5, 5, 1, 1, 1, 5, 1, 1,\n",
       "       3, 5, 1, 4, 5, 1, 1, 1, 1, 5, 5, 5, 1, 5, 4, 5, 1, 5, 3, 1, 1, 3,\n",
       "       1, 4, 5, 2, 1, 1, 1, 5, 1, 4, 1, 1, 4, 5, 5, 1, 2, 5, 5, 5, 3, 4,\n",
       "       1, 5, 5, 1, 5, 5, 3, 3, 5, 1, 1, 4, 1, 2, 5, 5, 1, 4, 1, 1, 5, 1,\n",
       "       4, 1, 5, 5, 1, 5, 4, 1, 5, 1, 5, 1, 5, 2, 5, 1, 3, 5, 3, 5, 5, 5,\n",
       "       1, 3, 5, 4, 5, 5, 1, 1, 1, 1, 5, 5, 4, 5, 4, 1, 5, 4, 1, 5, 1, 3,\n",
       "       4, 1, 5, 1, 5, 4, 5, 1, 4, 1, 4, 5, 3, 4, 1, 5, 5, 4, 4, 4, 1, 5,\n",
       "       4, 5, 5, 4, 3, 5, 5, 4, 2, 4, 5, 2, 1, 1, 1, 5, 5, 1, 3, 5, 1, 4,\n",
       "       5, 4, 3, 5, 2, 1, 5, 1, 5, 1, 5, 1, 5, 1, 1, 4, 5, 5, 5, 5, 1, 5,\n",
       "       5, 4, 1, 5, 3, 5, 1, 4, 1, 3, 5, 5, 5, 5, 1, 1, 5, 4, 1, 5, 5, 3,\n",
       "       3, 5, 1, 1, 1, 1, 1, 5, 4, 5, 5, 1, 5, 1, 2, 4, 1, 1, 5, 4, 1, 5,\n",
       "       1, 1, 1, 1, 5, 1, 4, 5, 3, 2, 5, 1, 1, 1, 1, 1, 5, 1, 5, 1, 4, 4,\n",
       "       1, 1, 5, 3, 1, 5, 1, 4, 1, 2, 3, 1, 1, 1, 1, 4, 3, 5, 1, 1, 5, 4,\n",
       "       5, 4, 5, 2, 3, 5, 5, 1, 4, 5, 4, 5, 5, 1, 5, 5, 1, 3, 4, 1, 1, 5,\n",
       "       5, 4, 1, 1, 1, 5, 4, 5, 4, 1, 1, 1, 5, 1, 5, 1, 5, 5, 1, 1, 5, 3,\n",
       "       4, 1], dtype=int64)"
      ]
     },
     "execution_count": 37,
     "metadata": {},
     "output_type": "execute_result"
    }
   ],
   "source": [
    "prediction_gb"
   ]
  },
  {
   "cell_type": "code",
   "execution_count": 38,
   "metadata": {},
   "outputs": [],
   "source": [
    "def sentiment_category(score):\n",
    "    if score >= 4:\n",
    "        return \"positive\"\n",
    "    elif score <= 2:\n",
    "        return \"negative\"\n",
    "    else:\n",
    "        return \"neutral\""
   ]
  },
  {
   "cell_type": "code",
   "execution_count": 39,
   "metadata": {},
   "outputs": [],
   "source": [
    "prediction_svc = pd.DataFrame(prediction_svc)   \n",
    "data['sentiment_score']=prediction_svc\n",
    "data['review_category']=data['sentiment_score'].apply(lambda x:sentiment_category(x))"
   ]
  },
  {
   "cell_type": "code",
   "execution_count": 40,
   "metadata": {},
   "outputs": [
    {
     "data": {
      "text/plain": [
       "Text(0.5, 1.0, 'Distribution of Reviews Category')"
      ]
     },
     "execution_count": 40,
     "metadata": {},
     "output_type": "execute_result"
    },
    {
     "data": {
      "image/png": "[encoded data removed]",
      "text/plain": [
       "<Figure size 432x288 with 1 Axes>"
      ]
     },
     "metadata": {
      "needs_background": "light"
     },
     "output_type": "display_data"
    }
   ],
   "source": [
    "sns.countplot(data['review_category']).set_title(\"Distribution of Reviews Category\")"
   ]
  },
  {
   "cell_type": "code",
   "execution_count": 41,
   "metadata": {},
   "outputs": [
    {
     "data": {
      "image/png": "[encoded data removed]",
      "text/plain": [
       "<Figure size 432x288 with 1 Axes>"
      ]
     },
     "metadata": {
      "needs_background": "light"
     },
     "output_type": "display_data"
    }
   ],
   "source": [
    "wordcloud = WordCloud(height=4000, width=4000, background_color='black')\n",
    "wordcloud = wordcloud.generate(' '.join(data.loc[data['review_category']=='positive','body'].tolist()))\n",
    "plt.imshow(wordcloud)\n",
    "plt.title(\"Most common words in positive customer comments\")\n",
    "plt.axis('off')\n",
    "plt.show()"
   ]
  },
  {
   "cell_type": "code",
   "execution_count": null,
   "metadata": {},
   "outputs": [],
   "source": []
  }
 ],
 "metadata": {
  "kernelspec": {
   "display_name": "Python 3",
   "language": "python",
   "name": "python3"
  },
  "language_info": {
   "codemirror_mode": {
    "name": "ipython",
    "version": 3
   },
   "file_extension": ".py",
   "mimetype": "text/x-python",
   "name": "python",
   "nbconvert_exporter": "python",
   "pygments_lexer": "ipython3",
   "version": "3.7.6"
  }
 },
 "nbformat": 4,
 "nbformat_minor": 4
}
