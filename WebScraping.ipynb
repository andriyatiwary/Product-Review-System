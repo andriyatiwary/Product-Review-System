{
 "cells": [
  {
   "cell_type": "code",
   "execution_count": 1,
   "metadata": {},
   "outputs": [
    {
     "name": "stdout",
     "output_type": "stream",
     "text": [
      "Requirement already satisfied: requests in c:\\users\\andriya tiwary\\anaconda3\\lib\\site-packages (2.22.0)\n",
      "Requirement already satisfied: idna<2.9,>=2.5 in c:\\users\\andriya tiwary\\anaconda3\\lib\\site-packages (from requests) (2.8)\n",
      "Requirement already satisfied: certifi>=2017.4.17 in c:\\users\\andriya tiwary\\anaconda3\\lib\\site-packages (from requests) (2019.11.28)\n",
      "Requirement already satisfied: chardet<3.1.0,>=3.0.2 in c:\\users\\andriya tiwary\\anaconda3\\lib\\site-packages (from requests) (3.0.4)\n",
      "Requirement already satisfied: urllib3!=1.25.0,!=1.25.1,<1.26,>=1.21.1 in c:\\users\\andriya tiwary\\anaconda3\\lib\\site-packages (from requests) (1.25.8)\n"
     ]
    }
   ],
   "source": [
    "!pip install requests"
   ]
  },
  {
   "cell_type": "code",
   "execution_count": 2,
   "metadata": {},
   "outputs": [
    {
     "name": "stdout",
     "output_type": "stream",
     "text": [
      "Requirement already satisfied: lxml in c:\\users\\andriya tiwary\\anaconda3\\lib\\site-packages (4.5.0)\n"
     ]
    }
   ],
   "source": [
    "!pip install lxml"
   ]
  },
  {
   "cell_type": "code",
   "execution_count": 3,
   "metadata": {},
   "outputs": [
    {
     "name": "stdout",
     "output_type": "stream",
     "text": [
      "Collecting selectorlib\n",
      "  Downloading selectorlib-0.16.0-py2.py3-none-any.whl (5.8 kB)\n",
      "Requirement already satisfied: pyyaml>=3.12 in c:\\users\\andriya tiwary\\anaconda3\\lib\\site-packages (from selectorlib) (5.3)\n",
      "Requirement already satisfied: Click>=6.0 in c:\\users\\andriya tiwary\\anaconda3\\lib\\site-packages (from selectorlib) (7.0)\n",
      "Collecting parsel>=1.5.1\n",
      "  Downloading parsel-1.6.0-py2.py3-none-any.whl (13 kB)\n",
      "Requirement already satisfied: six>=1.6.0 in c:\\users\\andriya tiwary\\anaconda3\\lib\\site-packages (from parsel>=1.5.1->selectorlib) (1.14.0)\n",
      "Collecting cssselect>=0.9\n",
      "  Downloading cssselect-1.1.0-py2.py3-none-any.whl (16 kB)\n",
      "Collecting w3lib>=1.19.0\n",
      "  Downloading w3lib-1.22.0-py2.py3-none-any.whl (20 kB)\n",
      "Requirement already satisfied: lxml in c:\\users\\andriya tiwary\\anaconda3\\lib\\site-packages (from parsel>=1.5.1->selectorlib) (4.5.0)\n",
      "Installing collected packages: cssselect, w3lib, parsel, selectorlib\n",
      "Successfully installed cssselect-1.1.0 parsel-1.6.0 selectorlib-0.16.0 w3lib-1.22.0\n"
     ]
    }
   ],
   "source": [
    "!pip install selectorlib"
   ]
  },
  {
   "cell_type": "code",
   "execution_count": 34,
   "metadata": {},
   "outputs": [
    {
     "name": "stdout",
     "output_type": "stream",
     "text": [
      "Collecting selenium\n",
      "  Downloading selenium-3.141.0-py2.py3-none-any.whl (904 kB)\n",
      "Requirement already satisfied: urllib3 in c:\\users\\andriya tiwary\\anaconda3\\lib\\site-packages (from selenium) (1.25.8)\n",
      "Installing collected packages: selenium\n",
      "Successfully installed selenium-3.141.0\n"
     ]
    }
   ],
   "source": [
    "!pip install selenium"
   ]
  },
  {
   "cell_type": "code",
   "execution_count": 38,
   "metadata": {},
   "outputs": [
    {
     "name": "stdout",
     "output_type": "stream",
     "text": [
      "Collecting useragent\n",
      "  Downloading useragent-0.1.1.tar.gz (134 kB)\n",
      "Building wheels for collected packages: useragent\n",
      "  Building wheel for useragent (setup.py): started\n",
      "  Building wheel for useragent (setup.py): finished with status 'done'\n",
      "  Created wheel for useragent: filename=useragent-0.1.1-py3-none-any.whl size=142386 sha256=ad6397ffdc3fe99d5eda21ebac952f22478c399905c50b80ffef6e642256d0b6\n",
      "  Stored in directory: c:\\users\\andriya tiwary\\appdata\\local\\pip\\cache\\wheels\\e9\\7e\\ba\\fbee016aa103d763e93fd575ef844f71ee4979f20ca37c6367\n",
      "Successfully built useragent\n",
      "Installing collected packages: useragent\n",
      "Successfully installed useragent-0.1.1\n"
     ]
    }
   ],
   "source": [
    "!pip install useragent"
   ]
  },
  {
   "cell_type": "code",
   "execution_count": 41,
   "metadata": {},
   "outputs": [
    {
     "name": "stdout",
     "output_type": "stream",
     "text": [
      "Collecting fake_useragent\n",
      "  Downloading fake-useragent-0.1.11.tar.gz (13 kB)\n",
      "Building wheels for collected packages: fake-useragent\n",
      "  Building wheel for fake-useragent (setup.py): started\n",
      "  Building wheel for fake-useragent (setup.py): finished with status 'done'\n",
      "  Created wheel for fake-useragent: filename=fake_useragent-0.1.11-py3-none-any.whl size=13489 sha256=b1e66f0a115e6dfce023f17703ce21b7e879f4412eac8fd3cd78e842e36a967f\n",
      "  Stored in directory: c:\\users\\andriya tiwary\\appdata\\local\\pip\\cache\\wheels\\ed\\f7\\62\\50ab6c9a0b5567267ab76a9daa9d06315704209b2c5d032031\n",
      "Successfully built fake-useragent\n",
      "Installing collected packages: fake-useragent\n",
      "Successfully installed fake-useragent-0.1.11\n"
     ]
    }
   ],
   "source": [
    "!pip install fake_useragent"
   ]
  },
  {
   "cell_type": "code",
   "execution_count": 135,
   "metadata": {},
   "outputs": [],
   "source": [
    "from selectorlib import Extractor\n",
    "import requests \n",
    "from bs4 import BeautifulSoup\n",
    "import pandas as pd\n",
    "from fake_useragent import UserAgent"
   ]
  },
  {
   "cell_type": "code",
   "execution_count": 136,
   "metadata": {},
   "outputs": [],
   "source": [
    "search_query=\"smartphones\""
   ]
  },
  {
   "cell_type": "code",
   "execution_count": 137,
   "metadata": {},
   "outputs": [
    {
     "name": "stdout",
     "output_type": "stream",
     "text": [
      "Mozilla/5.0 (X11; Linux x86_64) AppleWebKit/537.36 (KHTML, like Gecko) Chrome/41.0.2227.0 Safari/537.36\n"
     ]
    }
   ],
   "source": [
    "ua = UserAgent()\n",
    "print(ua.chrome)"
   ]
  },
  {
   "cell_type": "code",
   "execution_count": 138,
   "metadata": {},
   "outputs": [
    {
     "name": "stdout",
     "output_type": "stream",
     "text": [
      "{'User-Agent': 'Mozilla/5.0 (Windows NT 5.1) AppleWebKit/537.36 (KHTML, like Gecko) Chrome/35.0.2117.157 Safari/537.36'}\n"
     ]
    }
   ],
   "source": [
    "header = {'User-Agent':str(ua.chrome)}\n",
    "print(header)"
   ]
  },
  {
   "cell_type": "code",
   "execution_count": 139,
   "metadata": {},
   "outputs": [],
   "source": [
    "base_url=\"https://www.amazon.in/s?k=\"\n",
    "url=base_url+search_query"
   ]
  },
  {
   "cell_type": "code",
   "execution_count": 140,
   "metadata": {},
   "outputs": [
    {
     "data": {
      "text/plain": [
       "'https://www.amazon.in/s?k=smartphones'"
      ]
     },
     "execution_count": 140,
     "metadata": {},
     "output_type": "execute_result"
    }
   ],
   "source": [
    "url"
   ]
  },
  {
   "cell_type": "code",
   "execution_count": 141,
   "metadata": {},
   "outputs": [],
   "source": [
    "search_response=requests.get(url,headers=header)"
   ]
  },
  {
   "cell_type": "code",
   "execution_count": 142,
   "metadata": {},
   "outputs": [
    {
     "data": {
      "text/plain": [
       "200"
      ]
     },
     "execution_count": 142,
     "metadata": {},
     "output_type": "execute_result"
    }
   ],
   "source": [
    "search_response.status_code"
   ]
  },
  {
   "cell_type": "code",
   "execution_count": 143,
   "metadata": {},
   "outputs": [],
   "source": [
    "# function to get content of the page for required query\n",
    "\n",
    "cookie={}  # insert request cookies within{}\n",
    "\n",
    "def getAmazonSearch(search_query,page):\n",
    "    url=base_url+search_query+'&pageNumber='+str(page)\n",
    "    print(url)\n",
    "    page=requests.get(url,cookies=cookie,headers=header)\n",
    "    if page.status_code==200:\n",
    "        return page\n",
    "    else:\n",
    "        return \"Error\""
   ]
  },
  {
   "cell_type": "code",
   "execution_count": 144,
   "metadata": {},
   "outputs": [],
   "source": [
    "# function to get the contents of individual product pages using ASIN (Amazon Standard Identification Number)\n",
    "\n",
    "def Searchasin(asin):\n",
    "    url=\"https://www.amazon.in/dp/\"+asin\n",
    "    print(url)\n",
    "    page=requests.get(url,cookies=cookie,headers=header)\n",
    "    if page.status_code==200:\n",
    "        return page\n",
    "    else:\n",
    "        return \"Error\""
   ]
  },
  {
   "cell_type": "code",
   "execution_count": 145,
   "metadata": {},
   "outputs": [],
   "source": [
    "# function to pass on the link of 'see all reviews' and extract the content\n",
    "\n",
    "def Searchreviews(review_link):\n",
    "    url=\"https://www.amazon.in\"+review_link\n",
    "    print(url)\n",
    "    page=requests.get(url,cookies=cookie,headers=header)\n",
    "    if page.status_code==200:\n",
    "        return page\n",
    "    else:\n",
    "        return \"Error\""
   ]
  },
  {
   "cell_type": "code",
   "execution_count": 146,
   "metadata": {},
   "outputs": [],
   "source": [
    "# First page product reviews extraction"
   ]
  },
  {
   "cell_type": "code",
   "execution_count": 147,
   "metadata": {},
   "outputs": [
    {
     "name": "stdout",
     "output_type": "stream",
     "text": [
      "https://www.amazon.in/s?k=smartphones&pageNumber=1\n"
     ]
    }
   ],
   "source": [
    "product_names=[]\n",
    "response=getAmazonSearch('smartphones',1)\n",
    "soup=BeautifulSoup(response.content)\n",
    "\n",
    "# findall() is used to find all the tags with the mentioned attributes and values in a page\n",
    "\n",
    "for i in soup.findAll(\"span\",{'class':'a-size-medium a-color-base a-text-normal'}): # tag common for all the names of products\n",
    "    product_names.append(i.text)  # adding the product names to the list"
   ]
  },
  {
   "cell_type": "code",
   "execution_count": 148,
   "metadata": {},
   "outputs": [
    {
     "data": {
      "text/plain": [
       "['Redmi 9 (Sky Blue, 4GB RAM, 64GB Storage)| 5000 mAh| 2.3GHz Mediatek Helio G35 Octa core Processor',\n",
       " 'Redmi 9A (Nature Green, 2GB RAM, 32GB Storage) | 2GHz Octa-core Helio G25 Processor | 5000 mAh Battery',\n",
       " 'Samsung Galaxy M31 (Ocean Blue, 6GB RAM, 128GB Storage)',\n",
       " 'Redmi Note 9 (Pebble Grey, 4GB RAM 64GB Storage) - 48MP Quad Camera & Full HD+ Display',\n",
       " 'Redmi 9 (Carbon Black, 4GB RAM, 64GB Storage) | 5000 mAh| 2.3GHz Mediatek Helio G35 Octa core Processor',\n",
       " 'Oppo A31 (Mystery Black, 6GB RAM, 128GB Storage) with No Cost EMI/Additional Exchange Offers',\n",
       " 'Samsung Galaxy M31 (Space Black, 6GB RAM, 128GB Storage)',\n",
       " 'Samsung Galaxy M01 Core (Black, 2GB RAM, 32GB Storage) with No Cost EMI/Additional Exchange Offers',\n",
       " 'Panasonic Eluga i7 (2GB RAM, 16GB Storage, Finger Print Sensor, 4000mAh Battery) (Black)',\n",
       " 'Vivo Y91i (Ocean Blue, 2GB RAM, 32GB Storage) with No Cost EMI/Additional Exchange Offers',\n",
       " 'Vivo Y11 (Mineral Blue, 3GB RAM, 32GB Storage) with No Cost EMI/Additional Exchange Offers',\n",
       " 'Samsung Galaxy M21 (Midnight Blue, 4GB RAM, 64GB Storage)',\n",
       " 'Vivo Y91i (Fusion Black, 2GB RAM, 32GB Storage) with No Cost EMI/Additional Exchange Offers',\n",
       " 'Samsung Galaxy M02 (Black,3GB RAM, 32GB Storage)',\n",
       " 'Redmi 9 Power (Mighty Black, 6GB RAM, 128GB Storage) - 6000mAh Battery |FHD+ Screen| 48MP Quad Camera | Snapdragon 662 Processor',\n",
       " 'I KALL K2 Plus 4G Smartphone (4GB, 64GB, Dual Sim) (Ocean Blue)']"
      ]
     },
     "execution_count": 148,
     "metadata": {},
     "output_type": "execute_result"
    }
   ],
   "source": [
    "product_names"
   ]
  },
  {
   "cell_type": "code",
   "execution_count": 149,
   "metadata": {},
   "outputs": [
    {
     "data": {
      "text/plain": [
       "16"
      ]
     },
     "execution_count": 149,
     "metadata": {},
     "output_type": "execute_result"
    }
   ],
   "source": [
    "len(product_names)"
   ]
  },
  {
   "cell_type": "code",
   "execution_count": 150,
   "metadata": {},
   "outputs": [],
   "source": [
    "#The method of extracting data-asin numbers are similar to that of product names,\n",
    "# only the tag details have to be changed in findall()"
   ]
  },
  {
   "cell_type": "code",
   "execution_count": 169,
   "metadata": {},
   "outputs": [
    {
     "name": "stdout",
     "output_type": "stream",
     "text": [
      "https://www.amazon.in/s?k=smartphones&pageNumber=0\n",
      "https://www.amazon.in/s?k=smartphones&pageNumber=1\n",
      "https://www.amazon.in/s?k=smartphones&pageNumber=2\n",
      "https://www.amazon.in/s?k=smartphones&pageNumber=3\n",
      "https://www.amazon.in/s?k=smartphones&pageNumber=4\n",
      "https://www.amazon.in/s?k=smartphones&pageNumber=5\n",
      "https://www.amazon.in/s?k=smartphones&pageNumber=6\n",
      "https://www.amazon.in/s?k=smartphones&pageNumber=7\n"
     ]
    }
   ],
   "source": [
    "data_asin=[]\n",
    "pages=8\n",
    "for i in range(pages):\n",
    "    response=getAmazonSearch('smartphones',i)\n",
    "    soup=BeautifulSoup(response.content)\n",
    "    for i in soup.findAll(\"div\",{'class':\"s-result-item s-asin sg-col sg-col-12-of-12 sg-col-12-of-16 sg-col-16-of-20\"}):\n",
    "         data_asin.append(i['data-asin'])"
   ]
  },
  {
   "cell_type": "code",
   "execution_count": 170,
   "metadata": {},
   "outputs": [
    {
     "data": {
      "text/plain": [
       "['B08697N43N', 'B08696XB4B', 'B07HGGYWL6', 'B086977TR6', 'B086985T6R']"
      ]
     },
     "execution_count": 170,
     "metadata": {},
     "output_type": "execute_result"
    }
   ],
   "source": [
    "data_asin[:5]"
   ]
  },
  {
   "cell_type": "code",
   "execution_count": 171,
   "metadata": {},
   "outputs": [
    {
     "data": {
      "text/plain": [
       "32"
      ]
     },
     "execution_count": 171,
     "metadata": {},
     "output_type": "execute_result"
    }
   ],
   "source": [
    "len(data_asin)"
   ]
  },
  {
   "cell_type": "code",
   "execution_count": 172,
   "metadata": {},
   "outputs": [],
   "source": [
    "#By passing the data-asin numbers, we can extract the 'see all reviews' link for each product in the page"
   ]
  },
  {
   "cell_type": "code",
   "execution_count": 173,
   "metadata": {},
   "outputs": [
    {
     "name": "stdout",
     "output_type": "stream",
     "text": [
      "https://www.amazon.in/dp/B08697N43N\n",
      "https://www.amazon.in/dp/B08696XB4B\n",
      "https://www.amazon.in/dp/B07HGGYWL6\n",
      "https://www.amazon.in/dp/B086977TR6\n",
      "https://www.amazon.in/dp/B086985T6R\n",
      "https://www.amazon.in/dp/B08444S68L\n",
      "https://www.amazon.in/dp/B089MQ622N\n",
      "https://www.amazon.in/dp/B07HGN617M\n",
      "https://www.amazon.in/dp/B07HGJJ559\n",
      "https://www.amazon.in/dp/B08BV2T63X\n",
      "https://www.amazon.in/dp/B07KXCKPZZ\n",
      "https://www.amazon.in/dp/B089MTR9JW\n",
      "https://www.amazon.in/dp/B07XD2FWBC\n",
      "https://www.amazon.in/dp/B08T2QR7NK\n",
      "https://www.amazon.in/dp/B07KX1S161\n",
      "https://www.amazon.in/dp/B086KCCMCP\n",
      "https://www.amazon.in/dp/B08697N43N\n",
      "https://www.amazon.in/dp/B08696XB4B\n",
      "https://www.amazon.in/dp/B07HGGYWL6\n",
      "https://www.amazon.in/dp/B086977TR6\n",
      "https://www.amazon.in/dp/B08444S68L\n",
      "https://www.amazon.in/dp/B086985T6R\n",
      "https://www.amazon.in/dp/B089MQ622N\n",
      "https://www.amazon.in/dp/B07HGJJ559\n",
      "https://www.amazon.in/dp/B07HGN617M\n",
      "https://www.amazon.in/dp/B08BV2T63X\n",
      "https://www.amazon.in/dp/B089MTR9JW\n",
      "https://www.amazon.in/dp/B07KXCKPZZ\n",
      "https://www.amazon.in/dp/B07XD2FWBC\n",
      "https://www.amazon.in/dp/B08T2QR7NK\n",
      "https://www.amazon.in/dp/B07KX1S161\n",
      "https://www.amazon.in/dp/B086KCCMCP\n"
     ]
    }
   ],
   "source": [
    "links=[]\n",
    "mobile_names=[]\n",
    "asins=[]\n",
    "for i in range(len(data_asin)):\n",
    "        response=Searchasin(data_asin[i])\n",
    "        soup=BeautifulSoup(response.content)\n",
    "        mobile=soup.find(\"span\",{\"id\":\"productTitle\"})\n",
    "        mobile_names.append(mobile.string)\n",
    "        link= soup.findAll(\"a\",{'data-hook':\"see-all-reviews-link-foot\"})\n",
    "        links.append(link[0]['href'])\n",
    "        asins.append(data_asin[i])"
   ]
  },
  {
   "cell_type": "code",
   "execution_count": 175,
   "metadata": {},
   "outputs": [
    {
     "name": "stdout",
     "output_type": "stream",
     "text": [
      "32 32 32\n"
     ]
    },
    {
     "data": {
      "text/plain": [
       "['\\n\\n\\n\\n\\n\\n\\n\\nRedmi 9 (Sky Blue, 4GB RAM, 64GB Storage)| 5000 mAh| 2.3GHz Mediatek Helio G35 Octa core Processor\\n\\n\\n\\n\\n\\n\\n',\n",
       " '\\n\\n\\n\\n\\n\\n\\n\\nRedmi 9A (Nature Green, 2GB RAM, 32GB Storage) | 2GHz Octa-core Helio G25 Processor | 5000 mAh Battery\\n\\n\\n\\n\\n\\n\\n',\n",
       " '\\n\\n\\n\\n\\n\\n\\n\\nSamsung Galaxy M31 (Ocean Blue, 6GB RAM, 128GB Storage)\\n\\n\\n\\n\\n\\n\\n',\n",
       " '\\n\\n\\n\\n\\n\\n\\n\\nRedmi Note 9 (Pebble Grey, 4GB RAM 64GB Storage) - 48MP Quad Camera & Full HD+ Display\\n\\n\\n\\n\\n\\n\\n',\n",
       " '\\n\\n\\n\\n\\n\\n\\n\\nRedmi 9 (Carbon Black, 4GB RAM, 64GB Storage) | 5000 mAh| 2.3GHz Mediatek Helio G35 Octa core Processor\\n\\n\\n\\n\\n\\n\\n',\n",
       " '\\n\\n\\n\\n\\n\\n\\n\\nOppo A31 (Mystery Black, 6GB RAM, 128GB Storage) with No Cost EMI/Additional Exchange Offers\\n\\n\\n\\n\\n\\n\\n',\n",
       " '\\n\\n\\n\\n\\n\\n\\n\\nSamsung Galaxy M01 Core (Black, 2GB RAM, 32GB Storage) with No Cost EMI/Additional Exchange Offers\\n\\n\\n\\n\\n\\n\\n',\n",
       " '\\n\\n\\n\\n\\n\\n\\n\\nSamsung Galaxy M31 (Space Black, 6GB RAM, 128GB Storage)\\n\\n\\n\\n\\n\\n\\n',\n",
       " '\\n\\n\\n\\n\\n\\n\\n\\nSamsung Galaxy M21 (Midnight Blue, 4GB RAM, 64GB Storage)\\n\\n\\n\\n\\n\\n\\n',\n",
       " '\\n\\n\\n\\n\\n\\n\\n\\nPanasonic Eluga i7 (2GB RAM, 16GB Storage, Finger Print Sensor, 4000mAh Battery) (Black)\\n\\n\\n\\n\\n\\n\\n',\n",
       " '\\n\\n\\n\\n\\n\\n\\n\\nVivo Y91i (Ocean Blue, 2GB RAM, 32GB Storage) with No Cost EMI/Additional Exchange Offers\\n\\n\\n\\n\\n\\n\\n',\n",
       " '\\n\\n\\n\\n\\n\\n\\n\\nRedmi 9 Power (Mighty Black, 6GB RAM, 128GB Storage) - 6000mAh Battery |FHD+ Screen| 48MP Quad Camera | Snapdragon 662 Processor\\n\\n\\n\\n\\n\\n\\n',\n",
       " '\\n\\n\\n\\n\\n\\n\\n\\nVivo Y11 (Mineral Blue, 3GB RAM, 32GB Storage) with No Cost EMI/Additional Exchange Offers\\n\\n\\n\\n\\n\\n\\n',\n",
       " '\\n\\n\\n\\n\\n\\n\\n\\nSamsung Galaxy M02 (Black,3GB RAM, 32GB Storage)\\n\\n\\n\\n\\n\\n\\n',\n",
       " '\\n\\n\\n\\n\\n\\n\\n\\nVivo Y91i (Fusion Black, 2GB RAM, 32GB Storage) with No Cost EMI/Additional Exchange Offers\\n\\n\\n\\n\\n\\n\\n',\n",
       " '\\n\\n\\n\\n\\n\\n\\n\\nSamsung Galaxy M01 (Black, 3GB RAM, 32GB Storage) with No Cost EMI/Additional Exchange Offers\\n\\n\\n\\n\\n\\n\\n',\n",
       " '\\n\\n\\n\\n\\n\\n\\n\\nRedmi 9 (Sky Blue, 4GB RAM, 64GB Storage)| 5000 mAh| 2.3GHz Mediatek Helio G35 Octa core Processor\\n\\n\\n\\n\\n\\n\\n',\n",
       " '\\n\\n\\n\\n\\n\\n\\n\\nRedmi 9A (Nature Green, 2GB RAM, 32GB Storage) | 2GHz Octa-core Helio G25 Processor | 5000 mAh Battery\\n\\n\\n\\n\\n\\n\\n',\n",
       " '\\n\\n\\n\\n\\n\\n\\n\\nSamsung Galaxy M31 (Ocean Blue, 6GB RAM, 128GB Storage)\\n\\n\\n\\n\\n\\n\\n',\n",
       " '\\n\\n\\n\\n\\n\\n\\n\\nRedmi Note 9 (Pebble Grey, 4GB RAM 64GB Storage) - 48MP Quad Camera & Full HD+ Display\\n\\n\\n\\n\\n\\n\\n',\n",
       " '\\n\\n\\n\\n\\n\\n\\n\\nOppo A31 (Mystery Black, 6GB RAM, 128GB Storage) with No Cost EMI/Additional Exchange Offers\\n\\n\\n\\n\\n\\n\\n',\n",
       " '\\n\\n\\n\\n\\n\\n\\n\\nRedmi 9 (Carbon Black, 4GB RAM, 64GB Storage) | 5000 mAh| 2.3GHz Mediatek Helio G35 Octa core Processor\\n\\n\\n\\n\\n\\n\\n',\n",
       " '\\n\\n\\n\\n\\n\\n\\n\\nSamsung Galaxy M01 Core (Black, 2GB RAM, 32GB Storage) with No Cost EMI/Additional Exchange Offers\\n\\n\\n\\n\\n\\n\\n',\n",
       " '\\n\\n\\n\\n\\n\\n\\n\\nSamsung Galaxy M21 (Midnight Blue, 4GB RAM, 64GB Storage)\\n\\n\\n\\n\\n\\n\\n',\n",
       " '\\n\\n\\n\\n\\n\\n\\n\\nSamsung Galaxy M31 (Space Black, 6GB RAM, 128GB Storage)\\n\\n\\n\\n\\n\\n\\n',\n",
       " '\\n\\n\\n\\n\\n\\n\\n\\nPanasonic Eluga i7 (2GB RAM, 16GB Storage, Finger Print Sensor, 4000mAh Battery) (Black)\\n\\n\\n\\n\\n\\n\\n',\n",
       " '\\n\\n\\n\\n\\n\\n\\n\\nRedmi 9 Power (Mighty Black, 6GB RAM, 128GB Storage) - 6000mAh Battery |FHD+ Screen| 48MP Quad Camera | Snapdragon 662 Processor\\n\\n\\n\\n\\n\\n\\n',\n",
       " '\\n\\n\\n\\n\\n\\n\\n\\nVivo Y91i (Ocean Blue, 2GB RAM, 32GB Storage) with No Cost EMI/Additional Exchange Offers\\n\\n\\n\\n\\n\\n\\n',\n",
       " '\\n\\n\\n\\n\\n\\n\\n\\nVivo Y11 (Mineral Blue, 3GB RAM, 32GB Storage) with No Cost EMI/Additional Exchange Offers\\n\\n\\n\\n\\n\\n\\n',\n",
       " '\\n\\n\\n\\n\\n\\n\\n\\nSamsung Galaxy M02 (Black,3GB RAM, 32GB Storage)\\n\\n\\n\\n\\n\\n\\n',\n",
       " '\\n\\n\\n\\n\\n\\n\\n\\nVivo Y91i (Fusion Black, 2GB RAM, 32GB Storage) with No Cost EMI/Additional Exchange Offers\\n\\n\\n\\n\\n\\n\\n',\n",
       " '\\n\\n\\n\\n\\n\\n\\n\\nSamsung Galaxy M01 (Black, 3GB RAM, 32GB Storage) with No Cost EMI/Additional Exchange Offers\\n\\n\\n\\n\\n\\n\\n']"
      ]
     },
     "execution_count": 175,
     "metadata": {},
     "output_type": "execute_result"
    }
   ],
   "source": [
    "print(len(links),len(mobile_names),len(asins))\n",
    "mobile_names"
   ]
  },
  {
   "cell_type": "code",
   "execution_count": 176,
   "metadata": {},
   "outputs": [],
   "source": [
    "# Now we have the 'see all review' links. \n",
    "# Using this link along with a page number, we can extract the reviews in any number of pages for all the products"
   ]
  },
  {
   "cell_type": "code",
   "execution_count": 177,
   "metadata": {},
   "outputs": [
    {
     "name": "stdout",
     "output_type": "stream",
     "text": [
      "https://www.amazon.in/Redmi-Sky-Blue-64GB-Storage/product-reviews/B08697N43N/ref=cm_cr_dp_d_show_all_btm?ie=UTF8&reviewerType=all_reviews&pageNumber=0\n",
      "https://www.amazon.in/Redmi-Sky-Blue-64GB-Storage/product-reviews/B08697N43N/ref=cm_cr_dp_d_show_all_btm?ie=UTF8&reviewerType=all_reviews&pageNumber=1\n",
      "https://www.amazon.in/Redmi-Sky-Blue-64GB-Storage/product-reviews/B08697N43N/ref=cm_cr_dp_d_show_all_btm?ie=UTF8&reviewerType=all_reviews&pageNumber=2\n",
      "https://www.amazon.in/Redmi-Sky-Blue-64GB-Storage/product-reviews/B08697N43N/ref=cm_cr_dp_d_show_all_btm?ie=UTF8&reviewerType=all_reviews&pageNumber=3\n",
      "https://www.amazon.in/Redmi-Sky-Blue-64GB-Storage/product-reviews/B08697N43N/ref=cm_cr_dp_d_show_all_btm?ie=UTF8&reviewerType=all_reviews&pageNumber=4\n",
      "https://www.amazon.in/Redmi-Sky-Blue-64GB-Storage/product-reviews/B08697N43N/ref=cm_cr_dp_d_show_all_btm?ie=UTF8&reviewerType=all_reviews&pageNumber=5\n",
      "https://www.amazon.in/Redmi-Sky-Blue-64GB-Storage/product-reviews/B08697N43N/ref=cm_cr_dp_d_show_all_btm?ie=UTF8&reviewerType=all_reviews&pageNumber=6\n",
      "https://www.amazon.in/Redmi-Sky-Blue-64GB-Storage/product-reviews/B08697N43N/ref=cm_cr_dp_d_show_all_btm?ie=UTF8&reviewerType=all_reviews&pageNumber=7\n",
      "https://www.amazon.in/Redmi-Sky-Blue-64GB-Storage/product-reviews/B08697N43N/ref=cm_cr_dp_d_show_all_btm?ie=UTF8&reviewerType=all_reviews&pageNumber=8\n",
      "https://www.amazon.in/Redmi-Sky-Blue-64GB-Storage/product-reviews/B08697N43N/ref=cm_cr_dp_d_show_all_btm?ie=UTF8&reviewerType=all_reviews&pageNumber=9\n",
      "https://www.amazon.in/Redmi-9A-2GB-32GB-Storage/product-reviews/B08696XB4B/ref=cm_cr_dp_d_show_all_btm?ie=UTF8&reviewerType=all_reviews&pageNumber=0\n",
      "https://www.amazon.in/Redmi-9A-2GB-32GB-Storage/product-reviews/B08696XB4B/ref=cm_cr_dp_d_show_all_btm?ie=UTF8&reviewerType=all_reviews&pageNumber=1\n",
      "https://www.amazon.in/Redmi-9A-2GB-32GB-Storage/product-reviews/B08696XB4B/ref=cm_cr_dp_d_show_all_btm?ie=UTF8&reviewerType=all_reviews&pageNumber=2\n",
      "https://www.amazon.in/Redmi-9A-2GB-32GB-Storage/product-reviews/B08696XB4B/ref=cm_cr_dp_d_show_all_btm?ie=UTF8&reviewerType=all_reviews&pageNumber=3\n",
      "https://www.amazon.in/Redmi-9A-2GB-32GB-Storage/product-reviews/B08696XB4B/ref=cm_cr_dp_d_show_all_btm?ie=UTF8&reviewerType=all_reviews&pageNumber=4\n",
      "https://www.amazon.in/Redmi-9A-2GB-32GB-Storage/product-reviews/B08696XB4B/ref=cm_cr_dp_d_show_all_btm?ie=UTF8&reviewerType=all_reviews&pageNumber=5\n",
      "https://www.amazon.in/Redmi-9A-2GB-32GB-Storage/product-reviews/B08696XB4B/ref=cm_cr_dp_d_show_all_btm?ie=UTF8&reviewerType=all_reviews&pageNumber=6\n",
      "https://www.amazon.in/Redmi-9A-2GB-32GB-Storage/product-reviews/B08696XB4B/ref=cm_cr_dp_d_show_all_btm?ie=UTF8&reviewerType=all_reviews&pageNumber=7\n",
      "https://www.amazon.in/Redmi-9A-2GB-32GB-Storage/product-reviews/B08696XB4B/ref=cm_cr_dp_d_show_all_btm?ie=UTF8&reviewerType=all_reviews&pageNumber=8\n",
      "https://www.amazon.in/Redmi-9A-2GB-32GB-Storage/product-reviews/B08696XB4B/ref=cm_cr_dp_d_show_all_btm?ie=UTF8&reviewerType=all_reviews&pageNumber=9\n",
      "https://www.amazon.in/Samsung-Galaxy-Ocean-128GB-Storage/product-reviews/B07HGGYWL6/ref=cm_cr_dp_d_show_all_btm?ie=UTF8&reviewerType=all_reviews&pageNumber=0\n",
      "https://www.amazon.in/Samsung-Galaxy-Ocean-128GB-Storage/product-reviews/B07HGGYWL6/ref=cm_cr_dp_d_show_all_btm?ie=UTF8&reviewerType=all_reviews&pageNumber=1\n",
      "https://www.amazon.in/Samsung-Galaxy-Ocean-128GB-Storage/product-reviews/B07HGGYWL6/ref=cm_cr_dp_d_show_all_btm?ie=UTF8&reviewerType=all_reviews&pageNumber=2\n",
      "https://www.amazon.in/Samsung-Galaxy-Ocean-128GB-Storage/product-reviews/B07HGGYWL6/ref=cm_cr_dp_d_show_all_btm?ie=UTF8&reviewerType=all_reviews&pageNumber=3\n",
      "https://www.amazon.in/Samsung-Galaxy-Ocean-128GB-Storage/product-reviews/B07HGGYWL6/ref=cm_cr_dp_d_show_all_btm?ie=UTF8&reviewerType=all_reviews&pageNumber=4\n",
      "https://www.amazon.in/Samsung-Galaxy-Ocean-128GB-Storage/product-reviews/B07HGGYWL6/ref=cm_cr_dp_d_show_all_btm?ie=UTF8&reviewerType=all_reviews&pageNumber=5\n",
      "https://www.amazon.in/Samsung-Galaxy-Ocean-128GB-Storage/product-reviews/B07HGGYWL6/ref=cm_cr_dp_d_show_all_btm?ie=UTF8&reviewerType=all_reviews&pageNumber=6\n",
      "https://www.amazon.in/Samsung-Galaxy-Ocean-128GB-Storage/product-reviews/B07HGGYWL6/ref=cm_cr_dp_d_show_all_btm?ie=UTF8&reviewerType=all_reviews&pageNumber=7\n",
      "https://www.amazon.in/Samsung-Galaxy-Ocean-128GB-Storage/product-reviews/B07HGGYWL6/ref=cm_cr_dp_d_show_all_btm?ie=UTF8&reviewerType=all_reviews&pageNumber=8\n",
      "https://www.amazon.in/Samsung-Galaxy-Ocean-128GB-Storage/product-reviews/B07HGGYWL6/ref=cm_cr_dp_d_show_all_btm?ie=UTF8&reviewerType=all_reviews&pageNumber=9\n",
      "https://www.amazon.in/Redmi-Note-Pebble-Grey-Storage/product-reviews/B086977TR6/ref=cm_cr_dp_d_show_all_btm?ie=UTF8&reviewerType=all_reviews&pageNumber=0\n",
      "https://www.amazon.in/Redmi-Note-Pebble-Grey-Storage/product-reviews/B086977TR6/ref=cm_cr_dp_d_show_all_btm?ie=UTF8&reviewerType=all_reviews&pageNumber=1\n",
      "https://www.amazon.in/Redmi-Note-Pebble-Grey-Storage/product-reviews/B086977TR6/ref=cm_cr_dp_d_show_all_btm?ie=UTF8&reviewerType=all_reviews&pageNumber=2\n",
      "https://www.amazon.in/Redmi-Note-Pebble-Grey-Storage/product-reviews/B086977TR6/ref=cm_cr_dp_d_show_all_btm?ie=UTF8&reviewerType=all_reviews&pageNumber=3\n",
      "https://www.amazon.in/Redmi-Note-Pebble-Grey-Storage/product-reviews/B086977TR6/ref=cm_cr_dp_d_show_all_btm?ie=UTF8&reviewerType=all_reviews&pageNumber=4\n",
      "https://www.amazon.in/Redmi-Note-Pebble-Grey-Storage/product-reviews/B086977TR6/ref=cm_cr_dp_d_show_all_btm?ie=UTF8&reviewerType=all_reviews&pageNumber=5\n",
      "https://www.amazon.in/Redmi-Note-Pebble-Grey-Storage/product-reviews/B086977TR6/ref=cm_cr_dp_d_show_all_btm?ie=UTF8&reviewerType=all_reviews&pageNumber=6\n",
      "https://www.amazon.in/Redmi-Note-Pebble-Grey-Storage/product-reviews/B086977TR6/ref=cm_cr_dp_d_show_all_btm?ie=UTF8&reviewerType=all_reviews&pageNumber=7\n",
      "https://www.amazon.in/Redmi-Note-Pebble-Grey-Storage/product-reviews/B086977TR6/ref=cm_cr_dp_d_show_all_btm?ie=UTF8&reviewerType=all_reviews&pageNumber=8\n",
      "https://www.amazon.in/Redmi-Note-Pebble-Grey-Storage/product-reviews/B086977TR6/ref=cm_cr_dp_d_show_all_btm?ie=UTF8&reviewerType=all_reviews&pageNumber=9\n",
      "https://www.amazon.in/Redmi-Carbon-Black-64GB-Storage/product-reviews/B086985T6R/ref=cm_cr_dp_d_show_all_btm?ie=UTF8&reviewerType=all_reviews&pageNumber=0\n",
      "https://www.amazon.in/Redmi-Carbon-Black-64GB-Storage/product-reviews/B086985T6R/ref=cm_cr_dp_d_show_all_btm?ie=UTF8&reviewerType=all_reviews&pageNumber=1\n",
      "https://www.amazon.in/Redmi-Carbon-Black-64GB-Storage/product-reviews/B086985T6R/ref=cm_cr_dp_d_show_all_btm?ie=UTF8&reviewerType=all_reviews&pageNumber=2\n",
      "https://www.amazon.in/Redmi-Carbon-Black-64GB-Storage/product-reviews/B086985T6R/ref=cm_cr_dp_d_show_all_btm?ie=UTF8&reviewerType=all_reviews&pageNumber=3\n",
      "https://www.amazon.in/Redmi-Carbon-Black-64GB-Storage/product-reviews/B086985T6R/ref=cm_cr_dp_d_show_all_btm?ie=UTF8&reviewerType=all_reviews&pageNumber=4\n",
      "https://www.amazon.in/Redmi-Carbon-Black-64GB-Storage/product-reviews/B086985T6R/ref=cm_cr_dp_d_show_all_btm?ie=UTF8&reviewerType=all_reviews&pageNumber=5\n",
      "https://www.amazon.in/Redmi-Carbon-Black-64GB-Storage/product-reviews/B086985T6R/ref=cm_cr_dp_d_show_all_btm?ie=UTF8&reviewerType=all_reviews&pageNumber=6\n",
      "https://www.amazon.in/Redmi-Carbon-Black-64GB-Storage/product-reviews/B086985T6R/ref=cm_cr_dp_d_show_all_btm?ie=UTF8&reviewerType=all_reviews&pageNumber=7\n",
      "https://www.amazon.in/Redmi-Carbon-Black-64GB-Storage/product-reviews/B086985T6R/ref=cm_cr_dp_d_show_all_btm?ie=UTF8&reviewerType=all_reviews&pageNumber=8\n",
      "https://www.amazon.in/Redmi-Carbon-Black-64GB-Storage/product-reviews/B086985T6R/ref=cm_cr_dp_d_show_all_btm?ie=UTF8&reviewerType=all_reviews&pageNumber=9\n",
      "https://www.amazon.in/Oppo-Mystery-Storage-Additional-Exchange/product-reviews/B08444S68L/ref=cm_cr_dp_d_show_all_btm?ie=UTF8&reviewerType=all_reviews&pageNumber=0\n",
      "https://www.amazon.in/Oppo-Mystery-Storage-Additional-Exchange/product-reviews/B08444S68L/ref=cm_cr_dp_d_show_all_btm?ie=UTF8&reviewerType=all_reviews&pageNumber=1\n",
      "https://www.amazon.in/Oppo-Mystery-Storage-Additional-Exchange/product-reviews/B08444S68L/ref=cm_cr_dp_d_show_all_btm?ie=UTF8&reviewerType=all_reviews&pageNumber=2\n",
      "https://www.amazon.in/Oppo-Mystery-Storage-Additional-Exchange/product-reviews/B08444S68L/ref=cm_cr_dp_d_show_all_btm?ie=UTF8&reviewerType=all_reviews&pageNumber=3\n"
     ]
    },
    {
     "name": "stdout",
     "output_type": "stream",
     "text": [
      "https://www.amazon.in/Oppo-Mystery-Storage-Additional-Exchange/product-reviews/B08444S68L/ref=cm_cr_dp_d_show_all_btm?ie=UTF8&reviewerType=all_reviews&pageNumber=4\n",
      "https://www.amazon.in/Oppo-Mystery-Storage-Additional-Exchange/product-reviews/B08444S68L/ref=cm_cr_dp_d_show_all_btm?ie=UTF8&reviewerType=all_reviews&pageNumber=5\n",
      "https://www.amazon.in/Oppo-Mystery-Storage-Additional-Exchange/product-reviews/B08444S68L/ref=cm_cr_dp_d_show_all_btm?ie=UTF8&reviewerType=all_reviews&pageNumber=6\n",
      "https://www.amazon.in/Oppo-Mystery-Storage-Additional-Exchange/product-reviews/B08444S68L/ref=cm_cr_dp_d_show_all_btm?ie=UTF8&reviewerType=all_reviews&pageNumber=7\n",
      "https://www.amazon.in/Oppo-Mystery-Storage-Additional-Exchange/product-reviews/B08444S68L/ref=cm_cr_dp_d_show_all_btm?ie=UTF8&reviewerType=all_reviews&pageNumber=8\n",
      "https://www.amazon.in/Oppo-Mystery-Storage-Additional-Exchange/product-reviews/B08444S68L/ref=cm_cr_dp_d_show_all_btm?ie=UTF8&reviewerType=all_reviews&pageNumber=9\n",
      "https://www.amazon.in/Samsung-Galaxy-Storage-Additional-Exchange/product-reviews/B089MQ622N/ref=cm_cr_dp_d_show_all_btm?ie=UTF8&reviewerType=all_reviews&pageNumber=0\n",
      "https://www.amazon.in/Samsung-Galaxy-Storage-Additional-Exchange/product-reviews/B089MQ622N/ref=cm_cr_dp_d_show_all_btm?ie=UTF8&reviewerType=all_reviews&pageNumber=1\n",
      "https://www.amazon.in/Samsung-Galaxy-Storage-Additional-Exchange/product-reviews/B089MQ622N/ref=cm_cr_dp_d_show_all_btm?ie=UTF8&reviewerType=all_reviews&pageNumber=2\n",
      "https://www.amazon.in/Samsung-Galaxy-Storage-Additional-Exchange/product-reviews/B089MQ622N/ref=cm_cr_dp_d_show_all_btm?ie=UTF8&reviewerType=all_reviews&pageNumber=3\n",
      "https://www.amazon.in/Samsung-Galaxy-Storage-Additional-Exchange/product-reviews/B089MQ622N/ref=cm_cr_dp_d_show_all_btm?ie=UTF8&reviewerType=all_reviews&pageNumber=4\n",
      "https://www.amazon.in/Samsung-Galaxy-Storage-Additional-Exchange/product-reviews/B089MQ622N/ref=cm_cr_dp_d_show_all_btm?ie=UTF8&reviewerType=all_reviews&pageNumber=5\n",
      "https://www.amazon.in/Samsung-Galaxy-Storage-Additional-Exchange/product-reviews/B089MQ622N/ref=cm_cr_dp_d_show_all_btm?ie=UTF8&reviewerType=all_reviews&pageNumber=6\n",
      "https://www.amazon.in/Samsung-Galaxy-Storage-Additional-Exchange/product-reviews/B089MQ622N/ref=cm_cr_dp_d_show_all_btm?ie=UTF8&reviewerType=all_reviews&pageNumber=7\n",
      "https://www.amazon.in/Samsung-Galaxy-Storage-Additional-Exchange/product-reviews/B089MQ622N/ref=cm_cr_dp_d_show_all_btm?ie=UTF8&reviewerType=all_reviews&pageNumber=8\n",
      "https://www.amazon.in/Samsung-Galaxy-Storage-Additional-Exchange/product-reviews/B089MQ622N/ref=cm_cr_dp_d_show_all_btm?ie=UTF8&reviewerType=all_reviews&pageNumber=9\n",
      "https://www.amazon.in/Samsung-Galaxy-Space-Black-Storage/product-reviews/B07HGN617M/ref=cm_cr_dp_d_show_all_btm?ie=UTF8&reviewerType=all_reviews&pageNumber=0\n",
      "https://www.amazon.in/Samsung-Galaxy-Space-Black-Storage/product-reviews/B07HGN617M/ref=cm_cr_dp_d_show_all_btm?ie=UTF8&reviewerType=all_reviews&pageNumber=1\n",
      "https://www.amazon.in/Samsung-Galaxy-Space-Black-Storage/product-reviews/B07HGN617M/ref=cm_cr_dp_d_show_all_btm?ie=UTF8&reviewerType=all_reviews&pageNumber=2\n",
      "https://www.amazon.in/Samsung-Galaxy-Space-Black-Storage/product-reviews/B07HGN617M/ref=cm_cr_dp_d_show_all_btm?ie=UTF8&reviewerType=all_reviews&pageNumber=3\n",
      "https://www.amazon.in/Samsung-Galaxy-Space-Black-Storage/product-reviews/B07HGN617M/ref=cm_cr_dp_d_show_all_btm?ie=UTF8&reviewerType=all_reviews&pageNumber=4\n",
      "https://www.amazon.in/Samsung-Galaxy-Space-Black-Storage/product-reviews/B07HGN617M/ref=cm_cr_dp_d_show_all_btm?ie=UTF8&reviewerType=all_reviews&pageNumber=5\n",
      "https://www.amazon.in/Samsung-Galaxy-Space-Black-Storage/product-reviews/B07HGN617M/ref=cm_cr_dp_d_show_all_btm?ie=UTF8&reviewerType=all_reviews&pageNumber=6\n",
      "https://www.amazon.in/Samsung-Galaxy-Space-Black-Storage/product-reviews/B07HGN617M/ref=cm_cr_dp_d_show_all_btm?ie=UTF8&reviewerType=all_reviews&pageNumber=7\n",
      "https://www.amazon.in/Samsung-Galaxy-Space-Black-Storage/product-reviews/B07HGN617M/ref=cm_cr_dp_d_show_all_btm?ie=UTF8&reviewerType=all_reviews&pageNumber=8\n",
      "https://www.amazon.in/Samsung-Galaxy-Space-Black-Storage/product-reviews/B07HGN617M/ref=cm_cr_dp_d_show_all_btm?ie=UTF8&reviewerType=all_reviews&pageNumber=9\n",
      "https://www.amazon.in/Samsung-Galaxy-Midnight-Blue-Storage/product-reviews/B07HGJJ559/ref=cm_cr_dp_d_show_all_btm?ie=UTF8&reviewerType=all_reviews&pageNumber=0\n",
      "https://www.amazon.in/Samsung-Galaxy-Midnight-Blue-Storage/product-reviews/B07HGJJ559/ref=cm_cr_dp_d_show_all_btm?ie=UTF8&reviewerType=all_reviews&pageNumber=1\n",
      "https://www.amazon.in/Samsung-Galaxy-Midnight-Blue-Storage/product-reviews/B07HGJJ559/ref=cm_cr_dp_d_show_all_btm?ie=UTF8&reviewerType=all_reviews&pageNumber=2\n",
      "https://www.amazon.in/Samsung-Galaxy-Midnight-Blue-Storage/product-reviews/B07HGJJ559/ref=cm_cr_dp_d_show_all_btm?ie=UTF8&reviewerType=all_reviews&pageNumber=3\n",
      "https://www.amazon.in/Samsung-Galaxy-Midnight-Blue-Storage/product-reviews/B07HGJJ559/ref=cm_cr_dp_d_show_all_btm?ie=UTF8&reviewerType=all_reviews&pageNumber=4\n",
      "https://www.amazon.in/Samsung-Galaxy-Midnight-Blue-Storage/product-reviews/B07HGJJ559/ref=cm_cr_dp_d_show_all_btm?ie=UTF8&reviewerType=all_reviews&pageNumber=5\n",
      "https://www.amazon.in/Samsung-Galaxy-Midnight-Blue-Storage/product-reviews/B07HGJJ559/ref=cm_cr_dp_d_show_all_btm?ie=UTF8&reviewerType=all_reviews&pageNumber=6\n",
      "https://www.amazon.in/Samsung-Galaxy-Midnight-Blue-Storage/product-reviews/B07HGJJ559/ref=cm_cr_dp_d_show_all_btm?ie=UTF8&reviewerType=all_reviews&pageNumber=7\n",
      "https://www.amazon.in/Samsung-Galaxy-Midnight-Blue-Storage/product-reviews/B07HGJJ559/ref=cm_cr_dp_d_show_all_btm?ie=UTF8&reviewerType=all_reviews&pageNumber=8\n",
      "https://www.amazon.in/Samsung-Galaxy-Midnight-Blue-Storage/product-reviews/B07HGJJ559/ref=cm_cr_dp_d_show_all_btm?ie=UTF8&reviewerType=all_reviews&pageNumber=9\n",
      "https://www.amazon.in/Panasonic-Storage-Finger-4000mAh-Battery/product-reviews/B08BV2T63X/ref=cm_cr_dp_d_show_all_btm?ie=UTF8&reviewerType=all_reviews&pageNumber=0\n",
      "https://www.amazon.in/Panasonic-Storage-Finger-4000mAh-Battery/product-reviews/B08BV2T63X/ref=cm_cr_dp_d_show_all_btm?ie=UTF8&reviewerType=all_reviews&pageNumber=1\n",
      "https://www.amazon.in/Panasonic-Storage-Finger-4000mAh-Battery/product-reviews/B08BV2T63X/ref=cm_cr_dp_d_show_all_btm?ie=UTF8&reviewerType=all_reviews&pageNumber=2\n",
      "https://www.amazon.in/Panasonic-Storage-Finger-4000mAh-Battery/product-reviews/B08BV2T63X/ref=cm_cr_dp_d_show_all_btm?ie=UTF8&reviewerType=all_reviews&pageNumber=3\n",
      "https://www.amazon.in/Panasonic-Storage-Finger-4000mAh-Battery/product-reviews/B08BV2T63X/ref=cm_cr_dp_d_show_all_btm?ie=UTF8&reviewerType=all_reviews&pageNumber=4\n",
      "https://www.amazon.in/Panasonic-Storage-Finger-4000mAh-Battery/product-reviews/B08BV2T63X/ref=cm_cr_dp_d_show_all_btm?ie=UTF8&reviewerType=all_reviews&pageNumber=5\n",
      "https://www.amazon.in/Panasonic-Storage-Finger-4000mAh-Battery/product-reviews/B08BV2T63X/ref=cm_cr_dp_d_show_all_btm?ie=UTF8&reviewerType=all_reviews&pageNumber=6\n",
      "https://www.amazon.in/Panasonic-Storage-Finger-4000mAh-Battery/product-reviews/B08BV2T63X/ref=cm_cr_dp_d_show_all_btm?ie=UTF8&reviewerType=all_reviews&pageNumber=7\n",
      "https://www.amazon.in/Panasonic-Storage-Finger-4000mAh-Battery/product-reviews/B08BV2T63X/ref=cm_cr_dp_d_show_all_btm?ie=UTF8&reviewerType=all_reviews&pageNumber=8\n",
      "https://www.amazon.in/Panasonic-Storage-Finger-4000mAh-Battery/product-reviews/B08BV2T63X/ref=cm_cr_dp_d_show_all_btm?ie=UTF8&reviewerType=all_reviews&pageNumber=9\n",
      "https://www.amazon.in/Vivo-Storage-Additional-Exchange-Offers/product-reviews/B07KXCKPZZ/ref=cm_cr_dp_d_show_all_btm?ie=UTF8&reviewerType=all_reviews&pageNumber=0\n",
      "https://www.amazon.in/Vivo-Storage-Additional-Exchange-Offers/product-reviews/B07KXCKPZZ/ref=cm_cr_dp_d_show_all_btm?ie=UTF8&reviewerType=all_reviews&pageNumber=1\n",
      "https://www.amazon.in/Vivo-Storage-Additional-Exchange-Offers/product-reviews/B07KXCKPZZ/ref=cm_cr_dp_d_show_all_btm?ie=UTF8&reviewerType=all_reviews&pageNumber=2\n",
      "https://www.amazon.in/Vivo-Storage-Additional-Exchange-Offers/product-reviews/B07KXCKPZZ/ref=cm_cr_dp_d_show_all_btm?ie=UTF8&reviewerType=all_reviews&pageNumber=3\n",
      "https://www.amazon.in/Vivo-Storage-Additional-Exchange-Offers/product-reviews/B07KXCKPZZ/ref=cm_cr_dp_d_show_all_btm?ie=UTF8&reviewerType=all_reviews&pageNumber=4\n"
     ]
    },
    {
     "name": "stdout",
     "output_type": "stream",
     "text": [
      "https://www.amazon.in/Vivo-Storage-Additional-Exchange-Offers/product-reviews/B07KXCKPZZ/ref=cm_cr_dp_d_show_all_btm?ie=UTF8&reviewerType=all_reviews&pageNumber=5\n",
      "https://www.amazon.in/Vivo-Storage-Additional-Exchange-Offers/product-reviews/B07KXCKPZZ/ref=cm_cr_dp_d_show_all_btm?ie=UTF8&reviewerType=all_reviews&pageNumber=6\n",
      "https://www.amazon.in/Vivo-Storage-Additional-Exchange-Offers/product-reviews/B07KXCKPZZ/ref=cm_cr_dp_d_show_all_btm?ie=UTF8&reviewerType=all_reviews&pageNumber=7\n",
      "https://www.amazon.in/Vivo-Storage-Additional-Exchange-Offers/product-reviews/B07KXCKPZZ/ref=cm_cr_dp_d_show_all_btm?ie=UTF8&reviewerType=all_reviews&pageNumber=8\n",
      "https://www.amazon.in/Vivo-Storage-Additional-Exchange-Offers/product-reviews/B07KXCKPZZ/ref=cm_cr_dp_d_show_all_btm?ie=UTF8&reviewerType=all_reviews&pageNumber=9\n",
      "https://www.amazon.in/Test-Exclusive_2020_1138-Multi-3GB-Storage/product-reviews/B089MTR9JW/ref=cm_cr_dp_d_show_all_btm?ie=UTF8&reviewerType=all_reviews&pageNumber=0\n",
      "https://www.amazon.in/Test-Exclusive_2020_1138-Multi-3GB-Storage/product-reviews/B089MTR9JW/ref=cm_cr_dp_d_show_all_btm?ie=UTF8&reviewerType=all_reviews&pageNumber=1\n",
      "https://www.amazon.in/Test-Exclusive_2020_1138-Multi-3GB-Storage/product-reviews/B089MTR9JW/ref=cm_cr_dp_d_show_all_btm?ie=UTF8&reviewerType=all_reviews&pageNumber=2\n",
      "https://www.amazon.in/Test-Exclusive_2020_1138-Multi-3GB-Storage/product-reviews/B089MTR9JW/ref=cm_cr_dp_d_show_all_btm?ie=UTF8&reviewerType=all_reviews&pageNumber=3\n",
      "https://www.amazon.in/Test-Exclusive_2020_1138-Multi-3GB-Storage/product-reviews/B089MTR9JW/ref=cm_cr_dp_d_show_all_btm?ie=UTF8&reviewerType=all_reviews&pageNumber=4\n",
      "https://www.amazon.in/Test-Exclusive_2020_1138-Multi-3GB-Storage/product-reviews/B089MTR9JW/ref=cm_cr_dp_d_show_all_btm?ie=UTF8&reviewerType=all_reviews&pageNumber=5\n",
      "https://www.amazon.in/Test-Exclusive_2020_1138-Multi-3GB-Storage/product-reviews/B089MTR9JW/ref=cm_cr_dp_d_show_all_btm?ie=UTF8&reviewerType=all_reviews&pageNumber=6\n",
      "https://www.amazon.in/Test-Exclusive_2020_1138-Multi-3GB-Storage/product-reviews/B089MTR9JW/ref=cm_cr_dp_d_show_all_btm?ie=UTF8&reviewerType=all_reviews&pageNumber=7\n",
      "https://www.amazon.in/Test-Exclusive_2020_1138-Multi-3GB-Storage/product-reviews/B089MTR9JW/ref=cm_cr_dp_d_show_all_btm?ie=UTF8&reviewerType=all_reviews&pageNumber=8\n",
      "https://www.amazon.in/Test-Exclusive_2020_1138-Multi-3GB-Storage/product-reviews/B089MTR9JW/ref=cm_cr_dp_d_show_all_btm?ie=UTF8&reviewerType=all_reviews&pageNumber=9\n",
      "https://www.amazon.in/Vivo-Mineral-Storage-Additional-Exchange/product-reviews/B07XD2FWBC/ref=cm_cr_dp_d_show_all_btm?ie=UTF8&reviewerType=all_reviews&pageNumber=0\n",
      "https://www.amazon.in/Vivo-Mineral-Storage-Additional-Exchange/product-reviews/B07XD2FWBC/ref=cm_cr_dp_d_show_all_btm?ie=UTF8&reviewerType=all_reviews&pageNumber=1\n",
      "https://www.amazon.in/Vivo-Mineral-Storage-Additional-Exchange/product-reviews/B07XD2FWBC/ref=cm_cr_dp_d_show_all_btm?ie=UTF8&reviewerType=all_reviews&pageNumber=2\n",
      "https://www.amazon.in/Vivo-Mineral-Storage-Additional-Exchange/product-reviews/B07XD2FWBC/ref=cm_cr_dp_d_show_all_btm?ie=UTF8&reviewerType=all_reviews&pageNumber=3\n",
      "https://www.amazon.in/Vivo-Mineral-Storage-Additional-Exchange/product-reviews/B07XD2FWBC/ref=cm_cr_dp_d_show_all_btm?ie=UTF8&reviewerType=all_reviews&pageNumber=4\n",
      "https://www.amazon.in/Vivo-Mineral-Storage-Additional-Exchange/product-reviews/B07XD2FWBC/ref=cm_cr_dp_d_show_all_btm?ie=UTF8&reviewerType=all_reviews&pageNumber=5\n",
      "https://www.amazon.in/Vivo-Mineral-Storage-Additional-Exchange/product-reviews/B07XD2FWBC/ref=cm_cr_dp_d_show_all_btm?ie=UTF8&reviewerType=all_reviews&pageNumber=6\n",
      "https://www.amazon.in/Vivo-Mineral-Storage-Additional-Exchange/product-reviews/B07XD2FWBC/ref=cm_cr_dp_d_show_all_btm?ie=UTF8&reviewerType=all_reviews&pageNumber=7\n",
      "https://www.amazon.in/Vivo-Mineral-Storage-Additional-Exchange/product-reviews/B07XD2FWBC/ref=cm_cr_dp_d_show_all_btm?ie=UTF8&reviewerType=all_reviews&pageNumber=8\n",
      "https://www.amazon.in/Vivo-Mineral-Storage-Additional-Exchange/product-reviews/B07XD2FWBC/ref=cm_cr_dp_d_show_all_btm?ie=UTF8&reviewerType=all_reviews&pageNumber=9\n",
      "https://www.amazon.in/Samsung-Galaxy-Black-32GB-Storage/product-reviews/B08T2QR7NK/ref=cm_cr_dp_d_show_all_btm?ie=UTF8&reviewerType=all_reviews&pageNumber=0\n",
      "https://www.amazon.in/Samsung-Galaxy-Black-32GB-Storage/product-reviews/B08T2QR7NK/ref=cm_cr_dp_d_show_all_btm?ie=UTF8&reviewerType=all_reviews&pageNumber=1\n",
      "https://www.amazon.in/Samsung-Galaxy-Black-32GB-Storage/product-reviews/B08T2QR7NK/ref=cm_cr_dp_d_show_all_btm?ie=UTF8&reviewerType=all_reviews&pageNumber=2\n",
      "https://www.amazon.in/Samsung-Galaxy-Black-32GB-Storage/product-reviews/B08T2QR7NK/ref=cm_cr_dp_d_show_all_btm?ie=UTF8&reviewerType=all_reviews&pageNumber=3\n",
      "https://www.amazon.in/Samsung-Galaxy-Black-32GB-Storage/product-reviews/B08T2QR7NK/ref=cm_cr_dp_d_show_all_btm?ie=UTF8&reviewerType=all_reviews&pageNumber=4\n",
      "https://www.amazon.in/Samsung-Galaxy-Black-32GB-Storage/product-reviews/B08T2QR7NK/ref=cm_cr_dp_d_show_all_btm?ie=UTF8&reviewerType=all_reviews&pageNumber=5\n",
      "https://www.amazon.in/Samsung-Galaxy-Black-32GB-Storage/product-reviews/B08T2QR7NK/ref=cm_cr_dp_d_show_all_btm?ie=UTF8&reviewerType=all_reviews&pageNumber=6\n",
      "https://www.amazon.in/Samsung-Galaxy-Black-32GB-Storage/product-reviews/B08T2QR7NK/ref=cm_cr_dp_d_show_all_btm?ie=UTF8&reviewerType=all_reviews&pageNumber=7\n",
      "https://www.amazon.in/Samsung-Galaxy-Black-32GB-Storage/product-reviews/B08T2QR7NK/ref=cm_cr_dp_d_show_all_btm?ie=UTF8&reviewerType=all_reviews&pageNumber=8\n",
      "https://www.amazon.in/Samsung-Galaxy-Black-32GB-Storage/product-reviews/B08T2QR7NK/ref=cm_cr_dp_d_show_all_btm?ie=UTF8&reviewerType=all_reviews&pageNumber=9\n",
      "https://www.amazon.in/Vivo-Fusion-Storage-Additional-Exchange/product-reviews/B07KX1S161/ref=cm_cr_dp_d_show_all_btm?ie=UTF8&reviewerType=all_reviews&pageNumber=0\n",
      "https://www.amazon.in/Vivo-Fusion-Storage-Additional-Exchange/product-reviews/B07KX1S161/ref=cm_cr_dp_d_show_all_btm?ie=UTF8&reviewerType=all_reviews&pageNumber=1\n",
      "https://www.amazon.in/Vivo-Fusion-Storage-Additional-Exchange/product-reviews/B07KX1S161/ref=cm_cr_dp_d_show_all_btm?ie=UTF8&reviewerType=all_reviews&pageNumber=2\n",
      "https://www.amazon.in/Vivo-Fusion-Storage-Additional-Exchange/product-reviews/B07KX1S161/ref=cm_cr_dp_d_show_all_btm?ie=UTF8&reviewerType=all_reviews&pageNumber=3\n",
      "https://www.amazon.in/Vivo-Fusion-Storage-Additional-Exchange/product-reviews/B07KX1S161/ref=cm_cr_dp_d_show_all_btm?ie=UTF8&reviewerType=all_reviews&pageNumber=4\n",
      "https://www.amazon.in/Vivo-Fusion-Storage-Additional-Exchange/product-reviews/B07KX1S161/ref=cm_cr_dp_d_show_all_btm?ie=UTF8&reviewerType=all_reviews&pageNumber=5\n",
      "https://www.amazon.in/Vivo-Fusion-Storage-Additional-Exchange/product-reviews/B07KX1S161/ref=cm_cr_dp_d_show_all_btm?ie=UTF8&reviewerType=all_reviews&pageNumber=6\n",
      "https://www.amazon.in/Vivo-Fusion-Storage-Additional-Exchange/product-reviews/B07KX1S161/ref=cm_cr_dp_d_show_all_btm?ie=UTF8&reviewerType=all_reviews&pageNumber=7\n",
      "https://www.amazon.in/Vivo-Fusion-Storage-Additional-Exchange/product-reviews/B07KX1S161/ref=cm_cr_dp_d_show_all_btm?ie=UTF8&reviewerType=all_reviews&pageNumber=8\n",
      "https://www.amazon.in/Vivo-Fusion-Storage-Additional-Exchange/product-reviews/B07KX1S161/ref=cm_cr_dp_d_show_all_btm?ie=UTF8&reviewerType=all_reviews&pageNumber=9\n",
      "https://www.amazon.in/Samsung-Galaxy-Storage-Additional-Exchange/product-reviews/B086KCCMCP/ref=cm_cr_dp_d_show_all_btm?ie=UTF8&reviewerType=all_reviews&pageNumber=0\n",
      "https://www.amazon.in/Samsung-Galaxy-Storage-Additional-Exchange/product-reviews/B086KCCMCP/ref=cm_cr_dp_d_show_all_btm?ie=UTF8&reviewerType=all_reviews&pageNumber=1\n",
      "https://www.amazon.in/Samsung-Galaxy-Storage-Additional-Exchange/product-reviews/B086KCCMCP/ref=cm_cr_dp_d_show_all_btm?ie=UTF8&reviewerType=all_reviews&pageNumber=2\n",
      "https://www.amazon.in/Samsung-Galaxy-Storage-Additional-Exchange/product-reviews/B086KCCMCP/ref=cm_cr_dp_d_show_all_btm?ie=UTF8&reviewerType=all_reviews&pageNumber=3\n",
      "https://www.amazon.in/Samsung-Galaxy-Storage-Additional-Exchange/product-reviews/B086KCCMCP/ref=cm_cr_dp_d_show_all_btm?ie=UTF8&reviewerType=all_reviews&pageNumber=4\n",
      "https://www.amazon.in/Samsung-Galaxy-Storage-Additional-Exchange/product-reviews/B086KCCMCP/ref=cm_cr_dp_d_show_all_btm?ie=UTF8&reviewerType=all_reviews&pageNumber=5\n"
     ]
    },
    {
     "name": "stdout",
     "output_type": "stream",
     "text": [
      "https://www.amazon.in/Samsung-Galaxy-Storage-Additional-Exchange/product-reviews/B086KCCMCP/ref=cm_cr_dp_d_show_all_btm?ie=UTF8&reviewerType=all_reviews&pageNumber=6\n",
      "https://www.amazon.in/Samsung-Galaxy-Storage-Additional-Exchange/product-reviews/B086KCCMCP/ref=cm_cr_dp_d_show_all_btm?ie=UTF8&reviewerType=all_reviews&pageNumber=7\n",
      "https://www.amazon.in/Samsung-Galaxy-Storage-Additional-Exchange/product-reviews/B086KCCMCP/ref=cm_cr_dp_d_show_all_btm?ie=UTF8&reviewerType=all_reviews&pageNumber=8\n",
      "https://www.amazon.in/Samsung-Galaxy-Storage-Additional-Exchange/product-reviews/B086KCCMCP/ref=cm_cr_dp_d_show_all_btm?ie=UTF8&reviewerType=all_reviews&pageNumber=9\n",
      "https://www.amazon.in/Redmi-Sky-Blue-64GB-Storage/product-reviews/B08697N43N/ref=cm_cr_dp_d_show_all_btm?ie=UTF8&reviewerType=all_reviews&pageNumber=0\n",
      "https://www.amazon.in/Redmi-Sky-Blue-64GB-Storage/product-reviews/B08697N43N/ref=cm_cr_dp_d_show_all_btm?ie=UTF8&reviewerType=all_reviews&pageNumber=1\n",
      "https://www.amazon.in/Redmi-Sky-Blue-64GB-Storage/product-reviews/B08697N43N/ref=cm_cr_dp_d_show_all_btm?ie=UTF8&reviewerType=all_reviews&pageNumber=2\n",
      "https://www.amazon.in/Redmi-Sky-Blue-64GB-Storage/product-reviews/B08697N43N/ref=cm_cr_dp_d_show_all_btm?ie=UTF8&reviewerType=all_reviews&pageNumber=3\n",
      "https://www.amazon.in/Redmi-Sky-Blue-64GB-Storage/product-reviews/B08697N43N/ref=cm_cr_dp_d_show_all_btm?ie=UTF8&reviewerType=all_reviews&pageNumber=4\n",
      "https://www.amazon.in/Redmi-Sky-Blue-64GB-Storage/product-reviews/B08697N43N/ref=cm_cr_dp_d_show_all_btm?ie=UTF8&reviewerType=all_reviews&pageNumber=5\n",
      "https://www.amazon.in/Redmi-Sky-Blue-64GB-Storage/product-reviews/B08697N43N/ref=cm_cr_dp_d_show_all_btm?ie=UTF8&reviewerType=all_reviews&pageNumber=6\n",
      "https://www.amazon.in/Redmi-Sky-Blue-64GB-Storage/product-reviews/B08697N43N/ref=cm_cr_dp_d_show_all_btm?ie=UTF8&reviewerType=all_reviews&pageNumber=7\n",
      "https://www.amazon.in/Redmi-Sky-Blue-64GB-Storage/product-reviews/B08697N43N/ref=cm_cr_dp_d_show_all_btm?ie=UTF8&reviewerType=all_reviews&pageNumber=8\n",
      "https://www.amazon.in/Redmi-Sky-Blue-64GB-Storage/product-reviews/B08697N43N/ref=cm_cr_dp_d_show_all_btm?ie=UTF8&reviewerType=all_reviews&pageNumber=9\n",
      "https://www.amazon.in/Redmi-9A-2GB-32GB-Storage/product-reviews/B08696XB4B/ref=cm_cr_dp_d_show_all_btm?ie=UTF8&reviewerType=all_reviews&pageNumber=0\n",
      "https://www.amazon.in/Redmi-9A-2GB-32GB-Storage/product-reviews/B08696XB4B/ref=cm_cr_dp_d_show_all_btm?ie=UTF8&reviewerType=all_reviews&pageNumber=1\n",
      "https://www.amazon.in/Redmi-9A-2GB-32GB-Storage/product-reviews/B08696XB4B/ref=cm_cr_dp_d_show_all_btm?ie=UTF8&reviewerType=all_reviews&pageNumber=2\n",
      "https://www.amazon.in/Redmi-9A-2GB-32GB-Storage/product-reviews/B08696XB4B/ref=cm_cr_dp_d_show_all_btm?ie=UTF8&reviewerType=all_reviews&pageNumber=3\n",
      "https://www.amazon.in/Redmi-9A-2GB-32GB-Storage/product-reviews/B08696XB4B/ref=cm_cr_dp_d_show_all_btm?ie=UTF8&reviewerType=all_reviews&pageNumber=4\n",
      "https://www.amazon.in/Redmi-9A-2GB-32GB-Storage/product-reviews/B08696XB4B/ref=cm_cr_dp_d_show_all_btm?ie=UTF8&reviewerType=all_reviews&pageNumber=5\n",
      "https://www.amazon.in/Redmi-9A-2GB-32GB-Storage/product-reviews/B08696XB4B/ref=cm_cr_dp_d_show_all_btm?ie=UTF8&reviewerType=all_reviews&pageNumber=6\n",
      "https://www.amazon.in/Redmi-9A-2GB-32GB-Storage/product-reviews/B08696XB4B/ref=cm_cr_dp_d_show_all_btm?ie=UTF8&reviewerType=all_reviews&pageNumber=7\n",
      "https://www.amazon.in/Redmi-9A-2GB-32GB-Storage/product-reviews/B08696XB4B/ref=cm_cr_dp_d_show_all_btm?ie=UTF8&reviewerType=all_reviews&pageNumber=8\n",
      "https://www.amazon.in/Redmi-9A-2GB-32GB-Storage/product-reviews/B08696XB4B/ref=cm_cr_dp_d_show_all_btm?ie=UTF8&reviewerType=all_reviews&pageNumber=9\n",
      "https://www.amazon.in/Samsung-Galaxy-Ocean-128GB-Storage/product-reviews/B07HGGYWL6/ref=cm_cr_dp_d_show_all_btm?ie=UTF8&reviewerType=all_reviews&pageNumber=0\n",
      "https://www.amazon.in/Samsung-Galaxy-Ocean-128GB-Storage/product-reviews/B07HGGYWL6/ref=cm_cr_dp_d_show_all_btm?ie=UTF8&reviewerType=all_reviews&pageNumber=1\n",
      "https://www.amazon.in/Samsung-Galaxy-Ocean-128GB-Storage/product-reviews/B07HGGYWL6/ref=cm_cr_dp_d_show_all_btm?ie=UTF8&reviewerType=all_reviews&pageNumber=2\n",
      "https://www.amazon.in/Samsung-Galaxy-Ocean-128GB-Storage/product-reviews/B07HGGYWL6/ref=cm_cr_dp_d_show_all_btm?ie=UTF8&reviewerType=all_reviews&pageNumber=3\n",
      "https://www.amazon.in/Samsung-Galaxy-Ocean-128GB-Storage/product-reviews/B07HGGYWL6/ref=cm_cr_dp_d_show_all_btm?ie=UTF8&reviewerType=all_reviews&pageNumber=4\n",
      "https://www.amazon.in/Samsung-Galaxy-Ocean-128GB-Storage/product-reviews/B07HGGYWL6/ref=cm_cr_dp_d_show_all_btm?ie=UTF8&reviewerType=all_reviews&pageNumber=5\n",
      "https://www.amazon.in/Samsung-Galaxy-Ocean-128GB-Storage/product-reviews/B07HGGYWL6/ref=cm_cr_dp_d_show_all_btm?ie=UTF8&reviewerType=all_reviews&pageNumber=6\n",
      "https://www.amazon.in/Samsung-Galaxy-Ocean-128GB-Storage/product-reviews/B07HGGYWL6/ref=cm_cr_dp_d_show_all_btm?ie=UTF8&reviewerType=all_reviews&pageNumber=7\n",
      "https://www.amazon.in/Samsung-Galaxy-Ocean-128GB-Storage/product-reviews/B07HGGYWL6/ref=cm_cr_dp_d_show_all_btm?ie=UTF8&reviewerType=all_reviews&pageNumber=8\n",
      "https://www.amazon.in/Samsung-Galaxy-Ocean-128GB-Storage/product-reviews/B07HGGYWL6/ref=cm_cr_dp_d_show_all_btm?ie=UTF8&reviewerType=all_reviews&pageNumber=9\n",
      "https://www.amazon.in/Redmi-Note-Pebble-Grey-Storage/product-reviews/B086977TR6/ref=cm_cr_dp_d_show_all_btm?ie=UTF8&reviewerType=all_reviews&pageNumber=0\n",
      "https://www.amazon.in/Redmi-Note-Pebble-Grey-Storage/product-reviews/B086977TR6/ref=cm_cr_dp_d_show_all_btm?ie=UTF8&reviewerType=all_reviews&pageNumber=1\n",
      "https://www.amazon.in/Redmi-Note-Pebble-Grey-Storage/product-reviews/B086977TR6/ref=cm_cr_dp_d_show_all_btm?ie=UTF8&reviewerType=all_reviews&pageNumber=2\n",
      "https://www.amazon.in/Redmi-Note-Pebble-Grey-Storage/product-reviews/B086977TR6/ref=cm_cr_dp_d_show_all_btm?ie=UTF8&reviewerType=all_reviews&pageNumber=3\n",
      "https://www.amazon.in/Redmi-Note-Pebble-Grey-Storage/product-reviews/B086977TR6/ref=cm_cr_dp_d_show_all_btm?ie=UTF8&reviewerType=all_reviews&pageNumber=4\n",
      "https://www.amazon.in/Redmi-Note-Pebble-Grey-Storage/product-reviews/B086977TR6/ref=cm_cr_dp_d_show_all_btm?ie=UTF8&reviewerType=all_reviews&pageNumber=5\n",
      "https://www.amazon.in/Redmi-Note-Pebble-Grey-Storage/product-reviews/B086977TR6/ref=cm_cr_dp_d_show_all_btm?ie=UTF8&reviewerType=all_reviews&pageNumber=6\n",
      "https://www.amazon.in/Redmi-Note-Pebble-Grey-Storage/product-reviews/B086977TR6/ref=cm_cr_dp_d_show_all_btm?ie=UTF8&reviewerType=all_reviews&pageNumber=7\n",
      "https://www.amazon.in/Redmi-Note-Pebble-Grey-Storage/product-reviews/B086977TR6/ref=cm_cr_dp_d_show_all_btm?ie=UTF8&reviewerType=all_reviews&pageNumber=8\n",
      "https://www.amazon.in/Redmi-Note-Pebble-Grey-Storage/product-reviews/B086977TR6/ref=cm_cr_dp_d_show_all_btm?ie=UTF8&reviewerType=all_reviews&pageNumber=9\n",
      "https://www.amazon.in/Oppo-Mystery-Storage-Additional-Exchange/product-reviews/B08444S68L/ref=cm_cr_dp_d_show_all_btm?ie=UTF8&reviewerType=all_reviews&pageNumber=0\n",
      "https://www.amazon.in/Oppo-Mystery-Storage-Additional-Exchange/product-reviews/B08444S68L/ref=cm_cr_dp_d_show_all_btm?ie=UTF8&reviewerType=all_reviews&pageNumber=1\n",
      "https://www.amazon.in/Oppo-Mystery-Storage-Additional-Exchange/product-reviews/B08444S68L/ref=cm_cr_dp_d_show_all_btm?ie=UTF8&reviewerType=all_reviews&pageNumber=2\n",
      "https://www.amazon.in/Oppo-Mystery-Storage-Additional-Exchange/product-reviews/B08444S68L/ref=cm_cr_dp_d_show_all_btm?ie=UTF8&reviewerType=all_reviews&pageNumber=3\n",
      "https://www.amazon.in/Oppo-Mystery-Storage-Additional-Exchange/product-reviews/B08444S68L/ref=cm_cr_dp_d_show_all_btm?ie=UTF8&reviewerType=all_reviews&pageNumber=4\n",
      "https://www.amazon.in/Oppo-Mystery-Storage-Additional-Exchange/product-reviews/B08444S68L/ref=cm_cr_dp_d_show_all_btm?ie=UTF8&reviewerType=all_reviews&pageNumber=5\n",
      "https://www.amazon.in/Oppo-Mystery-Storage-Additional-Exchange/product-reviews/B08444S68L/ref=cm_cr_dp_d_show_all_btm?ie=UTF8&reviewerType=all_reviews&pageNumber=6\n",
      "https://www.amazon.in/Oppo-Mystery-Storage-Additional-Exchange/product-reviews/B08444S68L/ref=cm_cr_dp_d_show_all_btm?ie=UTF8&reviewerType=all_reviews&pageNumber=7\n",
      "https://www.amazon.in/Oppo-Mystery-Storage-Additional-Exchange/product-reviews/B08444S68L/ref=cm_cr_dp_d_show_all_btm?ie=UTF8&reviewerType=all_reviews&pageNumber=8\n"
     ]
    },
    {
     "name": "stdout",
     "output_type": "stream",
     "text": [
      "https://www.amazon.in/Oppo-Mystery-Storage-Additional-Exchange/product-reviews/B08444S68L/ref=cm_cr_dp_d_show_all_btm?ie=UTF8&reviewerType=all_reviews&pageNumber=9\n",
      "https://www.amazon.in/Redmi-Carbon-Black-64GB-Storage/product-reviews/B086985T6R/ref=cm_cr_dp_d_show_all_btm?ie=UTF8&reviewerType=all_reviews&pageNumber=0\n",
      "https://www.amazon.in/Redmi-Carbon-Black-64GB-Storage/product-reviews/B086985T6R/ref=cm_cr_dp_d_show_all_btm?ie=UTF8&reviewerType=all_reviews&pageNumber=1\n",
      "https://www.amazon.in/Redmi-Carbon-Black-64GB-Storage/product-reviews/B086985T6R/ref=cm_cr_dp_d_show_all_btm?ie=UTF8&reviewerType=all_reviews&pageNumber=2\n",
      "https://www.amazon.in/Redmi-Carbon-Black-64GB-Storage/product-reviews/B086985T6R/ref=cm_cr_dp_d_show_all_btm?ie=UTF8&reviewerType=all_reviews&pageNumber=3\n",
      "https://www.amazon.in/Redmi-Carbon-Black-64GB-Storage/product-reviews/B086985T6R/ref=cm_cr_dp_d_show_all_btm?ie=UTF8&reviewerType=all_reviews&pageNumber=4\n",
      "https://www.amazon.in/Redmi-Carbon-Black-64GB-Storage/product-reviews/B086985T6R/ref=cm_cr_dp_d_show_all_btm?ie=UTF8&reviewerType=all_reviews&pageNumber=5\n",
      "https://www.amazon.in/Redmi-Carbon-Black-64GB-Storage/product-reviews/B086985T6R/ref=cm_cr_dp_d_show_all_btm?ie=UTF8&reviewerType=all_reviews&pageNumber=6\n",
      "https://www.amazon.in/Redmi-Carbon-Black-64GB-Storage/product-reviews/B086985T6R/ref=cm_cr_dp_d_show_all_btm?ie=UTF8&reviewerType=all_reviews&pageNumber=7\n",
      "https://www.amazon.in/Redmi-Carbon-Black-64GB-Storage/product-reviews/B086985T6R/ref=cm_cr_dp_d_show_all_btm?ie=UTF8&reviewerType=all_reviews&pageNumber=8\n",
      "https://www.amazon.in/Redmi-Carbon-Black-64GB-Storage/product-reviews/B086985T6R/ref=cm_cr_dp_d_show_all_btm?ie=UTF8&reviewerType=all_reviews&pageNumber=9\n",
      "https://www.amazon.in/Samsung-Galaxy-Storage-Additional-Exchange/product-reviews/B089MQ622N/ref=cm_cr_dp_d_show_all_btm?ie=UTF8&reviewerType=all_reviews&pageNumber=0\n",
      "https://www.amazon.in/Samsung-Galaxy-Storage-Additional-Exchange/product-reviews/B089MQ622N/ref=cm_cr_dp_d_show_all_btm?ie=UTF8&reviewerType=all_reviews&pageNumber=1\n",
      "https://www.amazon.in/Samsung-Galaxy-Storage-Additional-Exchange/product-reviews/B089MQ622N/ref=cm_cr_dp_d_show_all_btm?ie=UTF8&reviewerType=all_reviews&pageNumber=2\n",
      "https://www.amazon.in/Samsung-Galaxy-Storage-Additional-Exchange/product-reviews/B089MQ622N/ref=cm_cr_dp_d_show_all_btm?ie=UTF8&reviewerType=all_reviews&pageNumber=3\n",
      "https://www.amazon.in/Samsung-Galaxy-Storage-Additional-Exchange/product-reviews/B089MQ622N/ref=cm_cr_dp_d_show_all_btm?ie=UTF8&reviewerType=all_reviews&pageNumber=4\n",
      "https://www.amazon.in/Samsung-Galaxy-Storage-Additional-Exchange/product-reviews/B089MQ622N/ref=cm_cr_dp_d_show_all_btm?ie=UTF8&reviewerType=all_reviews&pageNumber=5\n",
      "https://www.amazon.in/Samsung-Galaxy-Storage-Additional-Exchange/product-reviews/B089MQ622N/ref=cm_cr_dp_d_show_all_btm?ie=UTF8&reviewerType=all_reviews&pageNumber=6\n",
      "https://www.amazon.in/Samsung-Galaxy-Storage-Additional-Exchange/product-reviews/B089MQ622N/ref=cm_cr_dp_d_show_all_btm?ie=UTF8&reviewerType=all_reviews&pageNumber=7\n",
      "https://www.amazon.in/Samsung-Galaxy-Storage-Additional-Exchange/product-reviews/B089MQ622N/ref=cm_cr_dp_d_show_all_btm?ie=UTF8&reviewerType=all_reviews&pageNumber=8\n",
      "https://www.amazon.in/Samsung-Galaxy-Storage-Additional-Exchange/product-reviews/B089MQ622N/ref=cm_cr_dp_d_show_all_btm?ie=UTF8&reviewerType=all_reviews&pageNumber=9\n",
      "https://www.amazon.in/Samsung-Galaxy-Midnight-Blue-Storage/product-reviews/B07HGJJ559/ref=cm_cr_dp_d_show_all_btm?ie=UTF8&reviewerType=all_reviews&pageNumber=0\n",
      "https://www.amazon.in/Samsung-Galaxy-Midnight-Blue-Storage/product-reviews/B07HGJJ559/ref=cm_cr_dp_d_show_all_btm?ie=UTF8&reviewerType=all_reviews&pageNumber=1\n",
      "https://www.amazon.in/Samsung-Galaxy-Midnight-Blue-Storage/product-reviews/B07HGJJ559/ref=cm_cr_dp_d_show_all_btm?ie=UTF8&reviewerType=all_reviews&pageNumber=2\n",
      "https://www.amazon.in/Samsung-Galaxy-Midnight-Blue-Storage/product-reviews/B07HGJJ559/ref=cm_cr_dp_d_show_all_btm?ie=UTF8&reviewerType=all_reviews&pageNumber=3\n",
      "https://www.amazon.in/Samsung-Galaxy-Midnight-Blue-Storage/product-reviews/B07HGJJ559/ref=cm_cr_dp_d_show_all_btm?ie=UTF8&reviewerType=all_reviews&pageNumber=4\n",
      "https://www.amazon.in/Samsung-Galaxy-Midnight-Blue-Storage/product-reviews/B07HGJJ559/ref=cm_cr_dp_d_show_all_btm?ie=UTF8&reviewerType=all_reviews&pageNumber=5\n",
      "https://www.amazon.in/Samsung-Galaxy-Midnight-Blue-Storage/product-reviews/B07HGJJ559/ref=cm_cr_dp_d_show_all_btm?ie=UTF8&reviewerType=all_reviews&pageNumber=6\n",
      "https://www.amazon.in/Samsung-Galaxy-Midnight-Blue-Storage/product-reviews/B07HGJJ559/ref=cm_cr_dp_d_show_all_btm?ie=UTF8&reviewerType=all_reviews&pageNumber=7\n",
      "https://www.amazon.in/Samsung-Galaxy-Midnight-Blue-Storage/product-reviews/B07HGJJ559/ref=cm_cr_dp_d_show_all_btm?ie=UTF8&reviewerType=all_reviews&pageNumber=8\n",
      "https://www.amazon.in/Samsung-Galaxy-Midnight-Blue-Storage/product-reviews/B07HGJJ559/ref=cm_cr_dp_d_show_all_btm?ie=UTF8&reviewerType=all_reviews&pageNumber=9\n",
      "https://www.amazon.in/Samsung-Galaxy-Space-Black-Storage/product-reviews/B07HGN617M/ref=cm_cr_dp_d_show_all_btm?ie=UTF8&reviewerType=all_reviews&pageNumber=0\n",
      "https://www.amazon.in/Samsung-Galaxy-Space-Black-Storage/product-reviews/B07HGN617M/ref=cm_cr_dp_d_show_all_btm?ie=UTF8&reviewerType=all_reviews&pageNumber=1\n",
      "https://www.amazon.in/Samsung-Galaxy-Space-Black-Storage/product-reviews/B07HGN617M/ref=cm_cr_dp_d_show_all_btm?ie=UTF8&reviewerType=all_reviews&pageNumber=2\n",
      "https://www.amazon.in/Samsung-Galaxy-Space-Black-Storage/product-reviews/B07HGN617M/ref=cm_cr_dp_d_show_all_btm?ie=UTF8&reviewerType=all_reviews&pageNumber=3\n",
      "https://www.amazon.in/Samsung-Galaxy-Space-Black-Storage/product-reviews/B07HGN617M/ref=cm_cr_dp_d_show_all_btm?ie=UTF8&reviewerType=all_reviews&pageNumber=4\n",
      "https://www.amazon.in/Samsung-Galaxy-Space-Black-Storage/product-reviews/B07HGN617M/ref=cm_cr_dp_d_show_all_btm?ie=UTF8&reviewerType=all_reviews&pageNumber=5\n",
      "https://www.amazon.in/Samsung-Galaxy-Space-Black-Storage/product-reviews/B07HGN617M/ref=cm_cr_dp_d_show_all_btm?ie=UTF8&reviewerType=all_reviews&pageNumber=6\n",
      "https://www.amazon.in/Samsung-Galaxy-Space-Black-Storage/product-reviews/B07HGN617M/ref=cm_cr_dp_d_show_all_btm?ie=UTF8&reviewerType=all_reviews&pageNumber=7\n",
      "https://www.amazon.in/Samsung-Galaxy-Space-Black-Storage/product-reviews/B07HGN617M/ref=cm_cr_dp_d_show_all_btm?ie=UTF8&reviewerType=all_reviews&pageNumber=8\n",
      "https://www.amazon.in/Samsung-Galaxy-Space-Black-Storage/product-reviews/B07HGN617M/ref=cm_cr_dp_d_show_all_btm?ie=UTF8&reviewerType=all_reviews&pageNumber=9\n",
      "https://www.amazon.in/Panasonic-Storage-Finger-4000mAh-Battery/product-reviews/B08BV2T63X/ref=cm_cr_dp_d_show_all_btm?ie=UTF8&reviewerType=all_reviews&pageNumber=0\n",
      "https://www.amazon.in/Panasonic-Storage-Finger-4000mAh-Battery/product-reviews/B08BV2T63X/ref=cm_cr_dp_d_show_all_btm?ie=UTF8&reviewerType=all_reviews&pageNumber=1\n",
      "https://www.amazon.in/Panasonic-Storage-Finger-4000mAh-Battery/product-reviews/B08BV2T63X/ref=cm_cr_dp_d_show_all_btm?ie=UTF8&reviewerType=all_reviews&pageNumber=2\n",
      "https://www.amazon.in/Panasonic-Storage-Finger-4000mAh-Battery/product-reviews/B08BV2T63X/ref=cm_cr_dp_d_show_all_btm?ie=UTF8&reviewerType=all_reviews&pageNumber=3\n",
      "https://www.amazon.in/Panasonic-Storage-Finger-4000mAh-Battery/product-reviews/B08BV2T63X/ref=cm_cr_dp_d_show_all_btm?ie=UTF8&reviewerType=all_reviews&pageNumber=4\n",
      "https://www.amazon.in/Panasonic-Storage-Finger-4000mAh-Battery/product-reviews/B08BV2T63X/ref=cm_cr_dp_d_show_all_btm?ie=UTF8&reviewerType=all_reviews&pageNumber=5\n",
      "https://www.amazon.in/Panasonic-Storage-Finger-4000mAh-Battery/product-reviews/B08BV2T63X/ref=cm_cr_dp_d_show_all_btm?ie=UTF8&reviewerType=all_reviews&pageNumber=6\n",
      "https://www.amazon.in/Panasonic-Storage-Finger-4000mAh-Battery/product-reviews/B08BV2T63X/ref=cm_cr_dp_d_show_all_btm?ie=UTF8&reviewerType=all_reviews&pageNumber=7\n",
      "https://www.amazon.in/Panasonic-Storage-Finger-4000mAh-Battery/product-reviews/B08BV2T63X/ref=cm_cr_dp_d_show_all_btm?ie=UTF8&reviewerType=all_reviews&pageNumber=8\n",
      "https://www.amazon.in/Panasonic-Storage-Finger-4000mAh-Battery/product-reviews/B08BV2T63X/ref=cm_cr_dp_d_show_all_btm?ie=UTF8&reviewerType=all_reviews&pageNumber=9\n"
     ]
    },
    {
     "name": "stdout",
     "output_type": "stream",
     "text": [
      "https://www.amazon.in/Test-Exclusive_2020_1138-Multi-3GB-Storage/product-reviews/B089MTR9JW/ref=cm_cr_dp_d_show_all_btm?ie=UTF8&reviewerType=all_reviews&pageNumber=0\n",
      "https://www.amazon.in/Test-Exclusive_2020_1138-Multi-3GB-Storage/product-reviews/B089MTR9JW/ref=cm_cr_dp_d_show_all_btm?ie=UTF8&reviewerType=all_reviews&pageNumber=1\n",
      "https://www.amazon.in/Test-Exclusive_2020_1138-Multi-3GB-Storage/product-reviews/B089MTR9JW/ref=cm_cr_dp_d_show_all_btm?ie=UTF8&reviewerType=all_reviews&pageNumber=2\n",
      "https://www.amazon.in/Test-Exclusive_2020_1138-Multi-3GB-Storage/product-reviews/B089MTR9JW/ref=cm_cr_dp_d_show_all_btm?ie=UTF8&reviewerType=all_reviews&pageNumber=3\n",
      "https://www.amazon.in/Test-Exclusive_2020_1138-Multi-3GB-Storage/product-reviews/B089MTR9JW/ref=cm_cr_dp_d_show_all_btm?ie=UTF8&reviewerType=all_reviews&pageNumber=4\n",
      "https://www.amazon.in/Test-Exclusive_2020_1138-Multi-3GB-Storage/product-reviews/B089MTR9JW/ref=cm_cr_dp_d_show_all_btm?ie=UTF8&reviewerType=all_reviews&pageNumber=5\n",
      "https://www.amazon.in/Test-Exclusive_2020_1138-Multi-3GB-Storage/product-reviews/B089MTR9JW/ref=cm_cr_dp_d_show_all_btm?ie=UTF8&reviewerType=all_reviews&pageNumber=6\n",
      "https://www.amazon.in/Test-Exclusive_2020_1138-Multi-3GB-Storage/product-reviews/B089MTR9JW/ref=cm_cr_dp_d_show_all_btm?ie=UTF8&reviewerType=all_reviews&pageNumber=7\n",
      "https://www.amazon.in/Test-Exclusive_2020_1138-Multi-3GB-Storage/product-reviews/B089MTR9JW/ref=cm_cr_dp_d_show_all_btm?ie=UTF8&reviewerType=all_reviews&pageNumber=8\n",
      "https://www.amazon.in/Test-Exclusive_2020_1138-Multi-3GB-Storage/product-reviews/B089MTR9JW/ref=cm_cr_dp_d_show_all_btm?ie=UTF8&reviewerType=all_reviews&pageNumber=9\n",
      "https://www.amazon.in/Vivo-Storage-Additional-Exchange-Offers/product-reviews/B07KXCKPZZ/ref=cm_cr_dp_d_show_all_btm?ie=UTF8&reviewerType=all_reviews&pageNumber=0\n",
      "https://www.amazon.in/Vivo-Storage-Additional-Exchange-Offers/product-reviews/B07KXCKPZZ/ref=cm_cr_dp_d_show_all_btm?ie=UTF8&reviewerType=all_reviews&pageNumber=1\n",
      "https://www.amazon.in/Vivo-Storage-Additional-Exchange-Offers/product-reviews/B07KXCKPZZ/ref=cm_cr_dp_d_show_all_btm?ie=UTF8&reviewerType=all_reviews&pageNumber=2\n",
      "https://www.amazon.in/Vivo-Storage-Additional-Exchange-Offers/product-reviews/B07KXCKPZZ/ref=cm_cr_dp_d_show_all_btm?ie=UTF8&reviewerType=all_reviews&pageNumber=3\n",
      "https://www.amazon.in/Vivo-Storage-Additional-Exchange-Offers/product-reviews/B07KXCKPZZ/ref=cm_cr_dp_d_show_all_btm?ie=UTF8&reviewerType=all_reviews&pageNumber=4\n",
      "https://www.amazon.in/Vivo-Storage-Additional-Exchange-Offers/product-reviews/B07KXCKPZZ/ref=cm_cr_dp_d_show_all_btm?ie=UTF8&reviewerType=all_reviews&pageNumber=5\n",
      "https://www.amazon.in/Vivo-Storage-Additional-Exchange-Offers/product-reviews/B07KXCKPZZ/ref=cm_cr_dp_d_show_all_btm?ie=UTF8&reviewerType=all_reviews&pageNumber=6\n",
      "https://www.amazon.in/Vivo-Storage-Additional-Exchange-Offers/product-reviews/B07KXCKPZZ/ref=cm_cr_dp_d_show_all_btm?ie=UTF8&reviewerType=all_reviews&pageNumber=7\n",
      "https://www.amazon.in/Vivo-Storage-Additional-Exchange-Offers/product-reviews/B07KXCKPZZ/ref=cm_cr_dp_d_show_all_btm?ie=UTF8&reviewerType=all_reviews&pageNumber=8\n",
      "https://www.amazon.in/Vivo-Storage-Additional-Exchange-Offers/product-reviews/B07KXCKPZZ/ref=cm_cr_dp_d_show_all_btm?ie=UTF8&reviewerType=all_reviews&pageNumber=9\n",
      "https://www.amazon.in/Vivo-Mineral-Storage-Additional-Exchange/product-reviews/B07XD2FWBC/ref=cm_cr_dp_d_show_all_btm?ie=UTF8&reviewerType=all_reviews&pageNumber=0\n",
      "https://www.amazon.in/Vivo-Mineral-Storage-Additional-Exchange/product-reviews/B07XD2FWBC/ref=cm_cr_dp_d_show_all_btm?ie=UTF8&reviewerType=all_reviews&pageNumber=1\n",
      "https://www.amazon.in/Vivo-Mineral-Storage-Additional-Exchange/product-reviews/B07XD2FWBC/ref=cm_cr_dp_d_show_all_btm?ie=UTF8&reviewerType=all_reviews&pageNumber=2\n",
      "https://www.amazon.in/Vivo-Mineral-Storage-Additional-Exchange/product-reviews/B07XD2FWBC/ref=cm_cr_dp_d_show_all_btm?ie=UTF8&reviewerType=all_reviews&pageNumber=3\n",
      "https://www.amazon.in/Vivo-Mineral-Storage-Additional-Exchange/product-reviews/B07XD2FWBC/ref=cm_cr_dp_d_show_all_btm?ie=UTF8&reviewerType=all_reviews&pageNumber=4\n",
      "https://www.amazon.in/Vivo-Mineral-Storage-Additional-Exchange/product-reviews/B07XD2FWBC/ref=cm_cr_dp_d_show_all_btm?ie=UTF8&reviewerType=all_reviews&pageNumber=5\n",
      "https://www.amazon.in/Vivo-Mineral-Storage-Additional-Exchange/product-reviews/B07XD2FWBC/ref=cm_cr_dp_d_show_all_btm?ie=UTF8&reviewerType=all_reviews&pageNumber=6\n",
      "https://www.amazon.in/Vivo-Mineral-Storage-Additional-Exchange/product-reviews/B07XD2FWBC/ref=cm_cr_dp_d_show_all_btm?ie=UTF8&reviewerType=all_reviews&pageNumber=7\n",
      "https://www.amazon.in/Vivo-Mineral-Storage-Additional-Exchange/product-reviews/B07XD2FWBC/ref=cm_cr_dp_d_show_all_btm?ie=UTF8&reviewerType=all_reviews&pageNumber=8\n",
      "https://www.amazon.in/Vivo-Mineral-Storage-Additional-Exchange/product-reviews/B07XD2FWBC/ref=cm_cr_dp_d_show_all_btm?ie=UTF8&reviewerType=all_reviews&pageNumber=9\n",
      "https://www.amazon.in/Samsung-Galaxy-Black-32GB-Storage/product-reviews/B08T2QR7NK/ref=cm_cr_dp_d_show_all_btm?ie=UTF8&reviewerType=all_reviews&pageNumber=0\n",
      "https://www.amazon.in/Samsung-Galaxy-Black-32GB-Storage/product-reviews/B08T2QR7NK/ref=cm_cr_dp_d_show_all_btm?ie=UTF8&reviewerType=all_reviews&pageNumber=1\n",
      "https://www.amazon.in/Samsung-Galaxy-Black-32GB-Storage/product-reviews/B08T2QR7NK/ref=cm_cr_dp_d_show_all_btm?ie=UTF8&reviewerType=all_reviews&pageNumber=2\n",
      "https://www.amazon.in/Samsung-Galaxy-Black-32GB-Storage/product-reviews/B08T2QR7NK/ref=cm_cr_dp_d_show_all_btm?ie=UTF8&reviewerType=all_reviews&pageNumber=3\n",
      "https://www.amazon.in/Samsung-Galaxy-Black-32GB-Storage/product-reviews/B08T2QR7NK/ref=cm_cr_dp_d_show_all_btm?ie=UTF8&reviewerType=all_reviews&pageNumber=4\n",
      "https://www.amazon.in/Samsung-Galaxy-Black-32GB-Storage/product-reviews/B08T2QR7NK/ref=cm_cr_dp_d_show_all_btm?ie=UTF8&reviewerType=all_reviews&pageNumber=5\n",
      "https://www.amazon.in/Samsung-Galaxy-Black-32GB-Storage/product-reviews/B08T2QR7NK/ref=cm_cr_dp_d_show_all_btm?ie=UTF8&reviewerType=all_reviews&pageNumber=6\n",
      "https://www.amazon.in/Samsung-Galaxy-Black-32GB-Storage/product-reviews/B08T2QR7NK/ref=cm_cr_dp_d_show_all_btm?ie=UTF8&reviewerType=all_reviews&pageNumber=7\n",
      "https://www.amazon.in/Samsung-Galaxy-Black-32GB-Storage/product-reviews/B08T2QR7NK/ref=cm_cr_dp_d_show_all_btm?ie=UTF8&reviewerType=all_reviews&pageNumber=8\n",
      "https://www.amazon.in/Samsung-Galaxy-Black-32GB-Storage/product-reviews/B08T2QR7NK/ref=cm_cr_dp_d_show_all_btm?ie=UTF8&reviewerType=all_reviews&pageNumber=9\n",
      "https://www.amazon.in/Vivo-Fusion-Storage-Additional-Exchange/product-reviews/B07KX1S161/ref=cm_cr_dp_d_show_all_btm?ie=UTF8&reviewerType=all_reviews&pageNumber=0\n",
      "https://www.amazon.in/Vivo-Fusion-Storage-Additional-Exchange/product-reviews/B07KX1S161/ref=cm_cr_dp_d_show_all_btm?ie=UTF8&reviewerType=all_reviews&pageNumber=1\n",
      "https://www.amazon.in/Vivo-Fusion-Storage-Additional-Exchange/product-reviews/B07KX1S161/ref=cm_cr_dp_d_show_all_btm?ie=UTF8&reviewerType=all_reviews&pageNumber=2\n",
      "https://www.amazon.in/Vivo-Fusion-Storage-Additional-Exchange/product-reviews/B07KX1S161/ref=cm_cr_dp_d_show_all_btm?ie=UTF8&reviewerType=all_reviews&pageNumber=3\n",
      "https://www.amazon.in/Vivo-Fusion-Storage-Additional-Exchange/product-reviews/B07KX1S161/ref=cm_cr_dp_d_show_all_btm?ie=UTF8&reviewerType=all_reviews&pageNumber=4\n",
      "https://www.amazon.in/Vivo-Fusion-Storage-Additional-Exchange/product-reviews/B07KX1S161/ref=cm_cr_dp_d_show_all_btm?ie=UTF8&reviewerType=all_reviews&pageNumber=5\n",
      "https://www.amazon.in/Vivo-Fusion-Storage-Additional-Exchange/product-reviews/B07KX1S161/ref=cm_cr_dp_d_show_all_btm?ie=UTF8&reviewerType=all_reviews&pageNumber=6\n",
      "https://www.amazon.in/Vivo-Fusion-Storage-Additional-Exchange/product-reviews/B07KX1S161/ref=cm_cr_dp_d_show_all_btm?ie=UTF8&reviewerType=all_reviews&pageNumber=7\n",
      "https://www.amazon.in/Vivo-Fusion-Storage-Additional-Exchange/product-reviews/B07KX1S161/ref=cm_cr_dp_d_show_all_btm?ie=UTF8&reviewerType=all_reviews&pageNumber=8\n",
      "https://www.amazon.in/Vivo-Fusion-Storage-Additional-Exchange/product-reviews/B07KX1S161/ref=cm_cr_dp_d_show_all_btm?ie=UTF8&reviewerType=all_reviews&pageNumber=9\n",
      "https://www.amazon.in/Samsung-Galaxy-Storage-Additional-Exchange/product-reviews/B086KCCMCP/ref=cm_cr_dp_d_show_all_btm?ie=UTF8&reviewerType=all_reviews&pageNumber=0\n"
     ]
    },
    {
     "name": "stdout",
     "output_type": "stream",
     "text": [
      "https://www.amazon.in/Samsung-Galaxy-Storage-Additional-Exchange/product-reviews/B086KCCMCP/ref=cm_cr_dp_d_show_all_btm?ie=UTF8&reviewerType=all_reviews&pageNumber=1\n",
      "https://www.amazon.in/Samsung-Galaxy-Storage-Additional-Exchange/product-reviews/B086KCCMCP/ref=cm_cr_dp_d_show_all_btm?ie=UTF8&reviewerType=all_reviews&pageNumber=2\n",
      "https://www.amazon.in/Samsung-Galaxy-Storage-Additional-Exchange/product-reviews/B086KCCMCP/ref=cm_cr_dp_d_show_all_btm?ie=UTF8&reviewerType=all_reviews&pageNumber=3\n",
      "https://www.amazon.in/Samsung-Galaxy-Storage-Additional-Exchange/product-reviews/B086KCCMCP/ref=cm_cr_dp_d_show_all_btm?ie=UTF8&reviewerType=all_reviews&pageNumber=4\n",
      "https://www.amazon.in/Samsung-Galaxy-Storage-Additional-Exchange/product-reviews/B086KCCMCP/ref=cm_cr_dp_d_show_all_btm?ie=UTF8&reviewerType=all_reviews&pageNumber=5\n",
      "https://www.amazon.in/Samsung-Galaxy-Storage-Additional-Exchange/product-reviews/B086KCCMCP/ref=cm_cr_dp_d_show_all_btm?ie=UTF8&reviewerType=all_reviews&pageNumber=6\n",
      "https://www.amazon.in/Samsung-Galaxy-Storage-Additional-Exchange/product-reviews/B086KCCMCP/ref=cm_cr_dp_d_show_all_btm?ie=UTF8&reviewerType=all_reviews&pageNumber=7\n",
      "https://www.amazon.in/Samsung-Galaxy-Storage-Additional-Exchange/product-reviews/B086KCCMCP/ref=cm_cr_dp_d_show_all_btm?ie=UTF8&reviewerType=all_reviews&pageNumber=8\n",
      "https://www.amazon.in/Samsung-Galaxy-Storage-Additional-Exchange/product-reviews/B086KCCMCP/ref=cm_cr_dp_d_show_all_btm?ie=UTF8&reviewerType=all_reviews&pageNumber=9\n",
      "Number of reviews: 3200\n"
     ]
    }
   ],
   "source": [
    "reviews=[]\n",
    "for j in range(len(asins)):\n",
    "    for k in range(10):\n",
    "        response=Searchreviews(links[j]+'&pageNumber='+str(k))\n",
    "        soup=BeautifulSoup(response.content)\n",
    "        titles=soup.findAll(\"a\",{'data-hook':\"review-title\"})\n",
    "        bodies=soup.findAll(\"span\",{'data-hook':\"review-body\"})\n",
    "        stars=soup.findAll(\"i\",{'data-hook':\"review-star-rating\"})\n",
    "        for i in range(len(titles)):\n",
    "            reviews.append([mobile_names[j],asins[j],titles[i].text,  bodies[i].text,  int(stars[i].text[0])])  \n",
    "print('Number of reviews:',len(reviews))"
   ]
  },
  {
   "cell_type": "code",
   "execution_count": 178,
   "metadata": {},
   "outputs": [
    {
     "name": "stdout",
     "output_type": "stream",
     "text": [
      "(3200, 5)\n"
     ]
    }
   ],
   "source": [
    "review_data = pd.DataFrame(reviews, columns = ['mobile_names','asin','title', 'body','star'])  \n",
    "print(review_data.shape)"
   ]
  },
  {
   "cell_type": "code",
   "execution_count": 179,
   "metadata": {},
   "outputs": [
    {
     "data": {
      "text/html": [
       "<div>\n",
       "<style scoped>\n",
       "    .dataframe tbody tr th:only-of-type {\n",
       "        vertical-align: middle;\n",
       "    }\n",
       "\n",
       "    .dataframe tbody tr th {\n",
       "        vertical-align: top;\n",
       "    }\n",
       "\n",
       "    .dataframe thead th {\n",
       "        text-align: right;\n",
       "    }\n",
       "</style>\n",
       "<table border=\"1\" class=\"dataframe\">\n",
       "  <thead>\n",
       "    <tr style=\"text-align: right;\">\n",
       "      <th></th>\n",
       "      <th>mobile_names</th>\n",
       "      <th>asin</th>\n",
       "      <th>title</th>\n",
       "      <th>body</th>\n",
       "      <th>star</th>\n",
       "    </tr>\n",
       "  </thead>\n",
       "  <tbody>\n",
       "    <tr>\n",
       "      <th>165</th>\n",
       "      <td>\\n\\n\\n\\n\\n\\n\\n\\nRedmi 9A (Nature Green, 2GB RA...</td>\n",
       "      <td>B08696XB4B</td>\n",
       "      <td>\\nGood\\n</td>\n",
       "      <td>\\n\\n  Good, Purchased for my dad.\\n\\n</td>\n",
       "      <td>3</td>\n",
       "    </tr>\n",
       "    <tr>\n",
       "      <th>2621</th>\n",
       "      <td>\\n\\n\\n\\n\\n\\n\\n\\nRedmi 9 Power (Mighty Black, 6...</td>\n",
       "      <td>B089MTR9JW</td>\n",
       "      <td>\\nWrost and bad product with low performance a...</td>\n",
       "      <td>\\n\\n  Phone having bad quality and hanging iss...</td>\n",
       "      <td>1</td>\n",
       "    </tr>\n",
       "    <tr>\n",
       "      <th>850</th>\n",
       "      <td>\\n\\n\\n\\n\\n\\n\\n\\nSamsung Galaxy M21 (Midnight B...</td>\n",
       "      <td>B07HGJJ559</td>\n",
       "      <td>\\nAwful service and worst phone.\\n</td>\n",
       "      <td>\\n\\n  Pathetic phone. It is overheating and I ...</td>\n",
       "      <td>1</td>\n",
       "    </tr>\n",
       "    <tr>\n",
       "      <th>2203</th>\n",
       "      <td>\\n\\n\\n\\n\\n\\n\\n\\nSamsung Galaxy M01 Core (Black...</td>\n",
       "      <td>B089MQ622N</td>\n",
       "      <td>\\nDon't buy this phone\\n</td>\n",
       "      <td>\\n\\n  Its not working. Pls don't buy this phon...</td>\n",
       "      <td>1</td>\n",
       "    </tr>\n",
       "    <tr>\n",
       "      <th>2405</th>\n",
       "      <td>\\n\\n\\n\\n\\n\\n\\n\\nSamsung Galaxy M31 (Space Blac...</td>\n",
       "      <td>B07HGN617M</td>\n",
       "      <td>\\nInferior quality and built\\n</td>\n",
       "      <td>\\n\\n  I am using it from 3 days , 6000 mah bat...</td>\n",
       "      <td>1</td>\n",
       "    </tr>\n",
       "  </tbody>\n",
       "</table>\n",
       "</div>"
      ],
      "text/plain": [
       "                                           mobile_names        asin  \\\n",
       "165   \\n\\n\\n\\n\\n\\n\\n\\nRedmi 9A (Nature Green, 2GB RA...  B08696XB4B   \n",
       "2621  \\n\\n\\n\\n\\n\\n\\n\\nRedmi 9 Power (Mighty Black, 6...  B089MTR9JW   \n",
       "850   \\n\\n\\n\\n\\n\\n\\n\\nSamsung Galaxy M21 (Midnight B...  B07HGJJ559   \n",
       "2203  \\n\\n\\n\\n\\n\\n\\n\\nSamsung Galaxy M01 Core (Black...  B089MQ622N   \n",
       "2405  \\n\\n\\n\\n\\n\\n\\n\\nSamsung Galaxy M31 (Space Blac...  B07HGN617M   \n",
       "\n",
       "                                                  title  \\\n",
       "165                                            \\nGood\\n   \n",
       "2621  \\nWrost and bad product with low performance a...   \n",
       "850                  \\nAwful service and worst phone.\\n   \n",
       "2203                           \\nDon't buy this phone\\n   \n",
       "2405                     \\nInferior quality and built\\n   \n",
       "\n",
       "                                                   body  star  \n",
       "165               \\n\\n  Good, Purchased for my dad.\\n\\n     3  \n",
       "2621  \\n\\n  Phone having bad quality and hanging iss...     1  \n",
       "850   \\n\\n  Pathetic phone. It is overheating and I ...     1  \n",
       "2203  \\n\\n  Its not working. Pls don't buy this phon...     1  \n",
       "2405  \\n\\n  I am using it from 3 days , 6000 mah bat...     1  "
      ]
     },
     "execution_count": 179,
     "metadata": {},
     "output_type": "execute_result"
    }
   ],
   "source": [
    "review_data.sample(5)"
   ]
  },
  {
   "cell_type": "code",
   "execution_count": 180,
   "metadata": {},
   "outputs": [],
   "source": [
    "# Save to CSV\n",
    "\n",
    "review_data.to_csv('raw_mobile_reviews.csv',index=False)"
   ]
  },
  {
   "cell_type": "code",
   "execution_count": null,
   "metadata": {},
   "outputs": [],
   "source": []
  }
 ],
 "metadata": {
  "kernelspec": {
   "display_name": "Python 3",
   "language": "python",
   "name": "python3"
  },
  "language_info": {
   "codemirror_mode": {
    "name": "ipython",
    "version": 3
   },
   "file_extension": ".py",
   "mimetype": "text/x-python",
   "name": "python",
   "nbconvert_exporter": "python",
   "pygments_lexer": "ipython3",
   "version": "3.7.6"
  }
 },
 "nbformat": 4,
 "nbformat_minor": 4
}
